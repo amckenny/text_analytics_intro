{
  "nbformat": 4,
  "nbformat_minor": 0,
  "metadata": {
    "colab": {
      "name": "01_welcome_to_python_and_colab.ipynb",
      "provenance": [],
      "collapsed_sections": [],
      "toc_visible": true,
      "authorship_tag": "ABX9TyO8o6XuWwpZsH0wIViAwDWR",
      "include_colab_link": true
    },
    "kernelspec": {
      "name": "python3",
      "display_name": "Python 3"
    },
    "language_info": {
      "name": "python"
    }
  },
  "cells": [
    {
      "cell_type": "markdown",
      "metadata": {
        "id": "view-in-github",
        "colab_type": "text"
      },
      "source": [
        "<a href=\"https://colab.research.google.com/github/amckenny/text_analytics_intro/blob/main/notebooks/01_welcome_to_python_and_colab.ipynb\" target=\"_parent\"><img src=\"https://colab.research.google.com/assets/colab-badge.svg\" alt=\"Open In Colab\"/></a>"
      ]
    },
    {
      "cell_type": "markdown",
      "metadata": {
        "id": "BiX9g8Ennjtp"
      },
      "source": [
        "# Module 1 - Welcome to Python and Google Colaboratory\n",
        "---"
      ]
    },
    {
      "cell_type": "markdown",
      "metadata": {
        "id": "HIdYAsnhEWX8"
      },
      "source": [
        "The goal of this notebook is to provide you with a basic level of understanding\n",
        "of Python. The idea here is not that you will necessarily be able to write a\n",
        "program in Python, but to give you the basic tools needed to understand why the\n",
        "code provided in the upcoming notebooks work.\n",
        "\n",
        "You can always go back and learn more Python, but I want to get us into the\n",
        "text analysis as quickly as possible!\n",
        "\n",
        "Learning outcomes for this module:\n",
        "\n",
        "*   Basic understanding of Google Colaboratory\n",
        "*   Foundational understanding of basic Python operations"
      ]
    },
    {
      "cell_type": "markdown",
      "metadata": {
        "id": "53is2Zg5ItYP"
      },
      "source": [
        "## 1.1. - What are Python and Google Colaboratory?\n",
        "---"
      ]
    },
    {
      "cell_type": "markdown",
      "metadata": {
        "id": "jiFN3M-DEj3C"
      },
      "source": [
        "**What is Python?** Python is a general purpose programming language. This stands in contrast to the statistical packages such as R, Stata, SAS, and SPSS you may be familiar with. On one hand, this is a fantastic thing because it affords researchers with a good amount of flexibility. For instance, this theoretically enables us to collect, clean, explore, visualize, analyze and report our data all in one tool rather than splitting this up among many tools. On the other hand, with a broader package of capabilities comes more to learn. Fortunately, Python is a very 'high level' language, which for us means it's pretty easy to learn and you can do a lot with a fairly limited amount of code.\n",
        "\n",
        "Python is an *interpreted language*. This means that you *generally* need to have Python installed on your computer in order to run Python programs (Python programs typically are files that end in '.py'). The basic Python interpreter can be downloaded at https://www.python.org/. However, for newcomers to Python, I recommend getting Anaconda, which bundles together Python with a bunch of functionality extensions (called *packages*) that are commonly used in data analysis. Anaconda can be obtained at https://www.anaconda.com/.\n",
        "\n",
        "There is a way that you can use Python *without* downloading anything: **Google Colaboratory**. Google Colaboratory (found at https://colab.research.google.com/) is an online tool where you can run Python programs on Google's computers for free. You do have to be online to use them, you have to have a Google account, and you're at Google's mercy when doing so... so if you are running something *too* data intensive, Google may shut you down. However, unless your program is running for hours on end (e.g., training deep neural networks sometimes does this) or you leave it idle for a long time, I've never had any problems.\n",
        "\n",
        "In this first section, we're going to play with Google Colaboratory a little bit."
      ]
    },
    {
      "cell_type": "markdown",
      "metadata": {
        "id": "3ICN2BedMyJH"
      },
      "source": [
        "###1.1.1. Loading and Saving Notebooks in Google Colaboratory\n",
        "\n",
        "---\n",
        "\n"
      ]
    },
    {
      "cell_type": "markdown",
      "metadata": {
        "id": "T6xStNOkEqiO"
      },
      "source": [
        "The first thing that we're going to do is load and save files. You probably recall that I earlier said that Python files end in '.py'. That's true, but there's another kind of Python file called a 'Jupyter Notebook'. Jupyter Notebooks have both textual commentary AND python code in them and allow you to run little bits of code at a time instead of the entire file all at once. Jupyter Notebooks end in '.ipynb' (which appropriately stands for Interactive Python Notebook). In fact, you'll notice that the file you're looking at now is one such notebook. In this series of modules we'll work exclusively with these notebooks.\n",
        "\n",
        "There are a few ways of opening Notebooks in Google Colaboratory. The first we'll look at is through **GitHub** Repositories. GitHub is an online repository for code, letting people share their code with and collaborate with other individuals on the Internet. Let's try opening this file again from my GitHub Repository in Google Colaboratory."
      ]
    },
    {
      "cell_type": "markdown",
      "metadata": {
        "id": "EVn3cPcSP8nY"
      },
      "source": [
        "#### 1.1.1.1. Loading a Notebook from GitHub\n",
        "---"
      ]
    },
    {
      "cell_type": "markdown",
      "metadata": {
        "id": "6SKrLS2rq0YH"
      },
      "source": [
        "Here are the steps I'd like for you to take:\n",
        "\n",
        "1.   Open a new browser tab or window (so that you can keep these instructions open!)\n",
        "2.   In that new tab/window, navigate to https://colab.research.google.com/ (If it asks you what to open, just click \"*Cancel*\")\n",
        "3.   Ensure that you are signed into your Google account (at the top right)\n",
        "4.   At the top-left click *File* -> *Open Notebook*\n",
        "5.   Click *GitHub*\n",
        "6.   Type \"*amckenny*\" into the open field and click the magnifying glass to find me.\n",
        "7.   Under \"Repository:\" ensure that \"*amckenny/text_analytics_intro*\" is selected.\n",
        "8.   Select \"*notebooks/01_welcome_to_python_and_colab.ipynb*\" from the list below.\n",
        "9.   You should see this very notebook open in that tab/window! \n",
        "\n",
        "One thing you'll notice: If you make any changes to the Notebook, you'll see a quaint gray message up by the \"Help\" menu noting that you \"Cannot save changes.\" This is good for me because I want to use this notebook with other people as well and if you change it on me, that would be difficult. However, for you, that might be a bit of a pain if you wanted to make changes for yourself. Particularly in later modules where we're playing with real data/text. This is because you're using the Notebook located in **my** GitHub.\n",
        "\n",
        "To make changes, you're going to need to save your own copy of the notebook. Let's do that next - and let's save it to your local computer."
      ]
    },
    {
      "cell_type": "markdown",
      "metadata": {
        "id": "uEdAhRFOTNIC"
      },
      "source": [
        "#### 1.1.1.2. Saving a Notebook to Your Local Computer\n",
        "---"
      ]
    },
    {
      "cell_type": "markdown",
      "metadata": {
        "id": "xPhpeiFfq3Kk"
      },
      "source": [
        "Here are the steps I'd like for you to take:\n",
        "\n",
        "1.   Go back to the browser tab where you opened this file from my GitHub in step 1.1.1.1.\n",
        "2.   At the top-left click *File* -> *Download .ipynb*.\n",
        "3.   Google Colaboratory will now save the notebook to wherever the browser you're using usually downloads file.\n",
        "4.   Go ahead and verify that *01_welcome_to_python_and_colab.ipynb* is on your computer.\n",
        "\n",
        "**A couple things to notice:** When you were in the *File* menu, you probably saw:\n",
        "\n",
        "\n",
        "*   \"*Save a copy in Drive*\" - This allows you to save a copy of the file to your Google Drive account if you are logged in.\n",
        "*   \"*Save a copy as a GitHub Gist*\" and \"*Save a copy in GitHub*\" - These options allow you to save a copy of the file to your own GitHub account as a Gist (basically, a shareable code snippet) or file (like I have it in mine). While I love GitHub, it introduces an additional layer of complexity we won't cover here.\n",
        "*   \"*Download .py*\" - I mentioned that Python code generally ends in .py. This downloads the Notebook as a traditional Python program that is not really geared toward interactive usage.\n",
        "\n",
        "Okay, now you've got it on your computer... but it still says \"Cannot save changes!\" What gives, Aaron? Well, yes you saved it, but you're still currently working on my GitHub version! Let's actually **load** what you have saved so you can save your changes.\n"
      ]
    },
    {
      "cell_type": "markdown",
      "metadata": {
        "id": "xwruHIH9ZEMG"
      },
      "source": [
        "#### 1.1.1.3. Upload a Notebook From Your Local Computer\n",
        "---\n"
      ]
    },
    {
      "cell_type": "markdown",
      "metadata": {
        "id": "oFbjA8YBq6rm"
      },
      "source": [
        "Here are the steps I'd like for you to take:\n",
        "1.   Go back to the browser tab where you saved the file in step 1.1.1.2.\n",
        "2.   Reload https://colab.research.google.com so that you no longer have the file open (*This is not strictly necessary, but because you're opening a file that looks exactly like the one already open is helpful so you can see something change*)\n",
        "3.    Go to *File* -> *Upload*\n",
        "4.    Click *Choose File* and from the window that opens, navigate to the file you downloaded.\n",
        "5.    Open the file.\n",
        "\n",
        "Now make some changes. No more \"cannot save changes\" message! That is because you're now working from your own copy of the file rather than my GitHub repository version.\n",
        "\n",
        "From now on, we'll just be working from my GitHub Repository versions. However, knowing how to save and load your own Notebooks is critical for when you start doing your own work!"
      ]
    },
    {
      "cell_type": "markdown",
      "metadata": {
        "id": "96QeUlgvc-0-"
      },
      "source": [
        "### 1.1.2. Cells in Google Colaboratory\n",
        "\n",
        "---"
      ]
    },
    {
      "cell_type": "markdown",
      "metadata": {
        "id": "N29xJAdBExXF"
      },
      "source": [
        "*You can skip down to 1.1.2.4. of this section if you want to fast track to getting your feet wet in Python, but I recommend taking a look at this at some point.*\n",
        "\n",
        "Each Notebook is just a vertical stack of cells: We'll be using 'Code' and 'Text' cells.\n",
        "\n",
        "\n",
        "*   **Text cells,** like the one you are reading right now, just contain text annotations for the Notebook you are reading. It's only used by you, the reader, and is ignored by the Python interpreter. This is handy for organizing your code into sections (e.g., collection, cleaning, analyses, etc) and for keeping notes for yourself and your coauthors.\n",
        "*   **Code cells,** like the one immediately below this (with a black background), contain the code that Python is supposed to run. You have to be careful what you type into these cells because Python looks at *everything* you type into them and tries to run it - so if you accidentally put some personal notes in there, it's going to try to run it as if it were code.\n",
        "\n"
      ]
    },
    {
      "cell_type": "code",
      "metadata": {
        "id": "gacfmtlzeg56"
      },
      "source": [
        "# This is a Code Cell\n",
        "print(\"Hello, World!\")"
      ],
      "execution_count": null,
      "outputs": []
    },
    {
      "cell_type": "markdown",
      "metadata": {
        "id": "i0Zr2Tklesov"
      },
      "source": [
        "#### 1.1.2.1. Adding a Text Cell\n",
        "---\n"
      ]
    },
    {
      "cell_type": "markdown",
      "metadata": {
        "id": "NKK47OvMrALs"
      },
      "source": [
        "Let's add a new text cell below this cell! \n",
        "\n",
        "Here are the steps I'd like for you to take:\n",
        "\n",
        "1.   Hover your mouse just on the bottom edge of this cell. When you do, you should see something like this: \n",
        "![add_a_cell.png](data:image/png;base64,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)\n",
        "2.   Click on \"*+ Text*\" to add a Text cell.\n",
        "3.   Type \"*Hello, World!*\" - as you type you'll see the same text appear below your cursor. This is so you can see how the text will look with formatting.\n",
        "4.   Click back on this cell to quit editing the Text cell.\n",
        "5.   If you'd like to continue editing the Text cell, double-click somewhere in the cell and you'll return to editing mode."
      ]
    },
    {
      "cell_type": "markdown",
      "metadata": {
        "id": "NjGZfATmhqA6"
      },
      "source": [
        "#### 1.1.2.2. Text Cell Formatting\n",
        "\n",
        "Your notebooks would get very hard to read if you left all text formatted the same. Let's add some formatting to the text cell that you added.\n",
        "\n",
        "Formatting in Notebooks is different than in say Microsoft Word, because the formatting is denoted by characters you type in rather than just buttons. You're probably calling *shenanigans* on me right now because you know you saw formatting buttons when you were creating that Text cell. *Yes*, there are buttons, but what you'll find is when you click them, they just add the formatting characters to your text.\n",
        "\n",
        "You can play around with the buttons to see different formatting options, but there are basically two approaches:\n",
        "\n",
        "Surrounding text by characters changes the format of that text:\n",
        "> \\*Italics\\* --> *Italics*\n",
        "\n",
        "> \\*\\*Bold\\*\\* --> **Bold**\n",
        "\n",
        "> \\[hyperlink](url) --> [hyperlink](url)\n",
        "\n",
        "\n",
        "Placing characters at the beginning of the line:\n",
        "> \\# Level 1 header -> biggest header (like my section 1.2 header)\n",
        "\n",
        "> \\#\\# Level 2 header -> 2nd biggest header (like my section 1.2.1. header)\n",
        "\n",
        "> \\#\\#\\# Level 3 header -> 3rd biggest header (like my section 1.2.1.2. header)\n",
        "\n",
        "> \\- \\- \\- (without spaces between them) -> horizontal rule\n",
        "\n",
        "> \\> -> Indents text (like these are)\n",
        "\n",
        "> 1\\. (*and so on*) -> Numbered list\n",
        "\n",
        "> *\\. -> Bulleted list\n",
        "\n",
        "Here's what I'd like for you to do:\n",
        "\n",
        "1.   Double click on the Text cell that you edited.\n",
        "2.   At the top of the cell, add a Level 3 header: \"1.1.2.1(b). My Text\".\n",
        "3.   Below the Level 3 header, add a horizontal rule to divide the header from the rest of the text.\n",
        "4.   Add a numbered list 1-3 of three things you'd like to be able to do with text analysis.\n",
        "5.   When you're done editing. Click back on this cell to exit edit mode on that cell.\n"
      ]
    },
    {
      "cell_type": "markdown",
      "metadata": {
        "id": "500HGYhHneKL"
      },
      "source": [
        "#### 1.1.2.3. Moving and Deleting Cells\n",
        "---"
      ]
    },
    {
      "cell_type": "markdown",
      "metadata": {
        "id": "51r2X_oZrEzq"
      },
      "source": [
        "This is relevant to both Text and Code cells, but sometimes you'll find that you need to reorder or delete cells. It's pretty easy to do and doesn't even require that you go into 'edit mode' to do.\n",
        "\n",
        "**First, we want to bring that move that edited cell below this one.** \n",
        "\n",
        "Here's what I'd like for you to do:\n",
        "1.   Single click (or double if you want to do it from edit mode, both work) on the Text cell you created above.\n",
        "2.   On the right-hand side, at the top of the cell, there are up and down arrows that look something like this: ![up_down_arrows.png](data:image/png;base64,iVBORw0KGgoAAAANSUhEUgAAAD0AAAAoCAIAAADCG2WWAAAAAXNSR0IArs4c6QAAAARnQU1BAACxjwv8YQUAAAAJcEhZcwAADsMAAA7DAcdvqGQAAAASdEVYdFNvZnR3YXJlAEdyZWVuc2hvdF5VCAUAAAGDSURBVFhH7dYxcoJAFIBhLpOhBFQSDsAx6D2M96LXngNAT59f3s6yrgkBgviY4S8ceRD4dFZCkG2z3b1uu3vddve6Dbm/FOe7zVh9vdsMuj7VZ9zG2yUT5flu2dTf3S3iNE1ltIk27maln04nGW2i3n08HmU0XJ7nZVkWRWG2/935fG7bllezPa6gWyNj3aCv1yuXqet6KfrL3RYtLUWf6UZM/CgPh4OZ/ZSgm6a5XC5chlfeL0J/oduiUdrL8H4R+qvcLppN9zLz6BxcVZX9E8/t7f2tADFxE0ySxMwew+3eQJ4vw16Okc0xcfDtdrOf1j0hE+b2Oxrob7eX556XS7cnHI+mADF3EhZJFEVmNtgibrJ0+0Mfj6Zp929ayk1C52zSeDS9002WPglNb3YT9BkPDpPdSpr8XKWkjT/HEm5u5DLV34M7jmNWC+9ln+bubsLKUpH/PmEYfqjvwc06gc63TnwAzRk3CV30rBnl9W4J/Sby3W7mEJUNuTW3u9csy74Bk+fMcDAlYykAAAAASUVORK5CYII=)\n",
        "3.   Click on the down arrow to move the cell down one slot.\n",
        "4.   Repeat until the Text cell is below this one.\n",
        "\n",
        "Okay, now the text cell should be below this one. **Now, we're going to delete it... and after all that work you put into it.**\n",
        "\n",
        "Here's what I'd like for you to do:\n",
        "1.   Single click (or double if you want to do it from edit mode, both work) on the Text cell you created above.\n",
        "2.   On the right-hand side, at the top of the cell, there is a trashcan that looks something like this: ![trash.png](data:image/png;base64,iVBORw0KGgoAAAANSUhEUgAAABwAAAAgCAIAAACO148VAAAAAXNSR0IArs4c6QAAAARnQU1BAACxjwv8YQUAAAAJcEhZcwAADsMAAA7DAcdvqGQAAAASdEVYdFNvZnR3YXJlAEdyZWVuc2hvdF5VCAUAAACUSURBVEhL7daxCYAwEIXhLGNtI8a9MkDGsE92cZj09h7yLIR7V4iHiH6NcDl+CCIYJgc+0ejAJzo6eNGLwvNWD0VrrcuhlIKpiUYlsXJyij0NjeacZ05Osaexrr/fWIcNworiqhpsEH+UQkCDDeKPUq01NM5kjg3CiqaU8AGdyRwbhBW97OvRzkHoHYTBwVv+pWLcAFHxOUyA6SvIAAAAAElFTkSuQmCC)\n",
        "3.   Click the trashcan and confirm that you want to delete the cell.\n",
        "\n",
        "Your Text cell should now be gone. Let's take a look at Code cells now."
      ]
    },
    {
      "cell_type": "markdown",
      "metadata": {
        "id": "_VjLWxM-qCwt"
      },
      "source": [
        "#### 1.1.2.4. Adding a Code Cell\n",
        "---"
      ]
    },
    {
      "cell_type": "markdown",
      "metadata": {
        "id": "gSZvWC5xrIEQ"
      },
      "source": [
        "Let's add a new Code cell below this cell! \n",
        "\n",
        "Here are the steps I'd like for you to take:\n",
        "\n",
        "1.   Hover your mouse just on the bottom edge of this cell until you see the option to create a Text or Code cell like you did before.\n",
        "2.   This time, click on \"*+ Code*\" to add a Code cell.\n",
        "3.   Type `print(\"Hello, World!\")` in the new Code cell.\n",
        "\n",
        "And that's it, you've written your first Python code in your first Code cell!"
      ]
    },
    {
      "cell_type": "markdown",
      "metadata": {
        "id": "cgZqz8rHr-op"
      },
      "source": [
        "#### 1.1.2.5. Running Code Cells\n",
        "---"
      ]
    },
    {
      "cell_type": "markdown",
      "metadata": {
        "id": "PlnftyrWrKrd"
      },
      "source": [
        "Let's run that code you wrote. \n",
        "\n",
        "Here are the steps I'd like for you to take:\n",
        "\n",
        "1. On the left side of the code cell, you'll likely see one of three things:\n",
        "\n",
        "> ![brackets.png](data:image/png;base64,iVBORw0KGgoAAAANSUhEUgAAABwAAAAYCAIAAABm/grVAAAAAXNSR0IArs4c6QAAAARnQU1BAACxjwv8YQUAAAAJcEhZcwAADsMAAA7DAcdvqGQAAAASdEVYdFNvZnR3YXJlAEdyZWVuc2hvdF5VCAUAAABWSURBVEhLY5CjARg1lPoAaqijo+OMGTPmgUFAQABEEBeAKwaSQDZUFAkgDO3p6TEwMIBwiQFAxUAto4ZC+Uhg1FAQGDWUJoZSP+9TF4waSn1AA0Pl5ACUDCuMxevatQAAAABJRU5ErkJggg==) - This is (*going to be*) the run button when the Code cell **is not selected** and **has not already been run**. When you move your mouse over it, it will become...\n",
        "\n",
        "> ![run_button.png](data:image/png;base64,iVBORw0KGgoAAAANSUhEUgAAABoAAAAdCAIAAAA7LeshAAAAAXNSR0IArs4c6QAAAARnQU1BAACxjwv8YQUAAAAJcEhZcwAADsMAAA7DAcdvqGQAAAASdEVYdFNvZnR3YXJlAEdyZWVuc2hvdF5VCAUAAAESSURBVEhL7ZTBDYMwDEU7CQuwB3vAAmwDC8A4MAAsAAP03q/4ExLioIBQ1UPfKcH2a00cXtmj/HX3+Zauruuu64ZheBuwwLYsS4YjKLqqqqZpEksIQkhgasBR17Yt605pmoYFPp4u0SUgmWUOuw4tMDGZsOtdN88zsxzGceRKA++RxRvU4RyZ4pPned/33Ggc/iB1sRqJ4sfWdeUjHxRKjkBdrCmJgqIo1BzMIzMM1DEYIFEh1jjDhms6XAwGHBg2XGjWXjgXFDLDkHoUy7LwkY9+FCeDojZo0QcFqGOsNmhBCYs3dt3Dlww8+QkQEo2qCxx1AC2o71FAKOzRougE1GAI7Dxige2JSIjq7vHLuiz7ALay2CL3kOQyAAAAAElFTkSuQmCC) - The run button itself. You'll see this when the Code cell **is selected** or you have your mouse over the Code cell.\n",
        "\n",
        "> ![num_run.png](data:image/png;base64,iVBORw0KGgoAAAANSUhEUgAAABwAAAAYCAIAAABm/grVAAAAAXNSR0IArs4c6QAAAARnQU1BAACxjwv8YQUAAAAJcEhZcwAADsMAAA7DAcdvqGQAAAASdEVYdFNvZnR3YXJlAEdyZWVuc2hvdF5VCAUAAAB8SURBVEhLY5CjARg1FAry8vIuXLhwFQyam5uhojgAXDGQBLKhojCAYujRo0cDAgKgfCSwadMmrJqBioFaSDYUyD116tSSJUuAJNUMXbNmDVAcCKhpKASMGjroDZ07dy4kO0AAWmqlyKW4wMAZSv28T0Uwaij1wVAxVE4OAGIVjS0JI1cEAAAAAElFTkSuQmCC) - This is (*was*) the run button when the Code cell **is not selected** and **has already been run**. The number indicates the order in which the Code cell was run (e.g., the '1' indicates this was the first cell run. If you click it again, it will run again and update its number)\n",
        "\n",
        "2. Hover your mouse over the Code cell and click on the run button.\n",
        "\n",
        "3. You should see *Hello, World!* appear in the area below the Code. This is the output of your code. You told Python to print \"Hello, World!\" to your screen, so that's what it did!\n",
        "\n",
        "From now on, I'll provide you with the Code cells, so you won't need to add/delete them. However, you *will* need to be able to run them. So remember the 'run button' well.\n"
      ]
    },
    {
      "cell_type": "markdown",
      "metadata": {
        "id": "_wp9vvgyCsmk"
      },
      "source": [
        "#### 1.1.2.6. Clearing Code Cell Output\n",
        "---\n"
      ]
    },
    {
      "cell_type": "markdown",
      "metadata": {
        "id": "Aw1JlR_4rNgb"
      },
      "source": [
        "Once you have run code, the output of the code stays there for you. But sometimes you want to clear it before running it again. There are a couple of ways to do this.\n",
        "\n",
        "1. **Clear one output** - If you hover over the Code cell, you'll see a ![clear_output.png](data:image/png;base64,iVBORw0KGgoAAAANSUhEUgAAABwAAAAiCAIAAADDHy4eAAAAAXNSR0IArs4c6QAAAARnQU1BAACxjwv8YQUAAAAJcEhZcwAADsMAAA7DAcdvqGQAAAASdEVYdFNvZnR3YXJlAEdyZWVuc2hvdF5VCAUAAACYSURBVEhL7ZK7DcAgDAUzFi1DUDMEO4SV2AHa7JMnxQUifAIxiiJx3bOtE5bZxASWlJ8l5SeVaq33AmjRUItUaq09CqBFQy3yUgoRU6Sov12fwg0pJQaUUpQL9EmBMcZ7X/c+lca/wjkXQqh4O6RoXUBaf+yn618wHwp1/i+FIloUWuSlWcal8ZUTxtdnYUn5WVJ+/iIV4gSZ4txVz3ZZAgAAAABJRU5ErkJggg==)icon appear in the left of the output cell. Hovering over this will tell you details about the last time the code was run. Clicking on this will clear the output of this cell.\n",
        "2. **Clear all output** - If you go to the *Edit* menu -> *Clear all outputs* it will clear the outputs for *all* Code cells. Make sure you want to do this as you'll have to run them all again to get it to reappear.\n",
        "\n",
        "Here's what I'd like for you to do:\n",
        "1. Clear the output of the Code cell you created.\n",
        "2. Run the code again to verify that the output comes back.\n",
        "3. When you are done, delete the Code cell entirely - we won't be needing it anymore."
      ]
    },
    {
      "cell_type": "markdown",
      "metadata": {
        "id": "HtgeO_NUwOwn"
      },
      "source": [
        "### 1.1.3. Navigating Notebooks in Colaboratory\n",
        "\n",
        "---"
      ]
    },
    {
      "cell_type": "markdown",
      "metadata": {
        "id": "fIXceW0BE3AG"
      },
      "source": [
        "*You can skip this section if you want to fast track to getting your feet wet in Python.*\n",
        "\n",
        "Notebooks are not particularly complex beasts, as I mentioned before, they're just vertical stacks of cells. However, they can get long and there are some ways to make navigating them more efficient.\n",
        "\n",
        "In this section, we will go through a few of these tricks."
      ]
    },
    {
      "cell_type": "markdown",
      "metadata": {
        "id": "Bg9rVenIyWmQ"
      },
      "source": [
        "#### 1.1.3.1. Table of Contents\n",
        "---"
      ]
    },
    {
      "cell_type": "markdown",
      "metadata": {
        "id": "UDnv-6B-rRp5"
      },
      "source": [
        "Remember in section 1.1.2.2. when you were adding heading levels to your Text cell? Well, those headings are indexed by Google Colaboratory so that you can jump to sections headings quickly from the Table of Contents.\n",
        "\n",
        "There are two ways to open the Table of Contents:\n",
        "\n",
        "1.   Click on the ![ToC.png](data:image/png;base64,iVBORw0KGgoAAAANSUhEUgAAABwAAAAfCAIAAAB7+zptAAAAAXNSR0IArs4c6QAAAARnQU1BAACxjwv8YQUAAAAJcEhZcwAADsMAAA7DAcdvqGQAAAASdEVYdFNvZnR3YXJlAEdyZWVuc2hvdF5VCAUAAACmSURBVEhL7ZMxDQYhDEZPFgIQgAB2XICLHwEIYEcAAthBADv73+Q6MDTkyMFNvIkOfaFf2ott4EjXc6TroaUhhJyzEEIp9RtijMGeDlpaa22tgdFaC48BMUbs6aClUkryCw/5MFPOOQSKxTy0tJQCed0hQGoDnHPY00FLU0rrpVvGfwkthcG11ljMQ0u3LL/3HhbgPlPwDpg405cc6XqOdD0bpIz9ATBSx2TnUTYVAAAAAElFTkSuQmCC) button from the top-left side of the screen.\n",
        "2.  Click *Edit* -> *Table of Contents* from the drop-down menu at the top of the screen.\n",
        "\n",
        "When you do either of these, the table of contents will appear on the left-hand side of the screen. Here you'll see hyperlinks that will jump you around to different sections of the document.\n",
        "\n",
        "Don't see hyperlinks in your notebook? That may mean that you didn't use the Level 1/2/3 headings in your Text Cells. Try adding those to your Text cells to get a Table of Contents.\n",
        "\n"
      ]
    },
    {
      "cell_type": "markdown",
      "metadata": {
        "id": "efI-HS3czgfT"
      },
      "source": [
        "#### 1.1.3.2. Hiding Sections\n",
        "---"
      ]
    },
    {
      "cell_type": "markdown",
      "metadata": {
        "id": "65jnvsXzrU_8"
      },
      "source": [
        "Long Notebooks are... well, long. Fortunately, if you organized your notebooks with Text cells that use Levels 1/2/3 headings, you'll be able to collapse entire sections at a time to make the Notebook easier to scroll through.\n",
        "\n",
        "Each subheading should have a twisty to its left. When this twisty points down (![Twisty.png](data:image/png;base64,iVBORw0KGgoAAAANSUhEUgAAABkAAAAXCAIAAABxgXNEAAAAAXNSR0IArs4c6QAAAARnQU1BAACxjwv8YQUAAAAJcEhZcwAADsMAAA7DAcdvqGQAAAASdEVYdFNvZnR3YXJlAEdyZWVuc2hvdF5VCAUAAABaSURBVDhP7dCxDQAgCERRx2IOw4Ts5D5eYSwUQRI7+a3kBSn0rrRi/WgxczXDwBjdUvYSkXYIT2NIS/+jytkQOt5r4VwIWbef3A2ELAtBuYSQY4VKK1ZakYg6ePauVJH2fjYAAAAASUVORK5CYII=)), that section is open. When this twisty points right (![Twisty-right.png](data:image/png;base64,iVBORw0KGgoAAAANSUhEUgAAABEAAAAWCAIAAACpCuAVAAAAAXNSR0IArs4c6QAAAARnQU1BAACxjwv8YQUAAAAJcEhZcwAADsMAAA7DAcdvqGQAAAASdEVYdFNvZnR3YXJlAEdyZWVuc2hvdF5VCAUAAABWSURBVDhP7dKxDQAgCERRx2IOwoTsxD5SWClcxFhY+CssXkKIjep9sxoRGVPebJhZVccjKTBmhllsMEuNlzFkvJDdNuXdyjcAwAsMBt5sTv7OTu8aog6gQCpsPpPOpQAAAABJRU5ErkJggg==)), that section is collapsed. Clicking on the twisty will alternate between expanding and collapsing that section.\n",
        "\n",
        "Another indicator that the section is collapsed is that the header will be followed by a hidden cells message (![hidden cells.png](data:image/png;base64,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)). This message indicates that there are 6 cells in that section that are hidden. This one also indicates that the hidden cells contain at least one Code cell (indicated by the run button). If you want to run those code cells without expanding the section, you can just press the run button and all code cells in that section will be run in order (handy!). Otherwise clicking anywhere else in the hidden cell will expand the section just the same as clicking the twisty would."
      ]
    },
    {
      "cell_type": "markdown",
      "metadata": {
        "id": "x4PV0HuV2NMr"
      },
      "source": [
        "#### 1.1.3.3. Searching for Text in Notebooks\n",
        "---\n"
      ]
    },
    {
      "cell_type": "markdown",
      "metadata": {
        "id": "kXsnZoHRrdnv"
      },
      "source": [
        "Sometimes you may not remember exactly where something is located in a long Notebook. In this case, you may want to search for the text rather than reading the entire thing. In this case, you would click on the ![search.png](data:image/png;base64,iVBORw0KGgoAAAANSUhEUgAAABwAAAAdCAIAAAA2M5tmAAAAAXNSR0IArs4c6QAAAARnQU1BAACxjwv8YQUAAAAJcEhZcwAADsMAAA7DAcdvqGQAAAASdEVYdFNvZnR3YXJlAEdyZWVuc2hvdF5VCAUAAADmSURBVEhL7ZO7DYQwDEBvrAzAAAxAzwAMwADpYQB66BmALaCH/vp7UgyK7hx+guIkXhHFBj8cObzMDTzS63mkOkmStG37nmFPRp5toUupH8fRucqydHYyaZrKG6so0iiKqJ+myW+N/TAM5HkqqTCKNM9z+mKVeCbLMjX/iyLlvBSrHZGvqkqCMIelTdNIEObw8a21EofRB8WUmEkcx5Iyhn3f9+RPDgq4Os5b13VRFKzsabPruj23VZcCxf7ldzr3pU1vULrgK3Z6t6Vf7PEelsLiDQ3tjBTwrvxaJ6XrPNLr+RepMR/EDYuUE/cy+QAAAABJRU5ErkJggg==) button at the top-left of the screen.\n",
        "\n",
        "Let's try it... Here's what I'd like for you to do:\n",
        "\n",
        "1.   Click on the search button to expand the \"Find and replace\" panel.\n",
        "2.   You've forgotten where I talked about how to enter Level 1 Headings. So type \"Level 1\" in the \"Find\" field and press Enter.\n",
        "3.   You'll see the list of all places in this Notebook where I mention \"Level 1\".\n",
        "4.   Click on the first result to see the first place I mentioned Level 1 Headings (in the Text cell formatting section). - Note that it takes you to the 'edit mode' of the cell. Just click on another cell to leave edit mode.\n",
        "5.   Come back to this cell.\n",
        "\n",
        "You can also use this panel to find and replace text/code, but I'll leave that to you to explore."
      ]
    },
    {
      "cell_type": "markdown",
      "metadata": {
        "id": "G8xh0Mnd4LnF"
      },
      "source": [
        "#### 1.1.3.4. Viewing Data Files\n",
        "---"
      ]
    },
    {
      "cell_type": "markdown",
      "metadata": {
        "id": "hkZP0XBararI"
      },
      "source": [
        "A nice thing about Google Colaboratory is that it's running on Google's Server rather than your local machine. So you don't have to have Python installed to do your work. One downside of this is that because it's running on a Google server somewhere, it doesn't have your data! Fortunately, there are a couple options for getting your data to the server:\n",
        "\n",
        "*   You can upload the data directly.\n",
        "*   You can access the data from your Google Drive.\n",
        "*   You can have Python go out and get data from public sources.\n",
        "\n",
        "Whichever way you go, the data doesn't necessarily show in the Python/Text of the file. It's tucked away on the server. If you want to view the files the server has for you, do the following.\n",
        "\n",
        "Here's what I'd like for you to do:\n",
        "\n",
        "1. Click on the ![File browser.png](data:image/png;base64,iVBORw0KGgoAAAANSUhEUgAAACUAAAApCAIAAAA9PncvAAAAAXNSR0IArs4c6QAAAARnQU1BAACxjwv8YQUAAAAJcEhZcwAADsMAAA7DAcdvqGQAAAASdEVYdFNvZnR3YXJlAEdyZWVuc2hvdF5VCAUAAACrSURBVFhH7dSxDQMhDIXhrOItMgADsEUGYAsWoGeY9NAzRvq8wilOwEGipyiR/HXobP7iJC7XLxIR6xFZj8t6XNbj+sme9/525JzTb29a9xB7dEopnyXXvZSSRo5aa/dOzlnXJnZ7tVa9cg4zmAwh6ObIbg//TM9zmMEk5vU8Yj3rvfxzL8aI685hhtAbvmcnMK+bI+se9O/1zHkMtnpE1uOyHpf1uKzHJSJPdaqTxsFQzOkAAAAASUVORK5CYII=) button at the top left of the screen.\n",
        "2. The file browser panel will open with your server's data directory open. You should see a folder called \"sample_data\" (and that's about it unless you've uploaded more data)\n",
        "3. If you expand the \"sample_data\" folder, you'll see several files that you *could* use for data, but it's not *your* data.\n",
        "\n",
        "You would use the ![upload_data.png](data:image/png;base64,iVBORw0KGgoAAAANSUhEUgAAAB8AAAAjCAIAAADjdEa4AAAAAXNSR0IArs4c6QAAAARnQU1BAACxjwv8YQUAAAAJcEhZcwAADsMAAA7DAcdvqGQAAAASdEVYdFNvZnR3YXJlAEdyZWVuc2hvdF5VCAUAAADZSURBVEhL7ZXLDYQgFEWnLDuyDAqwF60IC2Dvfm7mvhBBL+KoiQvOwvA+nJdAIp/uSZpd0ewKae/73nu/CMZxtL4i0j7Ps5kENQOknQoLUlgChwMu2UF5wFU7KAy4wQ7UgHvswGop/9gzCp1vsjvntke820lO2KFmchgGS/1g0oKUWntUE4RWuG7P1CQOYMh1RpV9mias4wwukGSVSa4zak8Gv0x8Y5IhicktJ24V1CfJm+y7FDqlPYTAbTXgqbFtKdKOezt8ngja1pe8RtpvodkVza540t51XzmkLBOX0vQRAAAAAElFTkSuQmCC) button to upload data from your local computer to the server's folder.\n",
        "\n",
        "> Note: Uploading your data like this is not a *forever* thing. It's a *for this session* thing. The next time you open this Notebook, you'll have to open it again. Indeed, even if you leave it open and Google disconnects you (e.g., for inactivity/to free up resources), you'll have to re-upload everything.\n",
        "\n",
        "You would use the ![connect_gdrive_data.png](data:image/png;base64,iVBORw0KGgoAAAANSUhEUgAAACAAAAAcCAIAAACPoCp1AAAAAXNSR0IArs4c6QAAAARnQU1BAACxjwv8YQUAAAAJcEhZcwAADsMAAA7DAcdvqGQAAAASdEVYdFNvZnR3YXJlAEdyZWVuc2hvdF5VCAUAAAEiSURBVEhL7ZSxEYMwEARdlgqgAAogpwAKoAAKoAByyCnAOeSQQ+7cN/xZc2PjAWF7nLARL9386V+PLu7HnAab/MMgy7Ku624v1HVNRQgrBuM4MuULBzxWDJgskGEYUDpTCEcM+r6/LjzVisYyhXDEIEkSU8ZxzKUHtq4EG5Rl2TQNpc5VVcWNBa4KYQboCQRFUaRpauIoiuZ55vbnBj4vDm4fADVx+0ODtm2pWIrI85yBTDZjIcAAV0rFkhFzif5YiAE1jYXKXgP0gdvSE8ylzSuwFSqEvQb++Di1XoDHimAgBFeA7L4zCm4IMgZC2B3gF9NeeTBdpmEsrBi8e+xwq0D77pmmCQI8IUwhrBigm5Ba0v3gWHsfu+9yGmxyGmzg3B2etzXBXOLOTQAAAABJRU5ErkJggg==) button to connect to data in your Google Drive. This is handy because it's already on Google's servers, so it just has to let the Notebook know where to find it and boom, your data is there."
      ]
    },
    {
      "cell_type": "markdown",
      "metadata": {
        "id": "PczQjzPu8B08"
      },
      "source": [
        "#### 1.1.3.5. Letting Python Get Data For You\n",
        "---\n"
      ]
    },
    {
      "cell_type": "markdown",
      "metadata": {
        "id": "L8pUy--DrXoz"
      },
      "source": [
        "In section 1.1.3.4. above, I mentioned Python could load data for you. Let's see what that looks like.\n",
        "\n",
        "Let's say that I want to do a text analysis of Charles Dickens' **A Tale of Two Cities**, and I know that this is available from Project Gutenberg online. I can have Python download that for me.\n",
        "\n",
        "Please execute the code below:"
      ]
    },
    {
      "cell_type": "code",
      "metadata": {
        "id": "X5EChuNK8wwh"
      },
      "source": [
        "!wget https://www.gutenberg.org/files/98/98-0.txt -O a_tale_of_two_cities.txt"
      ],
      "execution_count": null,
      "outputs": []
    },
    {
      "cell_type": "markdown",
      "metadata": {
        "id": "fOWQautz-dtM"
      },
      "source": [
        "Now check the list of files on the server. You should see \"a_tale_of_two_cities.txt\" among the list.\n",
        "\n",
        "*You may need to refresh the file list by clicking the* ![refresh_files.png](data:image/png;base64,iVBORw0KGgoAAAANSUhEUgAAACEAAAAfCAIAAADm9jPlAAAAAXNSR0IArs4c6QAAAARnQU1BAACxjwv8YQUAAAAJcEhZcwAADsMAAA7DAcdvqGQAAAASdEVYdFNvZnR3YXJlAEdyZWVuc2hvdF5VCAUAAAEFSURBVEhL7ZWxEYMwDAAzFgMwAAPQZwAGoIcetoCeAehJDz0DpM8nEpwTHM6A0+T4SpaN3tb5zCX4PafDndPhjt2RJEnXdfcFVVXpii3YHcMwaNUFOzR2h9bbSN/3NEBLGPh0AB3WEgZrDh048+2r0+HOIUccx0VRtG3bNE2WZWEYEoNOT+x35Hkuy24vCLi74M0RRRELKM1RZMg5xnEk6c1RliULKG0OBW+OZ9eNWsiuE3IyEz+OdeyOlTcR2Gxd1wRzrwTyJLkLOp6wO3ja5KpY4QQ0hIDXadaQkd/BhxjsDhfmuyt9kzhNU5022O8AtoxJHHSPXunEO4ccjpwOd/7DEQQPoiLja5F4mGQAAAAASUVORK5CYII=) *button.*\n",
        "\n",
        "If you double click on the file, you'll see the server opens a file viewer pane to the right. Alternatively, we can use Python to preview the first few lines.\n",
        "\n",
        "Please execute the code below to see the first 10 lines of the file."
      ]
    },
    {
      "cell_type": "code",
      "metadata": {
        "id": "QTP2afVA_ij9"
      },
      "source": [
        "import os\n",
        "\n",
        "filename = \"a_tale_of_two_cities.txt\"\n",
        "if os.path.exists(filename):\n",
        "  with open(filename, encoding='utf-8') as in_file:\n",
        "    for _ in range(10):\n",
        "      print(in_file.readline())\n",
        "else:\n",
        "  print(\"Sorry, but it looks like you haven't loaded the book yet.\")\n",
        "  print(\"Run the code above (the bit that starts with 'wget' first to load \"\n",
        "        \"the book, then try this again!\")"
      ],
      "execution_count": null,
      "outputs": []
    },
    {
      "cell_type": "markdown",
      "metadata": {
        "id": "ShvebSkRCND9"
      },
      "source": [
        "Don't worry about what the code does at the moment, but hopefully you saw some of the front matter of the Project Gutenberg book indicating that Google Colaboratory had successfully loaded your 'data.'"
      ]
    },
    {
      "cell_type": "markdown",
      "metadata": {
        "id": "It1OmiXcD766"
      },
      "source": [
        "### 1.1.4. Helpful Settings in Google Colaboratories\n",
        "\n",
        "---"
      ]
    },
    {
      "cell_type": "markdown",
      "metadata": {
        "id": "yHcgji3wFHMi"
      },
      "source": [
        "#### 1.1.4.1. Hardware Acceleration\n",
        "---"
      ]
    },
    {
      "cell_type": "markdown",
      "metadata": {
        "id": "PrUNNAlDrhZU"
      },
      "source": [
        "Some of the analyses we will do are **incredibly** computationally expensive, but at the same time, **incredibly** simple arithmetically. That is - despite its simplicity, it would take a CPU a LONG time to do it. When we need to do a **lot** of these calculations we can enlist the help of GPUs or TPUs to get the calculations done more quickly:\n",
        "\n",
        "* *GPU* is a Graphics Processing Unit (often referred to as a graphics card in the computer gaming community) is a specialized processing card that is really efficient at processing a **LOT** of very simple arithmetic all at once - which is sometimes exactly what we need (e.g., in neural networks). Where a CPU may have 8 cores, each doing one math problem at a time, GPUs may have hundreds of cores.\n",
        "\n",
        "* *TPU* is a Tensor Processing Unit, and is basically a custom chip developed by Google that is even more custom-tailored to neural network training than GPUs.\n",
        "\n",
        "When you create/open a notebook, it only has a CPU assigned to it. If you want to get a GPU/TPU assigned for your code, you'll have to request it.\n",
        "\n",
        "Let's do that:\n",
        "\n",
        "First, let's verify that we don't have a GPU assigned. Run the code below:"
      ]
    },
    {
      "cell_type": "code",
      "metadata": {
        "id": "Zq6OefRiHrBm"
      },
      "source": [
        "import tensorflow as tf\n",
        "\n",
        "if tf.config.list_physical_devices('GPU'):\n",
        "  print(\"You have an assigned GPU\")\n",
        "else:\n",
        "  print(\"GPU device not found\")"
      ],
      "execution_count": null,
      "outputs": []
    },
    {
      "cell_type": "markdown",
      "metadata": {
        "id": "uRB0MkapIlLN"
      },
      "source": [
        "The output should print *GPU device not found.* Let's request a GPU and run it again. Here's what I'd like for you to do:\n",
        "\n",
        "1. Go to the *Edit* menu -> *Notebook Settings*\n",
        "2. Change *Hardware Accelerator* to \"GPU\"\n",
        "3. Click *Save*\n",
        "4. Run the code again.\n",
        "\n",
        "The output should change to \"You have an assigned GPU.\"\n",
        "\n",
        "Now, please go back and change the Hardware Accelerator to \"None.\"\n",
        "\n",
        "In general, we don't want to request a GPU unless we're going to be using it... and **most** things we do will not be able to use the GPU. Once we start using machine learning to train neural networks, we'll start using it. But until then, this setting can largely be ignored."
      ]
    },
    {
      "cell_type": "markdown",
      "metadata": {
        "id": "i53C7kyCLGRE"
      },
      "source": [
        "#### 1.1.4.2. Colaboratory Settings\n",
        "---"
      ]
    },
    {
      "cell_type": "markdown",
      "metadata": {
        "id": "gJndbwSFrkmB"
      },
      "source": [
        "There are a number of helpful settings in *Tools* -> *Settings*\n",
        "\n",
        "**Site**\n",
        "* *Theme* - Different color schemes for Colab - I'm a fan of 'dark'\n",
        "* *Show Desktop Notifications* - Some code (e.g., machine learning) takes a long time to run and you will want to work on other things while it's working. Checking this will show you a notification when the code is finished running (helpful, because if the notebook is idle for too long, Google may disconnect the session)\n",
        "* *Private outputs* - Helpful when you don't want to save the outputs (e.g., if you're sharing your code, but not your data with someone)\n",
        "* *Request GitHub access for private repositories* - If you have a GitHub account and store your notebooks there, this will enable you to access your private repositories that are not shared with the rest of the world.\n",
        "\n",
        "**Editor**\n",
        "\n",
        "These settings are largely about the appearance of the code editor. I'll let you tinker around with this on your own, but it's worth noting here that Python uses the indentation of code to organize code blocks. \n",
        "\n",
        "If you use inconsistent indentation, Python will get confused about what is part of a code block and what is not. By checking the *Show indentation guides* box, Colab will help you see what level of indentation things are at to help keep you consistent.\n",
        "\n",
        "**Colab Pro**\n",
        "\n",
        "This is a paid version of our free Colab where you have access to more resources - we don't need this for what we're doing right now but if you're training crazy-big neural networks, you might.\n",
        "\n",
        "**Miscellaneous**\n",
        "\n",
        "This was the result of a Google April Fools joke. Despite the wording, you can largely ignore it: it just changes the appearance of Colab."
      ]
    },
    {
      "cell_type": "markdown",
      "metadata": {
        "id": "fE9bzyBaN8-_"
      },
      "source": [
        "##1.2. Some Basic Python Operations\n",
        "\n",
        "---"
      ]
    },
    {
      "cell_type": "markdown",
      "metadata": {
        "id": "5RADtfSYOQup"
      },
      "source": [
        "### 1.2.1. Basic Arithmetic\n",
        "\n",
        "---"
      ]
    },
    {
      "cell_type": "markdown",
      "metadata": {
        "id": "HgBzRVE5Om7m"
      },
      "source": [
        "At the very least, we'd like to be able to do some basic arithmetic in Python. The usual suspects from the other tools you're familiar with are generally the same here:\n",
        "\n",
        "* `**` - Exponentiation\n",
        "* `%` - Modulus (remainder from division)\n",
        "* `//` - Floor division (integer result from division)\n",
        "* `/` - True division\n",
        "* `*` - Multiplication\n",
        "* `-` - Subtraction\n",
        "* `+` - Addition\n",
        "\n",
        "Let's try some of them below. Look at the code below and try to predict the result before running it"
      ]
    },
    {
      "cell_type": "code",
      "metadata": {
        "id": "2EJwHkFvQBU6"
      },
      "source": [
        "5 ** 2"
      ],
      "execution_count": null,
      "outputs": []
    },
    {
      "cell_type": "code",
      "metadata": {
        "id": "PXgphZ3qQvu9"
      },
      "source": [
        "5 % 2"
      ],
      "execution_count": null,
      "outputs": []
    },
    {
      "cell_type": "code",
      "metadata": {
        "id": "QMOLrdvPQwJn"
      },
      "source": [
        "5 // 2"
      ],
      "execution_count": null,
      "outputs": []
    },
    {
      "cell_type": "code",
      "metadata": {
        "id": "7X1ZyzvlQQnL"
      },
      "source": [
        "5 / 2"
      ],
      "execution_count": null,
      "outputs": []
    },
    {
      "cell_type": "code",
      "metadata": {
        "id": "4SrGPy8pQTqx"
      },
      "source": [
        "5 * 2"
      ],
      "execution_count": null,
      "outputs": []
    },
    {
      "cell_type": "code",
      "metadata": {
        "id": "no_TSYdOQZr5"
      },
      "source": [
        "2 - 5"
      ],
      "execution_count": null,
      "outputs": []
    },
    {
      "cell_type": "code",
      "metadata": {
        "id": "5FcKPqblQVjV"
      },
      "source": [
        "5 + 2"
      ],
      "execution_count": null,
      "outputs": []
    },
    {
      "cell_type": "markdown",
      "metadata": {
        "id": "__z0tD8nRSKw"
      },
      "source": [
        "The order of operations are very much the same for Python as you'd expect in regular math - or for a lot more detail, you can see the [Python documentation](https://docs.python.org/3/reference/expressions.html#operator-precedence)."
      ]
    },
    {
      "cell_type": "code",
      "metadata": {
        "id": "81AkUJdiQbxw"
      },
      "source": [
        "(5 + 3) * (4 - 2)"
      ],
      "execution_count": null,
      "outputs": []
    },
    {
      "cell_type": "markdown",
      "metadata": {
        "id": "Wj7qTXAvQ5wX"
      },
      "source": [
        "*Always feel free to change the numbers around and otherwise play with the code*. You can only **break** something temporarily... all it takes is reloading the notebook to restore things back to normal.\n",
        "\n"
      ]
    },
    {
      "cell_type": "markdown",
      "metadata": {
        "id": "gS0xGm6WRvF7"
      },
      "source": [
        "### 1.2.2. Working With Words\n",
        "---"
      ]
    },
    {
      "cell_type": "markdown",
      "metadata": {
        "id": "Og1U58VCrosf"
      },
      "source": [
        "Above we worked with numbers, and that's good, but this is a text analysis series. We need to be able to work with words as well too, right?\n",
        "\n",
        "As will be covered in the next module, words (and text, more generally) in Python are called *strings*. These *strings* are always offset by either double quotes, like this:\n",
        "\n",
        "`\"word 1\"`\n",
        "\n",
        "or with single quotes, like this:\n",
        "\n",
        "`'word 2'`"
      ]
    },
    {
      "cell_type": "code",
      "metadata": {
        "id": "uvAp35ayTd4r"
      },
      "source": [
        "'word 1'"
      ],
      "execution_count": null,
      "outputs": []
    },
    {
      "cell_type": "markdown",
      "metadata": {
        "id": "k15gialxThG0"
      },
      "source": [
        "Which one you use is up to you, but you have to be careful... because if you use that offset character in the string itself, there could be a problem.\n",
        "\n",
        "Consider: `'Panucci's Pizza'`"
      ]
    },
    {
      "cell_type": "code",
      "metadata": {
        "id": "0clsLFyWT89q"
      },
      "source": [
        "'Panucci's Pizza'"
      ],
      "execution_count": null,
      "outputs": []
    },
    {
      "cell_type": "code",
      "metadata": {
        "id": "fj11-1otU5HR"
      },
      "source": [
        "\"He said, \"All the world is a stage\"\""
      ],
      "execution_count": null,
      "outputs": []
    },
    {
      "cell_type": "markdown",
      "metadata": {
        "id": "FvS2v-FTT_hz"
      },
      "source": [
        "Running these kicks off errors because the single/double quotes were used both to identify the string and as an apostrophe/quotation mark **in** the string. This can be avoided in one of two ways:\n",
        "1. Use an offset opposite of what you want to use in the string. For example:\n",
        "\n",
        "`\"Panucci's Pizza\"` or `'He said, \"All the world is a stage\"'`\n",
        "2. Add a backslash when the character is not being used as an offset. For example:\n",
        "\n",
        "`'Panucci\\'s Pizza'` or `\"He said, \\\"All the world is a stage\\\"`\n",
        "\n",
        "My recommendation? Option 2. It's the most flexible."
      ]
    },
    {
      "cell_type": "code",
      "metadata": {
        "id": "ql05rYwyVHsU"
      },
      "source": [
        "\"Panucci's Pizza\""
      ],
      "execution_count": null,
      "outputs": []
    },
    {
      "cell_type": "code",
      "metadata": {
        "id": "1ndYIKGkVKRF"
      },
      "source": [
        "\"He said, \\\"All the world is a stage\\\"\""
      ],
      "execution_count": null,
      "outputs": []
    },
    {
      "cell_type": "markdown",
      "metadata": {
        "id": "pCOo5TA4Xve-"
      },
      "source": [
        "### 1.2.3. Arithmetic... With Words?\n",
        "---"
      ]
    },
    {
      "cell_type": "markdown",
      "metadata": {
        "id": "2HAQi78TZC6v"
      },
      "source": [
        "So... you remember how a couple of sections ago I told you that the arithmetic operators you were already familiar with apply in Python as well?\n",
        "\n",
        "(e.g., `2+2`, `5**3`)\n",
        "\n",
        "Well... let's have some fun and use them with things other than numbers:\n",
        "\n"
      ]
    },
    {
      "cell_type": "code",
      "metadata": {
        "id": "suCqH5V4Zftr"
      },
      "source": [
        "\"Spam\" + \"Eggs\""
      ],
      "execution_count": null,
      "outputs": []
    },
    {
      "cell_type": "code",
      "metadata": {
        "id": "bQzSDr9bZmYa"
      },
      "source": [
        "\"Spam\" * 50"
      ],
      "execution_count": null,
      "outputs": []
    },
    {
      "cell_type": "code",
      "metadata": {
        "id": "lr6cXvSPZ3Hi"
      },
      "source": [
        "(\"Spam \" + \"and \" + \"Eggs \" + \"and \") * 10 + \"Spam\""
      ],
      "execution_count": null,
      "outputs": []
    },
    {
      "cell_type": "markdown",
      "metadata": {
        "id": "4l_i12KxZx14"
      },
      "source": [
        "The arithmetic operators are actually used by a *LOT* of different types of data, and we'll be using them a lot.\n",
        "\n",
        "Not all operators work between all types of data (for example, you can't multiply a word by a word). For example:"
      ]
    },
    {
      "cell_type": "code",
      "metadata": {
        "id": "FU00CYkdbApQ"
      },
      "source": [
        "\"Error\" * \"Incoming\""
      ],
      "execution_count": null,
      "outputs": []
    },
    {
      "cell_type": "markdown",
      "metadata": {
        "id": "1LDeScNzbGrH"
      },
      "source": [
        "### 1.2.4. Truth Testing (Boolean) Operations\n",
        "---\n"
      ]
    },
    {
      "cell_type": "markdown",
      "metadata": {
        "id": "LyTJONXxb7lU"
      },
      "source": [
        "Sometimes we are going to need to know whether something is True or False. Consider:\n",
        "*  Do I have missing data in my dataset?\n",
        "*  Did the program read the text file correctly?\n",
        "*  Is one number bigger than another number?\n",
        "\n",
        "For these, we need boolean rather than arithmetic operations. Here too, with one-or-two exceptions, you'll likely find that you're pretty familiar with their notation.\n",
        "\n",
        "* `!` - \"Not\"/Negation (Note: *do not use `!` at the beginning of a line of code, it won't mean 'not' there and will probably kick off an error*)\n",
        "* `not` - \"Not\"/Negation\n",
        "* `==` - \"Equals\"\n",
        "* `!=` - \"Doesn't Equal\"\n",
        "* `>` - \"Greater than\"\n",
        "* `<` - \"Less than\"\n",
        "* `>=` - \"Greater than or equal to\"\n",
        "* `<=` - \"Less than or equal to\"\n",
        "* `and` - Both must be true to return `True`\n",
        "* `or` - Either being true will return `True`\n",
        "\n",
        "Let's try some of them below. Look at the code below and try to predict the result before running it.\n",
        "\n",
        "(Note: Python is case-sensitive. When using `True` or `False` in code, make sure the first letter is upper case and the rest are lowercase)"
      ]
    },
    {
      "cell_type": "code",
      "metadata": {
        "id": "0XSRLk9hd5P4"
      },
      "source": [
        "not True"
      ],
      "execution_count": null,
      "outputs": []
    },
    {
      "cell_type": "code",
      "metadata": {
        "id": "wrPfI0OLfE8a"
      },
      "source": [
        "2 + 5 == 6 + 1"
      ],
      "execution_count": null,
      "outputs": []
    },
    {
      "cell_type": "code",
      "metadata": {
        "id": "5oK33JCwfNB9"
      },
      "source": [
        "6 != 3"
      ],
      "execution_count": null,
      "outputs": []
    },
    {
      "cell_type": "code",
      "metadata": {
        "id": "qpZdIX6bfQm2"
      },
      "source": [
        "5 > 7"
      ],
      "execution_count": null,
      "outputs": []
    },
    {
      "cell_type": "code",
      "metadata": {
        "id": "i8121G0sfTUs"
      },
      "source": [
        "52 * 3 < 128"
      ],
      "execution_count": null,
      "outputs": []
    },
    {
      "cell_type": "code",
      "metadata": {
        "id": "VFjJ_5gVfXP0"
      },
      "source": [
        "6 * 3 == 18 and 4 - 2 > 0"
      ],
      "execution_count": null,
      "outputs": []
    },
    {
      "cell_type": "code",
      "metadata": {
        "id": "4DQE2T0gfgxk"
      },
      "source": [
        "True and (False or True)"
      ],
      "execution_count": null,
      "outputs": []
    },
    {
      "cell_type": "code",
      "metadata": {
        "id": "6GKASADcf2_U"
      },
      "source": [
        "4 == \"4\""
      ],
      "execution_count": null,
      "outputs": []
    },
    {
      "cell_type": "markdown",
      "metadata": {
        "id": "8iT4JUnyiIjk"
      },
      "source": [
        "Hopefully most of the results made sense to you. But the last one may have tripped some people up.\n",
        "\n",
        "In the last piece of code, we compared the **number** 4 to a **string** \"4\". To Python, *these are not the same.* \n",
        "\n",
        "Consider also:"
      ]
    },
    {
      "cell_type": "code",
      "metadata": {
        "id": "MZYVwdCiiu-d"
      },
      "source": [
        "\"This\" == \"this\""
      ],
      "execution_count": null,
      "outputs": []
    },
    {
      "cell_type": "code",
      "metadata": {
        "id": "X_xGO5PyjNSi"
      },
      "source": [
        "\"this\" == \"this\""
      ],
      "execution_count": null,
      "outputs": []
    },
    {
      "cell_type": "markdown",
      "metadata": {
        "id": "R8r2owUNi6Ym"
      },
      "source": [
        "This is going to come into play when we get into text analysis and helps explain why when we do a text analysis we *almost* always transform all text to lowercase before our analyses. \n",
        "\n",
        "This way, we don't miss things being equal just because they have different capitalization!"
      ]
    },
    {
      "cell_type": "markdown",
      "metadata": {
        "id": "d7xfG-rV-Gym"
      },
      "source": [
        "It is also worth noting that equality can get a little weird with floating point numbers... Consider the following:"
      ]
    },
    {
      "cell_type": "code",
      "metadata": {
        "id": "Hp5mBgq3-Qw8"
      },
      "source": [
        "0.6 == 0.6"
      ],
      "execution_count": null,
      "outputs": []
    },
    {
      "cell_type": "code",
      "metadata": {
        "id": "_aPq-8H3-TN4"
      },
      "source": [
        "0.2 + 0.2 + 0.2 == 0.6"
      ],
      "execution_count": null,
      "outputs": []
    },
    {
      "cell_type": "markdown",
      "metadata": {
        "id": "hNawaJ67-pOL"
      },
      "source": [
        "The problem concerns the representation of decimals in binary. Details regarding why this is the case [are beyond the scope](https://betterprogramming.pub/floating-point-numbers-are-weird-in-python-heres-how-to-fix-them-51336e4ad51a) of this guide. However, suffice it to say that floating point numbers in computers are often *slightly* off of what we think they should be. To see why 0.2 + 0.2 + 0.2 doesn't *exactly* equal 0.6, see the below:"
      ]
    },
    {
      "cell_type": "code",
      "metadata": {
        "id": "hrU3k8vFAQuX"
      },
      "source": [
        "0.6 - 0.2 - 0.2 - 0.2"
      ],
      "execution_count": null,
      "outputs": []
    },
    {
      "cell_type": "markdown",
      "metadata": {
        "id": "oPyR4dmvAWyi"
      },
      "source": [
        "Here we see that it is off by an infintessimally small amount. But remember, == is looking for *exactly* equal. Because they're not *exactly* equal, `0.2 + 0.2 + 0.2 == 0.6` returns False. \n",
        "\n",
        "We're not likely to run into this problem in this series; however, it is worth noting that floating point equality can be a bit weird in computers."
      ]
    },
    {
      "cell_type": "markdown",
      "metadata": {
        "id": "TSD6vdvUjQL3"
      },
      "source": [
        "#### 1.2.4.1. Truthiness\n",
        "---\n"
      ]
    },
    {
      "cell_type": "markdown",
      "metadata": {
        "id": "tid5IdErruFd"
      },
      "source": [
        "Python includes a notion of 'truthiness'. That is, most objects in Python (e.g., numbers, strings, lists, etc.) have a 'truth' value (or in programmer-speak, a *boolean representation*).\n",
        "\n",
        "For most things being empty or equal to the number zero is evaluated as False. Whereas not being empty or being equal to a number other than zero is evaluated as True.\n",
        "\n",
        "To see the 'truthiness' of something, just wrap it like so: `bool(*something*)`"
      ]
    },
    {
      "cell_type": "code",
      "metadata": {
        "id": "IesZekqckYc0"
      },
      "source": [
        "bool(0)"
      ],
      "execution_count": null,
      "outputs": []
    },
    {
      "cell_type": "code",
      "metadata": {
        "id": "dq-4rPUJka2h"
      },
      "source": [
        "bool(1)"
      ],
      "execution_count": null,
      "outputs": []
    },
    {
      "cell_type": "code",
      "metadata": {
        "id": "jd24xSqnkcqd"
      },
      "source": [
        "bool(0.0)"
      ],
      "execution_count": null,
      "outputs": []
    },
    {
      "cell_type": "code",
      "metadata": {
        "id": "QQf42_5PkjJT"
      },
      "source": [
        "bool(-1.7)"
      ],
      "execution_count": null,
      "outputs": []
    },
    {
      "cell_type": "code",
      "metadata": {
        "id": "lOEnO1uoke2V"
      },
      "source": [
        "bool(\"\")"
      ],
      "execution_count": null,
      "outputs": []
    },
    {
      "cell_type": "code",
      "metadata": {
        "id": "tSan0JkBkgvD"
      },
      "source": [
        "bool(\"Spam\")"
      ],
      "execution_count": null,
      "outputs": []
    },
    {
      "cell_type": "markdown",
      "metadata": {
        "id": "_vpzgL34km2k"
      },
      "source": [
        "This is going to enable us to do some convenient things in the future, but for now, just remember that nearly everything that has a non-zero, non-empty value is True."
      ]
    },
    {
      "cell_type": "markdown",
      "metadata": {
        "id": "WxG5yhR3lvTw"
      },
      "source": [
        "#### 1.2.4.2. Bitwise Operations (Advanced)\n",
        "---"
      ]
    },
    {
      "cell_type": "markdown",
      "metadata": {
        "id": "bT5cRHZnrw6w"
      },
      "source": [
        "In a future module, we'll use the bitwise versions of the `and` and `or` operators and I'll explain how those two work then. However, for those of you already familiar with bitwise operations, here are the bitwise operators in Python:\n",
        "\n",
        "* `&` - AND\n",
        "* `|` - OR\n",
        "* `^` - XOR\n",
        "* `~` - NOT\n",
        "* `>>` - Right Shift\n",
        "* `<<` - Left Shift\n",
        "\n",
        "If you want to know how they work, please see the documentation [here](https://wiki.python.org/moin/BitwiseOperators). But you don't need to know them for this guide."
      ]
    },
    {
      "cell_type": "code",
      "metadata": {
        "id": "cl7h8eNNnP9X"
      },
      "source": [
        "1 & 0"
      ],
      "execution_count": null,
      "outputs": []
    },
    {
      "cell_type": "code",
      "metadata": {
        "id": "041-YZAJnR_L"
      },
      "source": [
        "1 | 1"
      ],
      "execution_count": null,
      "outputs": []
    },
    {
      "cell_type": "code",
      "metadata": {
        "id": "U1UhQVolncPc"
      },
      "source": [
        "1 ^ 1"
      ],
      "execution_count": null,
      "outputs": []
    },
    {
      "cell_type": "code",
      "metadata": {
        "id": "BlWoaifrndw_"
      },
      "source": [
        "~1"
      ],
      "execution_count": null,
      "outputs": []
    },
    {
      "cell_type": "code",
      "metadata": {
        "id": "S498obBTnT1M"
      },
      "source": [
        "30 >> 1"
      ],
      "execution_count": null,
      "outputs": []
    },
    {
      "cell_type": "code",
      "metadata": {
        "id": "_M0hLTeanZpu"
      },
      "source": [
        "30 << 1"
      ],
      "execution_count": null,
      "outputs": []
    },
    {
      "cell_type": "markdown",
      "metadata": {
        "id": "E5hibP77n1Pp"
      },
      "source": [
        "### 1.2.5. Variables\n",
        "---"
      ]
    },
    {
      "cell_type": "markdown",
      "metadata": {
        "id": "PsXuxzr3n-Ui"
      },
      "source": [
        "If we had to hardcode everything into Python, it wouldn't be very valuable. We might as well use a calculator. Much like the variables we use in math, variables in programming are simply a short-cut reference to some sort of data.\n",
        "\n",
        "The nice thing about Python variables relative to math variables is we can use entire words or phrases as the variable name so we don't forget what exactly should go in the variables.\n",
        "\n",
        "However, this isn't the wild west, there are three rules:\n",
        "1. No spaces, use underscores instead.\n",
        "DO: `total_word_count` NOT: `total word count`\n",
        "2. Only alphanumerics and underscore, no symbols.\n",
        "DO: `total_dollars_raised` NOT: `total_$_raised`\n",
        "3. Numerals cannot be the first character.\n",
        "DO: `four_firm_ratio` NOT: `4_firm_ratio`\n",
        "\n",
        "To assign a value to a variable, we use `=`.\n",
        "\n",
        "Let's see some examples."
      ]
    },
    {
      "cell_type": "code",
      "metadata": {
        "id": "DXc31P3jqXwf"
      },
      "source": [
        "avg_words_per_text = 55.3\n",
        "avg_words_per_text"
      ],
      "execution_count": null,
      "outputs": []
    },
    {
      "cell_type": "code",
      "metadata": {
        "id": "EmcwAzJEqdTJ"
      },
      "source": [
        "author_name = \"Aaron McKenny\"\n",
        "author_name"
      ],
      "execution_count": null,
      "outputs": []
    },
    {
      "cell_type": "code",
      "metadata": {
        "id": "j4_O2GyUqqT0"
      },
      "source": [
        "temp_C = 20\n",
        "temp_C * 9/5 + 32"
      ],
      "execution_count": null,
      "outputs": []
    },
    {
      "cell_type": "markdown",
      "metadata": {
        "id": "eMolh7hCrQXE"
      },
      "source": [
        "Note in these examples, we had two lines of code:\n",
        "1.   Assigning the variable a value.\n",
        "2.   The variable name.\n",
        "\n",
        "When you assign a value to a variable, Python does what you ask *silently.* Most times in a program, you don't want all the data parroted back to you every time it changes. So if you want to see what's in the variable, you have to ask for it.\n",
        "\n",
        "Now, once the data is in the variable, it stays there until you start the program over, overwrite the variable, or delete the variable. Further, once the data is there, you can use the variable name interchangeably with the data itself.\n",
        "\n",
        "Consider the following:"
      ]
    },
    {
      "cell_type": "code",
      "metadata": {
        "id": "fiAKbHDqr-V7"
      },
      "source": [
        "avg_words_per_text"
      ],
      "execution_count": null,
      "outputs": []
    },
    {
      "cell_type": "markdown",
      "metadata": {
        "id": "wnuvc17ssCxQ"
      },
      "source": [
        "If you ran the previous code where we assigned 55.3 to avg_words_per_text, the above should print 55.3 even though you didn't do that assignment immediately previous in the code block!\n",
        "\n",
        "Consider also:"
      ]
    },
    {
      "cell_type": "code",
      "metadata": {
        "id": "x7-mzLREsahk"
      },
      "source": [
        "avg_words_per_text == 55.3"
      ],
      "execution_count": null,
      "outputs": []
    },
    {
      "cell_type": "markdown",
      "metadata": {
        "id": "mA-w0eJ2shXy"
      },
      "source": [
        "Remember that `==` compares whether two things are the same, whereas `=` assigns the value on the right to the variable on the left.\n",
        "\n",
        "So what happened here was Python compared the value in avg_words_per_text to 55.3, and since they were equal (`==`), returned True.\n",
        "\n",
        "Let's look at a more complicated assignment operation:"
      ]
    },
    {
      "cell_type": "code",
      "metadata": {
        "id": "u8d1Hs_OshBA"
      },
      "source": [
        "mi_per_km = 0.621371\n",
        "paris_to_munich_km = 841.7\n",
        "paris_to_munich_mi = paris_to_munich_km * mi_per_km\n",
        "paris_to_munich_mi"
      ],
      "execution_count": null,
      "outputs": []
    },
    {
      "cell_type": "markdown",
      "metadata": {
        "id": "FrfOZJmYtxiO"
      },
      "source": [
        "Here we created two variables (mi_per_km and paris_to_munich_km) and gave them numbers as values. We then used those variables to come up with a value for a third variable (paris_to_munich_mi). \n",
        "\n",
        "Recall that `=` always takes the value on the right and assigns it to the variable on the left. Because mi_per_km is 0.621371 and paris_to_munich_mi is 841.7, Python takes those two values, multiplies them together, and assigns the result to paris_to_munich_mi.\n",
        "\n",
        "One last thing to note: In these situations, variables generally remember their value, not how they were calculated. So for instance, if we changed the distance from paris to munich to 100 km and printed paris_to_munich_mi again..."
      ]
    },
    {
      "cell_type": "code",
      "metadata": {
        "id": "6a-Yrkm4veYM"
      },
      "source": [
        "paris_to_munich_km = 100\n",
        "paris_to_munich_mi"
      ],
      "execution_count": null,
      "outputs": []
    },
    {
      "cell_type": "markdown",
      "metadata": {
        "id": "vE1Dy9vQvkIj"
      },
      "source": [
        "paris_to_munich_mi didn't change! It doesn't remember that it was calculated from the paris_to_munich_km variable, it just knows that it was assigned the value 523.0079707 the last time it was given a value.\n",
        "\n",
        "However, we can recalculate its value easily enough..."
      ]
    },
    {
      "cell_type": "code",
      "metadata": {
        "id": "CmKzyizov750"
      },
      "source": [
        "paris_to_munich_mi = paris_to_munich_km * mi_per_km\n",
        "paris_to_munich_mi"
      ],
      "execution_count": null,
      "outputs": []
    },
    {
      "cell_type": "markdown",
      "metadata": {
        "id": "HqmFo8-U3U6U"
      },
      "source": [
        "Now lets give the Germans and French their space and restore Paris and Munich to their appropriate distance"
      ]
    },
    {
      "cell_type": "code",
      "metadata": {
        "id": "1FvsA45n3Uln"
      },
      "source": [
        "paris_to_munich_km = 841.7\n",
        "paris_to_munich_mi = paris_to_munich_km * mi_per_km\n",
        "paris_to_munich_mi"
      ],
      "execution_count": null,
      "outputs": []
    },
    {
      "cell_type": "markdown",
      "metadata": {
        "id": "TXfUjA6P3hER"
      },
      "source": [
        "That's better..."
      ]
    },
    {
      "cell_type": "markdown",
      "metadata": {
        "id": "DKYOdrWiwlHG"
      },
      "source": [
        "### 1.2.6. Printing (To Your Screen)\n",
        "---"
      ]
    },
    {
      "cell_type": "markdown",
      "metadata": {
        "id": "tY7Gvrt4w7vi"
      },
      "source": [
        "A nice thing about Notebooks is that when we're doing basic operations, things just seem to naturally get printed to the screen as output... for instance:"
      ]
    },
    {
      "cell_type": "code",
      "metadata": {
        "id": "NjnsrjHQxID1"
      },
      "source": [
        "paris_to_munich_km"
      ],
      "execution_count": null,
      "outputs": []
    },
    {
      "cell_type": "code",
      "metadata": {
        "id": "Y-dNEcgUxMyT"
      },
      "source": [
        "avg_words_per_text"
      ],
      "execution_count": null,
      "outputs": []
    },
    {
      "cell_type": "markdown",
      "metadata": {
        "id": "q5KiAa5PxPTb"
      },
      "source": [
        "If you ran the code from the previous section, those two bits of code will print the values of those variables for no other reason than because you typed them in and put them on their own line.\n",
        "\n",
        "But what happens, when you put them in the same block of code?"
      ]
    },
    {
      "cell_type": "code",
      "metadata": {
        "id": "ZziAFRPexicu"
      },
      "source": [
        "paris_to_munich_km\n",
        "avg_words_per_text"
      ],
      "execution_count": null,
      "outputs": []
    },
    {
      "cell_type": "markdown",
      "metadata": {
        "id": "_qLND9qOxkx1"
      },
      "source": [
        "Only the one listed last was printed!\n",
        "\n",
        "This is a limitation of Notebooks, and Notebooks are significantly more flexible than regular Python files (.py) vs (.ipynb).\n",
        "\n",
        "To fix this, we need to get in the habit of using the `print()` function. The print function basically confirms to Python that you want the results/contents of whatever you put into the parentheses printed to the screen.\n",
        "\n",
        "Let's try it:"
      ]
    },
    {
      "cell_type": "code",
      "metadata": {
        "id": "KsQaKze1yRq8"
      },
      "source": [
        "print(paris_to_munich_km)\n",
        "print(avg_words_per_text)"
      ],
      "execution_count": null,
      "outputs": []
    },
    {
      "cell_type": "code",
      "metadata": {
        "id": "5LINSbjZyWEy"
      },
      "source": [
        "print(\"Spam and eggs\")"
      ],
      "execution_count": null,
      "outputs": []
    },
    {
      "cell_type": "code",
      "metadata": {
        "id": "9yAMdtmhyaFr"
      },
      "source": [
        "print((5*2)+(5/3))"
      ],
      "execution_count": null,
      "outputs": []
    },
    {
      "cell_type": "code",
      "metadata": {
        "id": "vAIs5oEMyfgf"
      },
      "source": [
        "print(paris_to_munich_km * mi_per_km)"
      ],
      "execution_count": null,
      "outputs": []
    },
    {
      "cell_type": "markdown",
      "metadata": {
        "id": "hT2M-a0tyoF6"
      },
      "source": [
        "OK, well, that's all well and good. But it's kind of annoying that when we're printing out numbers, we don't also get what that number means. After all, if this were a regular program, we wouldn't be seeing the 'behind-the-scenes' code, just the output.\n",
        "\n",
        "Enter: *f-strings*. F-strings are strings (remember, strings are just text) that allow you to have other things embedded in them. You'll know f-strings because... they have an 'f' before the string. So for example:\n",
        "\n",
        "`f\"This is an f-string\"` is an f-string because the 'f' comes before the open quote.\n",
        "\n",
        "`f'This is also an f-string'` is also, it just uses single quotes.\n",
        "\n",
        "Do they work?"
      ]
    },
    {
      "cell_type": "code",
      "metadata": {
        "id": "7iRzTfqEz-az"
      },
      "source": [
        "print(f\"This is an f-string\")\n",
        "print(f'This is also an f-string')"
      ],
      "execution_count": null,
      "outputs": []
    },
    {
      "cell_type": "markdown",
      "metadata": {
        "id": "-L0rvPU_0Dyw"
      },
      "source": [
        "Yep they work, but they're also boring... those are just regular strings that happen to be in f-string format. \n",
        "\n",
        "What about that whole adding in extra content bit? Well for that we're going to embed braces in the f-string.\n",
        "\n",
        "`f\"It will be {31} degrees today\"` - well that's more interesting, we put a number in there... but we could have just as easily written that as a string too.\n",
        "\n",
        "What about...\n",
        "\n",
        "`f\"Aaron is {2007 - 1983} years older than his daughter, Em\"` - what do you think will be printed?"
      ]
    },
    {
      "cell_type": "code",
      "metadata": {
        "id": "DWna_zrB0tUh"
      },
      "source": [
        "print(f\"Aaron is {2007 - 1983} years older than his daughter, Em\")"
      ],
      "execution_count": null,
      "outputs": []
    },
    {
      "cell_type": "markdown",
      "metadata": {
        "id": "MDQy75oO02jP"
      },
      "source": [
        "Oh! That's better, but you could have just typed in the number, right? Let's get even more creative!\n",
        "\n",
        "`f\"Paris is {paris_to_munich_km * mi_per_km} miles from Munich\"` - that seems more useful:"
      ]
    },
    {
      "cell_type": "code",
      "metadata": {
        "id": "N5KUKz2T1cms"
      },
      "source": [
        "print(f\"Paris is {paris_to_munich_km * mi_per_km} miles from Munich\")"
      ],
      "execution_count": null,
      "outputs": []
    },
    {
      "cell_type": "markdown",
      "metadata": {
        "id": "kCDOka5Y3xMs"
      },
      "source": [
        "### 1.2.7. Comments\n",
        "---"
      ]
    },
    {
      "cell_type": "markdown",
      "metadata": {
        "id": "jqYL6I-h34Ks"
      },
      "source": [
        "The last thing to know in this module is how to tell the Python interpreter to ignore something. That is to 'comment' it out.\n",
        "\n",
        "Whenever Python sees `#` (outside of quotes), it interprets the rest of the line of code as being a comment for the user's edification only and ignores it.\n",
        "\n",
        "This is handy for a few reasons:\n",
        "\n",
        "1. You can use them to document the reason why you're doing something.\n",
        "2. You can use them to document what you're doing or leave yourself a note.\n",
        "3. You can use them to tell Python to skip over some code that doesn't seem to be working to see if the commented line is *really* the one causing the problem (not always the case).\n",
        "\n",
        "Let's see some examples:"
      ]
    },
    {
      "cell_type": "code",
      "metadata": {
        "id": "0RkjIJu14r6x"
      },
      "source": [
        "# This should not print\n",
        "print(\"But this should\")"
      ],
      "execution_count": null,
      "outputs": []
    },
    {
      "cell_type": "code",
      "metadata": {
        "id": "NQ3HnGNN4wGI"
      },
      "source": [
        "# Load metric to imperial constants for conversion\n",
        "km_to_mi = 0.621371\n",
        "kg_to_lb = 2.20462"
      ],
      "execution_count": null,
      "outputs": []
    },
    {
      "cell_type": "code",
      "metadata": {
        "id": "I1XB0Thh5OiJ"
      },
      "source": [
        "print(\"Look out, there's someone behind you!\") # There's really not, but let's not tell them that... :)"
      ],
      "execution_count": null,
      "outputs": []
    },
    {
      "cell_type": "code",
      "metadata": {
        "id": "9mCnzWfK5d5C"
      },
      "source": [
        "print(\"This one is inside the quotes. # So it is not a comment.\")"
      ],
      "execution_count": null,
      "outputs": []
    },
    {
      "cell_type": "code",
      "metadata": {
        "id": "QCMtKe7u5nkg"
      },
      "source": [
        "print(\"Why isn't this code working?\")\n",
        "# print(\"Could be missing a closing quotation mark here -->)\n",
        "print(\"Commenting it out makes this still run OK\")"
      ],
      "execution_count": null,
      "outputs": []
    },
    {
      "cell_type": "markdown",
      "metadata": {
        "id": "X9m1r1kB51V5"
      },
      "source": [
        "Commenting also works great for setting aside big chunks of code (e.g., when you're replacing one block of code for another, but don't want to completely delete the original). However, it can be tedious to add a `#` at the beginning of every line manually.\n",
        "\n",
        "Fortunately, there's a shortcut. Try this:\n",
        "1. Go into the Code block below.\n",
        "2. Highlight the first 5 lines of code with your mouse.\n",
        "3. Hold down the 'Ctrl' button (command button on Mac) and tap '/'."
      ]
    },
    {
      "cell_type": "code",
      "metadata": {
        "id": "qpgr6rgwLE7p"
      },
      "source": [
        "print(\"line 1\")\n",
        "print(\"line 2\")\n",
        "print(\"line 3\")\n",
        "print(\"line 4\")\n",
        "print(\"line 5\")\n",
        "\n",
        "print(\"replacement line 1\")\n",
        "print(\"replacement line 2\")\n",
        "print(\"replacement line 3\")\n",
        "print(\"replacement line 4\")\n",
        "print(\"replacement line 5\")"
      ],
      "execution_count": null,
      "outputs": []
    },
    {
      "cell_type": "markdown",
      "metadata": {
        "id": "sd4Mc9fSLiya"
      },
      "source": [
        "This should comment out the entire block of code.\n",
        "\n",
        "You can uncomment lines by repeating the same process."
      ]
    },
    {
      "cell_type": "markdown",
      "metadata": {
        "id": "DZNYJIYtLxYp"
      },
      "source": [
        "## 1.3. Practice Exercises\n",
        "---"
      ]
    },
    {
      "cell_type": "markdown",
      "metadata": {
        "id": "CDud45cIL8Vv"
      },
      "source": [
        "When I was learning Python, I would read code and think 'yep, that makes sense,' but then when it came time to do it. I'd realize that I had no clue what I was doing. I found that working on practice exercises helped.\n",
        "\n",
        "You're still going to do a lot of Googling as you get started... that's normal. You probably did (still do?) so when you use the stats package of your choice as well. Why should this be any different?\n",
        "\n",
        "To help you get your hands dirty and deepen your familiarity, I've prepared some practice exercises for you to cut your teeth on. See Section 1.4 for hints, and Section 1.5 for answers to the practice exercises.\n"
      ]
    },
    {
      "cell_type": "markdown",
      "metadata": {
        "id": "UdhhcopTNoBr"
      },
      "source": [
        "1.3.1. You have a corpus of 1,300 texts and the average text length is 3,275.32 words. Have Python tell you how many words are in the corpus."
      ]
    },
    {
      "cell_type": "code",
      "metadata": {
        "id": "oTxlAlRaNwdl"
      },
      "source": [
        ""
      ],
      "execution_count": null,
      "outputs": []
    },
    {
      "cell_type": "markdown",
      "metadata": {
        "id": "ibcRR6rPNxHx"
      },
      "source": [
        "1.3.2. You loaded three sections of a (very short) text file into three strings:\n",
        "\n",
        "The first is `\"Section 1\"`. The second is `\"Section 2\"`. The third is `\"Section 3\"`.\n",
        "\n",
        "You want them all in one string. Have Python concatenate them into one string for you. (Without you typing them all within one set of quotes)"
      ]
    },
    {
      "cell_type": "code",
      "metadata": {
        "id": "-1MmfX73OzEm"
      },
      "source": [
        ""
      ],
      "execution_count": null,
      "outputs": []
    },
    {
      "cell_type": "markdown",
      "metadata": {
        "id": "LsHwVI3rO0Vv"
      },
      "source": [
        "1.3.3. You ran an analysis of a large corpus of documents. Each document was supposed to contain exactly 325 words each. Your analysis tells you that there were 493,050 words in the corpus.\n",
        "\n",
        "Have Python tell you True if they could plausibly all have had exactly 325 words each and False if they could not."
      ]
    },
    {
      "cell_type": "code",
      "metadata": {
        "id": "zppeMsIrQKxv"
      },
      "source": [
        ""
      ],
      "execution_count": null,
      "outputs": []
    },
    {
      "cell_type": "markdown",
      "metadata": {
        "id": "mKpdmUMjSof9"
      },
      "source": [
        "1.3.4. You have 15 corpora, each with an average of 20 texts in them. Your colleague has 17 corpora, each with an average of 16 texts in them.\n",
        "\n",
        "Have Python tell you True if you have more total texts than your colleague and False if you do not."
      ]
    },
    {
      "cell_type": "code",
      "metadata": {
        "id": "s3vUigDcTe-7"
      },
      "source": [
        ""
      ],
      "execution_count": null,
      "outputs": []
    },
    {
      "cell_type": "markdown",
      "metadata": {
        "id": "oozw4OauTfpl"
      },
      "source": [
        "1.3.5. Have Python tell you the 'truthiness' of the number: 0.000000000000000001."
      ]
    },
    {
      "cell_type": "code",
      "metadata": {
        "id": "9SzbsXPgT593"
      },
      "source": [
        ""
      ],
      "execution_count": null,
      "outputs": []
    },
    {
      "cell_type": "markdown",
      "metadata": {
        "id": "3gwyzOJWT6MN"
      },
      "source": [
        "1.3.6. The past, present, and future walked into a bar. It was tense.\n",
        "\n",
        "Funny joke, right? Well, Python thought so... have Python say \"HA HA! \" 100 times in a row."
      ]
    },
    {
      "cell_type": "code",
      "metadata": {
        "id": "Cxq1DhppUV0d"
      },
      "source": [
        ""
      ],
      "execution_count": null,
      "outputs": []
    },
    {
      "cell_type": "markdown",
      "metadata": {
        "id": "NwrLZqB5UWDT"
      },
      "source": [
        "1.3.7. Fix the bug in this code: `count_a = 'The letter 'a' appears 25 times in the text'`"
      ]
    },
    {
      "cell_type": "code",
      "metadata": {
        "id": "T5V-dpKSVNmF"
      },
      "source": [
        ""
      ],
      "execution_count": null,
      "outputs": []
    },
    {
      "cell_type": "markdown",
      "metadata": {
        "id": "-CAEDwG1VOpU"
      },
      "source": [
        "1.3.8. Fix the bugs in this code: `#_of_words = 25`"
      ]
    },
    {
      "cell_type": "code",
      "metadata": {
        "id": "LPBYaTrWWPYf"
      },
      "source": [
        ""
      ],
      "execution_count": null,
      "outputs": []
    },
    {
      "cell_type": "markdown",
      "metadata": {
        "id": "l8FTX4xoXTpn"
      },
      "source": [
        "1.3.9. You were able to collect annual reports for 470 firms. Save this value in a variable called num_ann_reps."
      ]
    },
    {
      "cell_type": "code",
      "metadata": {
        "id": "Ep17qz6HXtrL"
      },
      "source": [
        ""
      ],
      "execution_count": null,
      "outputs": []
    },
    {
      "cell_type": "markdown",
      "metadata": {
        "id": "LTfUgDXQWRZ6"
      },
      "source": [
        "1.3.10. Firm annual reports are between 100 and 150 pages each. Have Python calculate the average annual report length and store the result in the variable avg_ann_rep_length."
      ]
    },
    {
      "cell_type": "code",
      "metadata": {
        "id": "W_DW4esnXTDX"
      },
      "source": [
        ""
      ],
      "execution_count": null,
      "outputs": []
    },
    {
      "cell_type": "markdown",
      "metadata": {
        "id": "hQ1aVagbXxWg"
      },
      "source": [
        "1.3.11. It takes you 3 minutes to read one page of an annual report. Using this insight and the variables you created, create a variable 'mins_to_read_corpus' that calculates how long it would take to read the corpus in its entirety."
      ]
    },
    {
      "cell_type": "code",
      "metadata": {
        "id": "HtvK5hVpYd6c"
      },
      "source": [
        ""
      ],
      "execution_count": null,
      "outputs": []
    },
    {
      "cell_type": "markdown",
      "metadata": {
        "id": "LoOh8T_-Yeuc"
      },
      "source": [
        "1.3.12. Have Python display the three values in the three variables you created in the output of one code block."
      ]
    },
    {
      "cell_type": "code",
      "metadata": {
        "id": "etVKRw5zY9UZ"
      },
      "source": [
        ""
      ],
      "execution_count": null,
      "outputs": []
    },
    {
      "cell_type": "markdown",
      "metadata": {
        "id": "sp837uxxZIiF"
      },
      "source": [
        "1.3.13. Have Python print the following message: \"It would take XX minutes for me to read my entire corpus of texts. I'm glad we have computer-aided text analysis!\" But replace XX with the contents of the 'mins_to_read_corpus' variable."
      ]
    },
    {
      "cell_type": "code",
      "metadata": {
        "id": "M80GTtxJZkzt"
      },
      "source": [
        ""
      ],
      "execution_count": null,
      "outputs": []
    },
    {
      "cell_type": "markdown",
      "metadata": {
        "id": "Eeu3QC51cu67"
      },
      "source": [
        "1.3.14. Fix the following code so that it correctly indicates that the strings are not the same?\n",
        "\n",
        "```\n",
        "string1 = \"abcd\"\n",
        "string2 = \"cdef\"\n",
        "\n",
        "print(f\"Are the strings the same? {string1 = string2}\")\n",
        "```\n",
        "\n",
        "\n"
      ]
    },
    {
      "cell_type": "code",
      "metadata": {
        "id": "JISkDCiXdwPj"
      },
      "source": [
        ""
      ],
      "execution_count": null,
      "outputs": []
    },
    {
      "cell_type": "markdown",
      "metadata": {
        "id": "OaPGy9ijZ1lF"
      },
      "source": [
        "## 1.4. Hints for Practice Exercises\n",
        "---\n"
      ]
    },
    {
      "cell_type": "markdown",
      "metadata": {
        "id": "En6m_cTzZ8ZN"
      },
      "source": [
        "1.3.1. You have a corpus of 1,300 texts and the average text length is 3,275.32 words. Have Python tell you how many words are in the corpus.\n",
        "\n",
        "Hints:\n",
        "*   The arithmetic operator for multiplication is `*`\n",
        "*   Don't put the commas in the numbers for Python (decimals are fine)\n",
        "\n"
      ]
    },
    {
      "cell_type": "markdown",
      "metadata": {
        "id": "7VqQPAemaRy9"
      },
      "source": [
        "1.3.2. You loaded three sections of a (very short) text file into three strings:\n",
        "\n",
        "The first is `\"Section 1\"`. The second is `\"Section 2\"`. The third is `\"Section 3\"`.\n",
        "\n",
        "You want them all in one string. Have Python concatenate them into one string for you. (Without you typing them all within one set of quotes)\n",
        "\n",
        "Hint:\n",
        "\n",
        "*   Arithmetic operators are not limited to numbers in Python"
      ]
    },
    {
      "cell_type": "markdown",
      "metadata": {
        "id": "KMtVz6Cxamgb"
      },
      "source": [
        "1.3.3. You ran an analysis of a large corpus of documents. Each document was supposed to contain exactly 325 words each. Your analysis tells you that there were 493,050 words in the corpus.\n",
        "\n",
        "Have Python tell you True if they could plausibly all have had exactly 325 words each and False if they could not.\n",
        "\n",
        "Hints:\n",
        "\n",
        "*   The Modulus (`%`) operator will help you here\n",
        "*   When you want a True or False answer you're looking for a Boolean (truth testing) operator. Which Boolean operator tests whether two things are the same?\n",
        "\n"
      ]
    },
    {
      "cell_type": "markdown",
      "metadata": {
        "id": "1SuhuQgEbSv4"
      },
      "source": [
        "1.3.4. You have 15 corpora, each with an average of 20 texts in them. Your colleague has 17 corpora, each with an average of 16 texts in them.\n",
        "\n",
        "Have Python tell you True if you have more total texts than your colleague and False if you do not.\n",
        "\n",
        "Hints:\n",
        "\n",
        "*   You can have arithmetic expressions on both sides of a boolean operator\n",
        "*   Which boolean operator tests whether one thing is bigger than another thing?\n",
        "\n"
      ]
    },
    {
      "cell_type": "markdown",
      "metadata": {
        "id": "7KbBzsDnbtu0"
      },
      "source": [
        "1.3.5. Have Python tell you the 'truthiness' of the number: 0.000000000000000001.\n",
        "\n",
        "Hint:\n",
        "\n",
        "*   The `bool()` function tests for truthiness"
      ]
    },
    {
      "cell_type": "markdown",
      "metadata": {
        "id": "1-gTebpPb_XQ"
      },
      "source": [
        "1.3.6. The past, present, and future walked into a bar. It was tense.\n",
        "\n",
        "Funny joke, right? Well, Python thought so... have Python say \"HA HA! \" 100 times in a row.\n",
        "\n",
        "Hint:\n",
        "\n",
        "*   Arithmetic operators are not just for numbers.\n",
        "\n",
        "\n"
      ]
    },
    {
      "cell_type": "markdown",
      "metadata": {
        "id": "__pAHCt0cKmh"
      },
      "source": [
        "1.3.7. Fix the bug in this code: `count_a = 'The letter 'a' appears 25 times in the text'`\n",
        "\n",
        "Hints:\n",
        "\n",
        "*   When you copy the code into the code block, does part of the string change to a different color than the rest of it?\n",
        "*   What happens when you use apostrophes both to offset a string and in the string itself.\n",
        "\n"
      ]
    },
    {
      "cell_type": "markdown",
      "metadata": {
        "id": "yy-Hoh9SehLp"
      },
      "source": [
        "1.3.8. Fix the bug in this code: `#_of_words = 25`\n",
        "\n",
        "Hint:\n",
        "\n",
        "*   What are the rules for variable names?\n",
        "\n"
      ]
    },
    {
      "cell_type": "markdown",
      "metadata": {
        "id": "X6lOUd2qhH1a"
      },
      "source": [
        "1.3.9. You were able to collect annual reports for 470 firms. Save this value in a variable called num_ann_reps.\n",
        "\n",
        "Hint:\n",
        "\n",
        "\n",
        "*   What operator do you use to assign values to variables?\n",
        "*   Remember that the variable goes on the left and the value goes on the right.\n",
        "\n",
        "\n"
      ]
    },
    {
      "cell_type": "markdown",
      "metadata": {
        "id": "tqNn9IC0hoLy"
      },
      "source": [
        "1.3.10. Firm annual reports are between 100 and 150 pages each. Have Python calculate the average annual report length and store the result in the variable avg_ann_rep_length.\n",
        "\n",
        "Hints:\n",
        "\n",
        "*   You're still assigning a value to a variable, but this time you have an expression rather than just a number for your 'value'\n",
        "*   Remember your order of operations, use parentheses where necessary\n",
        "\n"
      ]
    },
    {
      "cell_type": "markdown",
      "metadata": {
        "id": "IVNVO4chiLn_"
      },
      "source": [
        "1.3.11. It takes you 3 minutes to read one page of an annual report. Using this insight and the variables you created, create a variable 'mins_to_read_corpus' that calculates how long it would take to read the corpus in its entirety.\n",
        "\n",
        "Hints:\n",
        "\n",
        "*   You're still assigning a value to a variable, but this time you're using an expression containing other variables for your 'value'\n",
        "\n"
      ]
    },
    {
      "cell_type": "markdown",
      "metadata": {
        "id": "kOZehWMBj1XG"
      },
      "source": [
        "1.3.12. Have Python display the three values in the three variables you created in the output of one code block.\n",
        "\n",
        "Hints:\n",
        "\n",
        "*   When you want to display more than one variable, you cannot just type the variable name.\n",
        "*   The `print()` function displays things to your screen.\n",
        "\n"
      ]
    },
    {
      "cell_type": "markdown",
      "metadata": {
        "id": "8jwjO-lTkWwR"
      },
      "source": [
        "1.3.13. Have Python print the following message: \"It would take XX minutes for me to read my entire corpus of texts. I'm glad we have computer-aided text analysis!\" But replace XX with the contents of the 'mins_to_read_corpus' variable.\n",
        "\n",
        "Hints:\n",
        "\n",
        "*   *f-strings* are valuable for their ability to incorporate variables in a string.\n",
        "*   Sometimes it's easiest to build it in pieces. Get it to print the statement without the variable first. Then change it to incorporate the variable."
      ]
    },
    {
      "cell_type": "markdown",
      "metadata": {
        "id": "ONsKVtt4lYib"
      },
      "source": [
        "1.3.14. Fix the following code so that it correctly indicates that the strings are not the same?\n",
        "\n",
        "```\n",
        "string1 = \"abcd\"\n",
        "string2 = \"cdef\"\n",
        "\n",
        "print(f\"Are the strings the same? {string1 = string2}\")\n",
        "```\n",
        "\n",
        "Hint:\n",
        "\n",
        "*   What is the difference between `=` and `==` again?\n",
        "\n"
      ]
    },
    {
      "cell_type": "markdown",
      "metadata": {
        "id": "2QBtZc3CeswJ"
      },
      "source": [
        "## 1.5. Solutions to Practice Exercises\n",
        "---"
      ]
    },
    {
      "cell_type": "code",
      "metadata": {
        "id": "eGqRS__5ex5f"
      },
      "source": [
        "# 1.3.1. Have Python tell you how many words are in the corpus.\n",
        "\n",
        "1300 * 3275.32"
      ],
      "execution_count": null,
      "outputs": []
    },
    {
      "cell_type": "code",
      "metadata": {
        "id": "kBOvWU7-ez-X"
      },
      "source": [
        "# 1.3.2. Have Python concatenate them into one string for you.\n",
        "\n",
        "\"Section 1\"+\" \"+\"Section 2\"+\" \"+\"Section 3\"\n",
        "# Don't worry if you didn't have a space in between, that's extra credit."
      ],
      "execution_count": null,
      "outputs": []
    },
    {
      "cell_type": "code",
      "metadata": {
        "id": "CneXUPJTe1Vd"
      },
      "source": [
        "# 1.3.3. Have Python tell you True if they could plausibly all had 325 words.\n",
        "\n",
        "#Option 1\n",
        "493050 % 325 == 0\n",
        "\n",
        "#Option 2 - the workaholic way\n",
        "493050 / 325 == 493050 // 325"
      ],
      "execution_count": null,
      "outputs": []
    },
    {
      "cell_type": "code",
      "metadata": {
        "id": "VdILpQ9Pe3Bn"
      },
      "source": [
        "# 1.3.4. Have Python tell you True if you have more total texts\n",
        "\n",
        "15 * 20 > 17 * 16"
      ],
      "execution_count": null,
      "outputs": []
    },
    {
      "cell_type": "code",
      "metadata": {
        "id": "35NR-wmSe353"
      },
      "source": [
        "# 1.3.5. Have Python tell you the 'truthiness' of: 0.000000000000000001.\n",
        "\n",
        "bool(0.000000000000000001)"
      ],
      "execution_count": null,
      "outputs": []
    },
    {
      "cell_type": "code",
      "metadata": {
        "id": "mN3FNSuYe5nN"
      },
      "source": [
        "# 1.3.6. Have Python say \"HA HA! \" 100 times in a row.\n",
        "\n",
        "\"HA HA! \" * 100"
      ],
      "execution_count": null,
      "outputs": []
    },
    {
      "cell_type": "code",
      "metadata": {
        "id": "z_6jCEhAe7Fd"
      },
      "source": [
        "# 1.3.7. Fix the bug in count_a = 'The letter 'a' appears 25 times in the text'\n",
        "\n",
        "# Option 1\n",
        "count_a = \"The letter 'a' appears 25 times in the text\"\n",
        "\n",
        "# Option 2\n",
        "count_a = 'The letter \\'a\\' appears 25 times in the text'"
      ],
      "execution_count": null,
      "outputs": []
    },
    {
      "cell_type": "code",
      "metadata": {
        "id": "RMuXeDuhe80J"
      },
      "source": [
        "# 1.3.8. Fix the bug in this code: `#_of_words = 25`\n",
        "\n",
        "num_of_words = 25"
      ],
      "execution_count": null,
      "outputs": []
    },
    {
      "cell_type": "code",
      "metadata": {
        "id": "B18iOE63hbFq"
      },
      "source": [
        "# 1.3.9. Assign 470 to the variable num_ann_reps.\n",
        "\n",
        "num_ann_reps = 470"
      ],
      "execution_count": null,
      "outputs": []
    },
    {
      "cell_type": "code",
      "metadata": {
        "id": "0RnQX7Rlh409"
      },
      "source": [
        "# 1.3.10. Average 100 and 150 and store it in the variable avg_ann_rep_length.\n",
        "\n",
        "avg_ann_rep_length = (100 + 150) / 2"
      ],
      "execution_count": null,
      "outputs": []
    },
    {
      "cell_type": "code",
      "metadata": {
        "id": "UZy_r04jic18"
      },
      "source": [
        "# 1.3.11. Store the length to read the corpus in variable 'mins_to_read_corpus'.\n",
        "\n",
        "mins_to_read_corpus = 3 * avg_ann_rep_length * num_ann_reps"
      ],
      "execution_count": null,
      "outputs": []
    },
    {
      "cell_type": "code",
      "metadata": {
        "id": "A19jd_5RkEuz"
      },
      "source": [
        "# 1.3.12. Have Python display the three values in the three variables.\n",
        "\n",
        "print(num_ann_reps)\n",
        "print(avg_ann_rep_length)\n",
        "print(mins_to_read_corpus)"
      ],
      "execution_count": null,
      "outputs": []
    },
    {
      "cell_type": "code",
      "metadata": {
        "id": "00ZG3GDrkQIE"
      },
      "source": [
        "# 1.3.13. Have Python print the following message with the variable included.\n",
        "\n",
        "print(f\"It would take {mins_to_read_corpus} minutes for me to read my entire corpus of texts. I'm glad we have computer-aided text analysis!\")"
      ],
      "execution_count": null,
      "outputs": []
    },
    {
      "cell_type": "code",
      "metadata": {
        "id": "wqNDq-YPluvI"
      },
      "source": [
        "# 1.3.14. Fix the following code so that it correctly indicates that \n",
        "# the strings are not the same.\n",
        "\n",
        "string1 = \"abcd\"\n",
        "string2 = \"cdef\"\n",
        "\n",
        "print(f\"Are the strings the same? {string1 == string2}\")"
      ],
      "execution_count": null,
      "outputs": []
    }
  ]
}