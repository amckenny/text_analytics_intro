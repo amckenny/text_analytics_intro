{
  "nbformat": 4,
  "nbformat_minor": 0,
  "metadata": {
    "colab": {
      "name": "03_flow_control_and_functions.ipynb",
      "provenance": [],
      "collapsed_sections": [],
      "authorship_tag": "ABX9TyMF/VjoQ/k1taEj4YznD86m",
      "include_colab_link": true
    },
    "kernelspec": {
      "name": "python3",
      "display_name": "Python 3"
    },
    "language_info": {
      "name": "python"
    }
  },
  "cells": [
    {
      "cell_type": "markdown",
      "metadata": {
        "id": "view-in-github",
        "colab_type": "text"
      },
      "source": [
        "<a href=\"https://colab.research.google.com/github/amckenny/text_analytics_intro/blob/main/notebooks/03_flow_control_and_functions.ipynb\" target=\"_parent\"><img src=\"https://colab.research.google.com/assets/colab-badge.svg\" alt=\"Open In Colab\"/></a>"
      ]
    },
    {
      "cell_type": "markdown",
      "metadata": {
        "id": "bXmLfJJZ16fC"
      },
      "source": [
        "#**Prerequisites** \n",
        "---"
      ]
    },
    {
      "cell_type": "markdown",
      "metadata": {
        "id": "g0MVW9rYlMpG"
      },
      "source": [
        "Starting in this module I will be putting the import statements used in the module and other preparatory code at the beginning of the module. \n",
        "\n",
        "Please be sure to run this code before going through the module."
      ]
    },
    {
      "cell_type": "code",
      "metadata": {
        "id": "MisM0TG42D4U"
      },
      "source": [
        "from collections import Counter\n",
        "from random import randint"
      ],
      "execution_count": null,
      "outputs": []
    },
    {
      "cell_type": "markdown",
      "metadata": {
        "id": "1n60ivhxrY7B"
      },
      "source": [
        "# Module 3 - Flow Control and Functions in Python\n",
        "---"
      ]
    },
    {
      "cell_type": "markdown",
      "metadata": {
        "id": "qJvbERwnyk25"
      },
      "source": [
        "Up to this point, our experience with Python has been very sequential. Every line of code we write gets executed once (and only once). For really basic analyses, that's fine.\n",
        "\n",
        "Consider the solution to the 'Text Analysis Challenger Problem' from the previous module:"
      ]
    },
    {
      "cell_type": "code",
      "metadata": {
        "id": "O0dMbWZ0n0IR"
      },
      "source": [
        "original_text = \"Let's do some Computer-Aided Text Analyses. I can't wait to see the text analytic results!\" # Original string\n",
        "preprocessed_text = original_text.lower() # Standardize case\n",
        "preprocessed_text = preprocessed_text.replace(\"'s\", \" us\").replace(\"'t\", \" not\") # Expand contractions\n",
        "preprocessed_text = preprocessed_text.replace(\"!\", \"\").replace(\".\", \"\") # Remove punctuation\n",
        "preprocessed_text = preprocessed_text.split(\" \") # Split the string into a list of words\n",
        "\n",
        "word_counter = Counter(preprocessed_text) # Create the Counter\n",
        "\n",
        "print(word_counter) # Print the word counts"
      ],
      "execution_count": null,
      "outputs": []
    },
    {
      "cell_type": "markdown",
      "metadata": {
        "id": "S_1sZPRdzByV"
      },
      "source": [
        "Python works through this code line by line from top to bottom and then stops. For the task assigned (counting all words in both sentences), this is perfectly fine. However, what if we wanted a separate count *for each sentence*?\n",
        "\n",
        "Well that gets more complicated. But it's still technically possible to do with the techniques we already know..."
      ]
    },
    {
      "cell_type": "code",
      "metadata": {
        "id": "HiKYjDaS0OVP"
      },
      "source": [
        "original_text = \"Let's do some Computer-Aided Text Analyses. I can't wait to see the text analytic results!\"\n",
        "preprocessed_text = original_text.lower()\n",
        "preprocessed_text = preprocessed_text.replace(\"'s\", \" us\").replace(\"'t\", \" not\")\n",
        "preprocessed_text = preprocessed_text.replace(\"!\", \".\")\n",
        "\n",
        "sentence_list = preprocessed_text.split(\".\") # Split the string into a list of sentences\n",
        "\n",
        "word_list = [sentence_list[0].split(\" \")] # Split sentence 1 into a list of words\n",
        "word_list.append(sentence_list[1].split(\" \")) # Split sentence 2 into a list of words\n",
        "\n",
        "word_counter_list = [Counter(word_list[0])] # Create a counter for the first sentence's words\n",
        "word_counter_list.append(Counter(word_list[1])) #Create a counter for the second sentence's words\n",
        "\n",
        "print(word_counter_list)"
      ],
      "execution_count": null,
      "outputs": []
    },
    {
      "cell_type": "markdown",
      "metadata": {
        "id": "sY0PwFMr3sRA"
      },
      "source": [
        "That doesn't look *too* bad, but let's see how well this scales up to larger texts. Let's be reasonable... say, five sentences."
      ]
    },
    {
      "cell_type": "code",
      "metadata": {
        "id": "mVw7yHot374h"
      },
      "source": [
        "original_text = \"Let's do some Computer-Aided Text Analyses. I can't wait to see the text analytic results! This is sentence three. This is Sentence four. This is sentence five.\"\n",
        "preprocessed_text = original_text.lower()\n",
        "preprocessed_text = preprocessed_text.replace(\"'s\", \" us\").replace(\"'t\", \" not\")\n",
        "preprocessed_text = preprocessed_text.replace(\"!\", \".\")\n",
        "\n",
        "sentence_list = preprocessed_text.split(\".\") # Split the string into a list of sentences\n",
        "\n",
        "word_list = [sentence_list[0].split(\" \")] # Split sentence 1 into a list of words\n",
        "word_list.append(sentence_list[1].split(\" \")) # Split sentence 2 into a list of words\n",
        "word_list.append(sentence_list[2].split(\" \")) # Split sentence 3 into a list of words\n",
        "word_list.append(sentence_list[3].split(\" \")) # Split sentence 4 into a list of words\n",
        "word_list.append(sentence_list[4].split(\" \")) # Split sentence 5 into a list of words\n",
        "\n",
        "word_counter_list = [Counter(word_list[0])] # Create a counter for the first sentence's words\n",
        "word_counter_list.append(Counter(word_list[1])) #Create a counter for the second sentence's words\n",
        "word_counter_list.append(Counter(word_list[2])) #Create a counter for the third sentence's words\n",
        "word_counter_list.append(Counter(word_list[3])) #Create a counter for the fourth sentence's words\n",
        "word_counter_list.append(Counter(word_list[4])) #Create a counter for the fifth sentence's words\n",
        "\n",
        "print(word_counter_list)"
      ],
      "execution_count": null,
      "outputs": []
    },
    {
      "cell_type": "markdown",
      "metadata": {
        "id": "RTJyoxZN4NSO"
      },
      "source": [
        "That... seems to grow out of control quickly. \n",
        "\n",
        "* Imagine having one shareholder letter with 50 sentences in it. \n",
        "\n",
        "* Now, imagine having 500 shareholder letters, each with 50 sentences in it.\n",
        "\n",
        "Yikes. So that's problem #1. Let's take a look at problem #2:\n",
        "\n",
        "In our original text we used the `replace()` method to replace all instances of \"'s\" with \"us\"... does that work with more all texts?"
      ]
    },
    {
      "cell_type": "code",
      "metadata": {
        "id": "-AC_ozYW5NFa"
      },
      "source": [
        "original_text = \"Let's do some Computer-Aided Text Analyses. It's a good time to be a text analyst!\"\n",
        "\n",
        "preprocessed_text = original_text.lower()\n",
        "preprocessed_text = preprocessed_text.replace(\"'s\", \" us\").replace(\"'t\", \" not\")\n",
        "\n",
        "print(preprocessed_text)"
      ],
      "execution_count": null,
      "outputs": []
    },
    {
      "cell_type": "markdown",
      "metadata": {
        "id": "54Rr2J_p5bLv"
      },
      "source": [
        "That's an issue too; \"'s\" only means \"us\" some times. Other times it means \"is\".\n",
        "\n",
        "Here too, we can address this with making our code longer and more complicated:"
      ]
    },
    {
      "cell_type": "code",
      "metadata": {
        "id": "UVlLRZ-V605j"
      },
      "source": [
        "original_text = \"Let's do some Computer-Aided Text Analyses. It's a good time to be a text analyst!\"\n",
        "\n",
        "preprocessed_text = original_text.replace(\"let's\", \" us\").replace(\"it's\", \" us\").replace(\"'t\", \" not\")\n",
        "\n",
        "print(preprocessed_text)"
      ],
      "execution_count": null,
      "outputs": []
    },
    {
      "cell_type": "markdown",
      "metadata": {
        "id": "3rH5TgK-6GH6"
      },
      "source": [
        "However, again, what happens with other \"'s\" ending words? There has to be an easier way.\n",
        "\n",
        "One potential answer - the one we're going to talk about here - is flow control. Specifically, we want to be able to control the order in which Python processes our code. Sometimes we want Python to repeat the same block of code over and over again. Sometimes we want Python to execute one block of code over another based on some criteria we provide.\n",
        "\n",
        "In this module, we're going to cover how to do both.\n",
        "\n",
        "Learning outcomes for this module:\n",
        "\n",
        "* Ability to understand and use conditional flow control statements: 'if'/'else'/'elif'.\n",
        "* Ability to understand and use looping flow control statements: 'for', 'while', and list comprehensions.\n",
        "* Ability to build and use user-defined functions."
      ]
    },
    {
      "cell_type": "markdown",
      "metadata": {
        "id": "gOWrgMz684xD"
      },
      "source": [
        "##3.1. Conditional Statements: If/Else/Elif\n",
        "---"
      ]
    },
    {
      "cell_type": "markdown",
      "metadata": {
        "id": "UGj95C4w9rPe"
      },
      "source": [
        "There are times when we need Python to choose what code to run based on a certain 'condition'. For instance, above we noted that we'd like to replace \"'s\" with \"us\" only for certain words, and to replace it with \"is\" for other words. We're going to demonstrate how to do this using Python's 'if' statement."
      ]
    },
    {
      "cell_type": "markdown",
      "metadata": {
        "id": "sDRbkTfWS6kY"
      },
      "source": [
        "###3.1.1. The If Statement\n",
        "\n",
        "To specify that a block of code should only be run under certain conditions, we use the 'if' statement. The general structure is:\n",
        "```\n",
        "if condition(s):\n",
        "    action 1\n",
        "    action 2\n",
        "    action 3\n",
        "```\n",
        "\n",
        "If blocks have two parts: the if statement and the contingent block of code.\n",
        "\n",
        "The 'if' statement starts with 'if', is followed by a condition, and ends with a colon (':'). The only thing that changes from one use to another is the condition. What you put in that condition determines whether the contingent block of code is run or not. Specifically, if what you put in the condition is true, the block of code will run. If not, it won't.\n",
        "\n",
        "Let's see the two most simple examples of this possible:"
      ]
    },
    {
      "cell_type": "code",
      "metadata": {
        "id": "lNhGHyKtVO-o"
      },
      "source": [
        "if True:\n",
        "  print(\"This will be printed\")"
      ],
      "execution_count": null,
      "outputs": []
    },
    {
      "cell_type": "code",
      "metadata": {
        "id": "6ZJJnGG1Vphn"
      },
      "source": [
        "if False:\n",
        "  print(\"This will not be printed\")"
      ],
      "execution_count": null,
      "outputs": []
    },
    {
      "cell_type": "markdown",
      "metadata": {
        "id": "51BJPsGMVvF5"
      },
      "source": [
        "True is, by definition, True - so the Python executed the contingent block of code. On the other hand, False is, by definition, not True - so Python skipped the contingent block of code.\n",
        "\n",
        "Ok, that makes sense, but we're never going to do something *that* trivial in our code. Let's take it one step further and replace True/False with something that **evaluates to** True or False:"
      ]
    },
    {
      "cell_type": "code",
      "metadata": {
        "id": "aJWBnYj9Wz9e"
      },
      "source": [
        "num_of_pages = 100\n",
        "if num_of_pages > 50:\n",
        "  print(\"That is a lot of reading!\")"
      ],
      "execution_count": null,
      "outputs": []
    },
    {
      "cell_type": "code",
      "metadata": {
        "id": "3ZpWuNXqW9O4"
      },
      "source": [
        "num_of_pages = 10\n",
        "if num_of_pages > 50:\n",
        "  print(\"That is a lot of reading!\")"
      ],
      "execution_count": null,
      "outputs": []
    },
    {
      "cell_type": "markdown",
      "metadata": {
        "id": "6ADk6FK2XFK-"
      },
      "source": [
        "OK, this seems more useful. This is far less trivial and more useful. If we want to confirm exactly why this works, we can go back to what we learned about the output of our *boolean operators* from the first module:"
      ]
    },
    {
      "cell_type": "code",
      "metadata": {
        "id": "deT5ASeRXpPC"
      },
      "source": [
        "num_of_pages = 100\n",
        "print(f\"{num_of_pages} > 50 evaluates to: {num_of_pages > 50}\")\n",
        "\n",
        "num_of_pages = 10\n",
        "print(f\"{num_of_pages} > 50 evaluates to: {num_of_pages > 50}\")"
      ],
      "execution_count": null,
      "outputs": []
    },
    {
      "cell_type": "markdown",
      "metadata": {
        "id": "LtbHe5SnX4bp"
      },
      "source": [
        "So when Python reads the code above, it simplifies `if num_of_pages > 50:` to:\n",
        "\n",
        "* `if 100 > 50:` and finally to `if True` in the first case, and\n",
        "* `if 10 > 50:` and finally to `if False` in the first case.\n",
        "\n",
        "We can build these condition statements to be as simple or complex as we want:\n"
      ]
    },
    {
      "cell_type": "code",
      "metadata": {
        "id": "g5P8osToY5MH"
      },
      "source": [
        "num_of_pages = 10\n",
        "words_per_page = 600\n",
        "\n",
        "if num_of_pages > 50 or words_per_page * num_of_pages > 5000:\n",
        "  print(\"That is a lot of reading!\")\n",
        "\n",
        "#You can ignore the below code, just look at what is printed\n",
        "print(\"\\n\\n=== Why did that get/not get printed? ===\")\n",
        "print(f\"\\nClause 1: num_of_pages > 50  -->  {num_of_pages} > 50  -->  {num_of_pages > 50}\")\n",
        "print(f\"\\nClause 2: words_per_page * num_of_pages > 5000  -->  {words_per_page} * {num_of_pages} > 5000  -->  {words_per_page * num_of_pages} > 5000  -->  {words_per_page * num_of_pages > 5000}\")\n",
        "print(f\"\\nClause 1 OR Clause 2: {num_of_pages > 50} or {words_per_page * num_of_pages > 5000}  -->  {num_of_pages > 50 or words_per_page * num_of_pages > 5000}  <-- That is why!\")"
      ],
      "execution_count": null,
      "outputs": []
    },
    {
      "cell_type": "markdown",
      "metadata": {
        "id": "5PZtimbjaxoJ"
      },
      "source": [
        "The above code warns someone that they are going to have a lot of reading to do. However, according to the code, that's not as simple as just knowing the number of pages to read. It's no longer just about the number of pages... if there are lots of words per page, even a smaller number of pages could end up being a lot of reading. This more complex 'if' condition captures that logic.\n",
        "\n",
        "Play with the variable values for yourself to see how doing so influences whether Python warns you about how much reading you'll do.\n",
        "\n",
        "We've been using numbers and boolean operators here, but 'if' statements can be used with anything that can be reduced to True or False. Consider: "
      ]
    },
    {
      "cell_type": "code",
      "metadata": {
        "id": "wsjhQdHhcv3V"
      },
      "source": [
        "# Strings\n",
        "scholar_name = \"Aaron\"\n",
        "if scholar_name == \"Aaron\":\n",
        "  print(\"Why hello, Aaron!\")"
      ],
      "execution_count": null,
      "outputs": []
    },
    {
      "cell_type": "code",
      "metadata": {
        "id": "TzH1NCoIeCkb"
      },
      "source": [
        "# Lists\n",
        "big_ten = ['Indiana', 'Maryland','Michigan','Michigan State','Ohio State','Penn State','Rutgers','Illinois','Iowa','Minnesota','Nebraska','Northwestern','Purdue','Wisconsin']\n",
        "my_institution = \"Indiana\"\n",
        "if my_institution in big_ten:\n",
        "  print(f\"Yep, {my_institution} is in the Big Ten\")"
      ],
      "execution_count": null,
      "outputs": []
    },
    {
      "cell_type": "code",
      "metadata": {
        "id": "EvGZZV2QeCYH"
      },
      "source": [
        "# Truthiness of a dictionary\n",
        "ibm_information = {\"num_employees\": 345900,\n",
        "                   \"ceo_name\": \"Arvind Krishna\",\n",
        "                   \"board_members\": [\"Thomas Buberl\", \"Michael Eskew\", \"David Farr\"]}\n",
        "if ibm_information:\n",
        "  print(\"Information on IBM was found!\")"
      ],
      "execution_count": null,
      "outputs": []
    },
    {
      "cell_type": "markdown",
      "metadata": {
        "id": "7JUrmVkEd_N6"
      },
      "source": [
        "This last piece of code merits some additional discussion. I've mentioned 'truthiness' multiple times in the last few modules, and maybe it has struck you as strange:\n",
        "* Why so many things in Python have a 'truth' value, and\n",
        "* Why we should care.\n",
        "\n",
        "Flow control is a big reason why. Let's think through a scenario to understand why:\n",
        "\n",
        "We're going out and collecting tweets of entrepreneurs. Unfortunately, some tweets have no text in them, so when we store those texts in a variable, it's just an empty string: `\"\"`. The variable exists, but there's nothing there.\n",
        "\n",
        "Do we really want to process this text? Not really, it'd be nice to just skip that one and move on to the next one. To do this, we could say:\n",
        "\n",
        "```\n",
        "if tweet_text == \"\":\n",
        "  # Do something\n",
        "```\n",
        "\n",
        "However, because empty strings evaluate to False and strings with something in them evaluate to True, we can simplify this:\n",
        "\n",
        "```\n",
        "if tweet_text:\n",
        "  # Do something\n",
        "```\n",
        "\n",
        "You will see this a lot in Python code, so it's worth being familiar with even if you don't use this shortcut yourself. Let's see it in action:"
      ]
    },
    {
      "cell_type": "code",
      "metadata": {
        "id": "bPE8QGHAgMYU"
      },
      "source": [
        "tweet_text = \"This tweet had text in it\"\n",
        "if tweet_text:\n",
        "  print(\"This tweet needs to be preprocessed and analyzed.\")"
      ],
      "execution_count": null,
      "outputs": []
    },
    {
      "cell_type": "markdown",
      "metadata": {
        "id": "WWYYL2_lgYTA"
      },
      "source": [
        "Play with the value of tweet_text above, change it to an empty string (\"\") and see what happens."
      ]
    },
    {
      "cell_type": "markdown",
      "metadata": {
        "id": "R5S2IIRQgq7R"
      },
      "source": [
        "###3.1.2. Indentation in Python\n",
        "---\n"
      ]
    },
    {
      "cell_type": "markdown",
      "metadata": {
        "id": "hohTI2Hfgzqg"
      },
      "source": [
        "You'll notice above that the contingent block of code was indented following the 'if' statement. \n",
        "\n",
        "This was done on purpose. Python needs some way to differentiate between what is part of the contingent block of code and other code that is independent of the 'if' statement. Python uses the indentation level to create that separation.\n",
        "\n",
        "Consider the below:"
      ]
    },
    {
      "cell_type": "code",
      "metadata": {
        "id": "jT-khzn8hu0C"
      },
      "source": [
        "num_of_pages = 1000\n",
        "if num_of_pages > 500:\n",
        "         print(\"That is a lot of reading!\\n\")\n",
        "         print(\"You should probably consider letting the computer help you...\\n\")\n",
        "print(\"This will always be printed\")\n"
      ],
      "execution_count": null,
      "outputs": []
    },
    {
      "cell_type": "markdown",
      "metadata": {
        "id": "Tj0xaGMri0Of"
      },
      "source": [
        "I have exaggerated the indentation to draw your attention to it, but the number of spaces the code is indented doesn't *technically* matter so long as you are consistent. More on that later...\n",
        "\n",
        "When you ran the code, all three sentences were printed because the if condition evaluated to True. That makes sense.\n",
        "\n",
        "Try something for me: Tweak num_of_pages so that the contingent block of code doesn't execute. What happens?\n",
        "\n",
        "Because `print(\"This will always be printed\")` at the same indentation level as the `if num of pages > 500:` statement, Python interprets that print statement as **following** the if statement. In other words, after the if statement (and its components) are executed, that print statement comes next.\n",
        "\n",
        "Now try something else: Remove all the leading spaces before the second 'print' statement and run the code again. What happens now?\n",
        "\n",
        "Because the print statement is no longer indented, it's no longer part of the contingent code block, it's part of the main code sequence that will always be executed!"
      ]
    },
    {
      "cell_type": "markdown",
      "metadata": {
        "id": "64A6y8oOkvda"
      },
      "source": [
        "**A couple of notes on indentation**\n",
        "* Never change your indentation without a good reason to do so, you'll confuse Python. Consider:"
      ]
    },
    {
      "cell_type": "code",
      "metadata": {
        "id": "k2NOti-jlB9r"
      },
      "source": [
        "if True:\n",
        "    print(\"This is indented\")\n",
        "        print(\"Why did I change the indentation?\")"
      ],
      "execution_count": null,
      "outputs": []
    },
    {
      "cell_type": "markdown",
      "metadata": {
        "id": "6eu5R3sPlSZT"
      },
      "source": [
        "* When you're un-indenting, you don't have to go back to the immediately previous level, but you do have to go back to a level you used previously. Consider:"
      ]
    },
    {
      "cell_type": "code",
      "metadata": {
        "id": "BBw2H3LjlR-p"
      },
      "source": [
        "num_of_pages = 11\n",
        "if num_of_pages > 5:\n",
        "        print(\"There are more than 5 pages\")\n",
        "        if num_of_pages > 10:\n",
        "                print(\"There are also more than 10 pages\")\n",
        "    print(\"This is a problem... this is between the top-level and first indentation level... which block does this belong to? Try moving me to the top-level\")"
      ],
      "execution_count": null,
      "outputs": []
    },
    {
      "cell_type": "markdown",
      "metadata": {
        "id": "rFK-zV_JmUN8"
      },
      "source": [
        "* If you have an 'if' statement, you **must** have an indented contingent code block. If you want to leave it temporarily empty while you work on other things, enter `pass` as your indented contingent code block and Python will stop screaming at you. Try it below:"
      ]
    },
    {
      "cell_type": "code",
      "metadata": {
        "id": "-d-EaDH2lKPX"
      },
      "source": [
        "if num_of_pages > 10:\n",
        "print(\"I'll come back and work on this later...\")"
      ],
      "execution_count": null,
      "outputs": []
    },
    {
      "cell_type": "markdown",
      "metadata": {
        "id": "07IbdfgknSiJ"
      },
      "source": [
        "* How far to indent per level? Again, it doesn't really matter so long as you're consistent. 4 spaces is pretty common. The default in Google Colaboratory is 2.\n",
        "* Tabs or spaces - oh boy, here we go. How you get the indentation doesn't really matter. Both the Tab button or pressing the spacebar multiple times will work so long as you're consistent in the indention level. For code editors like Google Colaboratory when you press the tab button, it converts that into a certain number of spaces (this number can be changed in the settings). However, this isn't true in all editors. In those editors where that's not the case, there are camps within the programming community that have **very** strong feelings about this (so much so that it came up in the HBO series Silicon Valley). We'll leave this here since it doesn't matter in Google Colaboratory where we'll be tinkering... but it is something to be aware of if you branch out into the broader Python community."
      ]
    },
    {
      "cell_type": "markdown",
      "metadata": {
        "id": "9OosKxqipdEo"
      },
      "source": [
        "###3.1.3. The Elif Statement\n",
        "---"
      ]
    },
    {
      "cell_type": "markdown",
      "metadata": {
        "id": "PpKgXm4fpwAw"
      },
      "source": [
        "Sometimes we don't want our condition to be all-or-nothing. Sometimes if our first condition isn't met we want to see whether a secondary condition might be met. Enter the `elif` or \"else if\" statement.\n",
        "\n",
        "The elif statement follows the same structure as if statements:\n",
        "```\n",
        "if condition 1:\n",
        "  action a\n",
        "  action b\n",
        "elif condition 2:\n",
        "  action c\n",
        "  action d\n",
        "```\n",
        "\n",
        "The way this would be read in English might be: \"If condition 1 is true, execute actions a and be. Otherwise, if condition 2 is true, execute actions c and d.\"\n",
        "\n",
        "Let's see elif in action:"
      ]
    },
    {
      "cell_type": "code",
      "metadata": {
        "id": "5O-gTv-Lpvrk"
      },
      "source": [
        "num_of_pages = 7\n",
        "if num_of_pages > 10:\n",
        "  print(\"There are more than 10 pages\")\n",
        "elif num_of_pages > 5:\n",
        "  print(\"There are somewhere between 6 and 10 pages\")"
      ],
      "execution_count": null,
      "outputs": []
    },
    {
      "cell_type": "markdown",
      "metadata": {
        "id": "mNW6bw_Es914"
      },
      "source": [
        "Play around with num_of_pages here and see what is printed.\n",
        "\n",
        "You will notice that only one statement is ever printed, never both. This is an important thing to remember about elif... it means \"**else** if\" or \"**otherwise** if\", not \"**and** if\".\n",
        "\n",
        "As a result of this, the ordering of which condition is put into the 'if' and the 'elif' matters a great deal. Consider:"
      ]
    },
    {
      "cell_type": "code",
      "metadata": {
        "id": "QGn7v_BSuGlo"
      },
      "source": [
        "num_of_pages = 7\n",
        "if num_of_pages > 5:\n",
        "  print(\"There are more than 5 pages\")\n",
        "elif num_of_pages > 10:\n",
        "  print(\"There are more than 10 mages\")"
      ],
      "execution_count": null,
      "outputs": []
    },
    {
      "cell_type": "markdown",
      "metadata": {
        "id": "fUQ8FhnLuYGV"
      },
      "source": [
        "In this situation the elif statement's contingent block of code will **never** execute. Why is that?\n",
        "\n",
        "Well if the number of pages is greater than 5 the initial if will be True and so the elif block (meaning **otherwise if**) will not be triggered. On the other hand, there is no situation where `num_of_pages > 5` can be False and also have `num_of_pages > 10` be True."
      ]
    },
    {
      "cell_type": "markdown",
      "metadata": {
        "id": "TDA4lVL-vs5e"
      },
      "source": [
        "### 3.1.4. The Else Statement\n",
        "---"
      ]
    },
    {
      "cell_type": "markdown",
      "metadata": {
        "id": "Pl4KgnMcv_G0"
      },
      "source": [
        "Using ifs and elifs together would let us handle a lot of situations. However, sometimes we cannot predict all of the different ways in which real data might differ from the situations we can envision and encode into condition clauses for our if and elif statements.\n",
        "\n",
        "Further, sometimes we just want to be able to say \"and in all other cases, do this.\" This is the purpose of the `else` statement. \n",
        "\n",
        "Unlike the if and elif statements, the else statement does not have any conditions attached to it. It is presented as:\n",
        "\n",
        "```\n",
        "if condition 1:\n",
        "  action a\n",
        "  action b\n",
        "elif condition 2:\n",
        "  action c\n",
        "  action d\n",
        "else:\n",
        "  action e\n",
        "  action f\n",
        "```\n",
        "\n",
        "The way this would be read in English might be: \"If condition 1 is true, execute actions a and be. Otherwise, if condition 2 is true, execute actions c and d. In all other cases, execute actions e and f.\"\n",
        "\n",
        "Let's see else in action:"
      ]
    },
    {
      "cell_type": "code",
      "metadata": {
        "id": "9nRm5pKXxmjt"
      },
      "source": [
        "num_of_pages = 7\n",
        "if num_of_pages > 10:\n",
        "  print(\"There are more than 10 pages\")\n",
        "elif num_of_pages > 5:\n",
        "  print(\"There are somewhere between 6 and 10 pages\")\n",
        "else:\n",
        "  print(\"There are 5 or fewer pages\")"
      ],
      "execution_count": null,
      "outputs": []
    },
    {
      "cell_type": "markdown",
      "metadata": {
        "id": "GzRPjriyxyMS"
      },
      "source": [
        "Without the else block (as in the above elif section), when this code was executed with num_of_pages <=5, nothing happened at all. Because the if and elif conditions were not met, the code finished executing without doing anything. \n",
        "\n",
        "After adding the catch-all else statement, we now know that no matter what num_of_pages is set to, at least one of the statements will be printed.\n",
        "\n",
        "Now that we have seen all three if/elif/else, we should talk about a couple rules:\n",
        "* if must always immediately precede before elif/else - you cannot have a elif/else statement on its own."
      ]
    },
    {
      "cell_type": "code",
      "metadata": {
        "id": "lzmi9rP0zq8V"
      },
      "source": [
        "# Yes\n",
        "if num_of_pages > 10:\n",
        "  print(\"There are more than 10 pages\")\n",
        "elif num_of_pages > 5:\n",
        "  print(\"There are somewhere between 6 and 10 pages\")"
      ],
      "execution_count": null,
      "outputs": []
    },
    {
      "cell_type": "code",
      "metadata": {
        "id": "-_NN_0eCz09T"
      },
      "source": [
        "# No\n",
        "else:\n",
        "  print(\"There are 5 or fewer pages\")"
      ],
      "execution_count": null,
      "outputs": []
    },
    {
      "cell_type": "markdown",
      "metadata": {
        "id": "R7HtRob4zqXz"
      },
      "source": [
        "* The if statement and its associated elif and else statements must all be at the same indentation level"
      ]
    },
    {
      "cell_type": "code",
      "metadata": {
        "id": "rG884JHO0FJp"
      },
      "source": [
        "# Yes\n",
        "if num_of_pages > 10:\n",
        "  print(\"There are more than 10 pages\")\n",
        "elif num_of_pages > 5:\n",
        "  print(\"There are somewhere between 6 and 10 pages\")\n",
        "else:\n",
        "  print(\"There are 5 or fewer pages\")"
      ],
      "execution_count": null,
      "outputs": []
    },
    {
      "cell_type": "code",
      "metadata": {
        "id": "ptzDCf8b0Kq_"
      },
      "source": [
        "# No\n",
        "if num_of_pages > 10:\n",
        "  print(\"There are more than 10 pages\")\n",
        "  elif num_of_pages > 5:\n",
        "    print(\"There are somewhere between 6 and 10 pages\")\n",
        "  else:\n",
        "    print(\"There are 5 or fewer pages\")"
      ],
      "execution_count": null,
      "outputs": []
    },
    {
      "cell_type": "markdown",
      "metadata": {
        "id": "Wz1qlRSd0FY-"
      },
      "source": [
        "* elif and else are both optional - you don't need one in order to have the other."
      ]
    },
    {
      "cell_type": "code",
      "metadata": {
        "id": "y1E9irSM0Tib"
      },
      "source": [
        "# Yes\n",
        "if num_of_pages > 10:\n",
        "  print(\"There are more than 10 pages\")\n",
        "\n",
        "# Yes\n",
        "if num_of_pages > 10:\n",
        "  print(\"There are more than 10 pages\")\n",
        "elif num_of_pages > 5:\n",
        "  print(\"There are somewhere between 6 and 10 pages\")\n",
        "\n",
        "# Yes\n",
        "if num_of_pages > 10:\n",
        "  print(\"There are more than 10 pages\")\n",
        "else:\n",
        "  print(\"There 10 or fewer pages\")"
      ],
      "execution_count": null,
      "outputs": []
    },
    {
      "cell_type": "markdown",
      "metadata": {
        "id": "H0-t2TROmUTv"
      },
      "source": [
        "* In one if/elif/else chain, you can have as many elif statements as you want. However, you can only have one else statement."
      ]
    },
    {
      "cell_type": "code",
      "metadata": {
        "id": "MMJpGv2kmUv3"
      },
      "source": [
        "# Yes\n",
        "if num_of_pages > 20:\n",
        "  print(\"There are more than 20 pages\")\n",
        "elif num_of_pages > 15:\n",
        "  print(\"There are somewhere between 16 and 20 pages\")\n",
        "elif num_of_pages > 10:\n",
        "  print(\"There are somewhere between 11 and 15 pages\")\n",
        "elif num_of_pages > 5:\n",
        "  print(\"There are somewhere between 6 and 10 pages\")\n",
        "else:\n",
        "  print(\"There are 5 or fewer pages\")"
      ],
      "execution_count": null,
      "outputs": []
    },
    {
      "cell_type": "code",
      "metadata": {
        "id": "fgj_fKaXnGgf"
      },
      "source": [
        "# No\n",
        "if num_of_pages > 10:\n",
        "  print(\"There are more than 10 pages\")\n",
        "elif num_of_pages > 5:\n",
        "  print(\"There are somewhere between 6 and 10 pages\")\n",
        "else:\n",
        "  print(\"There are 5 or fewer pages\")\n",
        "else:\n",
        "  print(\"I'm not even sure what a second else statement would do... the first one already caught \\\"everything else\\\".\")"
      ],
      "execution_count": null,
      "outputs": []
    },
    {
      "cell_type": "markdown",
      "metadata": {
        "id": "hNWuE9nA0SxH"
      },
      "source": [
        "\n",
        "* If you do include both elif and else, elif should come first"
      ]
    },
    {
      "cell_type": "code",
      "metadata": {
        "id": "hMZNtH310wrr"
      },
      "source": [
        "# Yes\n",
        "if num_of_pages > 10:\n",
        "  print(\"There are more than 10 pages\")\n",
        "elif num_of_pages > 5:\n",
        "  print(\"There are somewhere between 6 and 10 pages\")\n",
        "else:\n",
        "  print(\"There are 5 or fewer pages\")"
      ],
      "execution_count": null,
      "outputs": []
    },
    {
      "cell_type": "code",
      "metadata": {
        "id": "6hfLAwc30TZD"
      },
      "source": [
        "#No\n",
        "if num_of_pages > 10:\n",
        "  print(\"There are more than 10 pages\")\n",
        "else:\n",
        "  print(\"There are 5 or fewer pages\")\n",
        "elif num_of_pages > 5:\n",
        "  print(\"There are somewhere between 6 and 10 pages\")"
      ],
      "execution_count": null,
      "outputs": []
    },
    {
      "cell_type": "markdown",
      "metadata": {
        "id": "1otMoKPu1Db9"
      },
      "source": [
        "###3.1.5. Nesting\n",
        "---"
      ]
    },
    {
      "cell_type": "markdown",
      "metadata": {
        "id": "eJh3Tunu2KhI"
      },
      "source": [
        "Sometimes you'll see if statements inside other if statements' contingent blocks of code. Generally, this is called 'nesting', and this case in particular is called having a 'nested if'.\n",
        "\n",
        "For example, consider the following:"
      ]
    },
    {
      "cell_type": "code",
      "metadata": {
        "id": "hUOVpYzW2qCT"
      },
      "source": [
        "num_of_pages = 15\n",
        "complexity = \"high\"\n",
        "\n",
        "if num_of_pages > 10:\n",
        "  print(\"There are more than 10 pages\")\n",
        "  \n",
        "  if complexity == \"high\": # A nested if statement\n",
        "    print(\"and those pages contain linguistically complex text... enjoy reading that!\")"
      ],
      "execution_count": null,
      "outputs": []
    },
    {
      "cell_type": "markdown",
      "metadata": {
        "id": "ifMjo6gU260V"
      },
      "source": [
        "Play around with num_of_pages a little bit and see what happens when you cross the various condition thresholds.\n",
        "\n",
        "You'll see that the first print statement prints whenever num_of_pages is greater than 10. However, the second only occurs when num_of_pages is greater than 10 **AND** complexity is \"high\". \n",
        "\n",
        "This makes sense based on what we know about if statements: Python only ever even evaluates the second if statement when there are more than 10 pages because it is within the first if statement's contingent block of code (see that the second if statement is indented to the same level as the first print statement)\n",
        "\n",
        "Let's walk through this code in 'pseudocode' (a plain English description of what the program does).\n",
        "\n",
        "1. Set the number of pages to 15\n",
        "2. If the number of pages is greater than 10, do the following:\n",
        "  3. Print out that there are more than 10 pages\n",
        "  4. If the linguistic complexity is high, do the following:\n",
        "    5. Print that the the text is also complex\n"
      ]
    },
    {
      "cell_type": "markdown",
      "metadata": {
        "id": "pWjjtYLZ8sbY"
      },
      "source": [
        "##3.2. Looping: While/For/List Comprehensions\n",
        "---"
      ]
    },
    {
      "cell_type": "markdown",
      "metadata": {
        "id": "9bYSeyY288P3"
      },
      "source": [
        "Sometimes we want to be able to run the same line of code more than once. In these cases, it would be nice not to have to have to write that line of code over and over again to do so. Accordingly, Python enables you to create loops in your through code.\n",
        "\n",
        "There are several ways of accomplishing this; however, the ones we'll discuss here are:\n",
        "\n",
        "* The while statement\n",
        "* The for statement\n",
        "* List comprehensions"
      ]
    },
    {
      "cell_type": "markdown",
      "metadata": {
        "id": "nd96XYsR-zs6"
      },
      "source": [
        "###3.2.1. While Loops\n",
        "---"
      ]
    },
    {
      "cell_type": "markdown",
      "metadata": {
        "id": "x1v4YBgD-3-K"
      },
      "source": [
        "While loops tell Python to continue repeating the same block of code until a certain condition is no longer true. In this way, it is similarly structured to if statements:\n",
        "\n",
        "```\n",
        "while condition:\n",
        "  action 1\n",
        "  action 2\n",
        "```\n",
        "\n",
        "Also similar to 'if', the simplest loops are:\n",
        "```\n",
        "while True:\n",
        "  print(\"The loop is running\")\n",
        "```\n",
        "and\n",
        "```\n",
        "while False:\n",
        "  print(\"The loop is running\")\n",
        "```\n",
        "\n",
        "But we're not going to run those... there's a fundamental problem with them: \n",
        "\n",
        "The first loop would **never end** - it's an 'infinite loop' because True will never be not be True. So it would just keep printing \"The loop is running\" forever (or until you force the code to stop running manually)\n",
        "\n",
        "The second loop would **never run** because False is not True to begin with.\n",
        "\n",
        "So we can see while loops in action, let's go ahead and take one more step in complexity:"
      ]
    },
    {
      "cell_type": "code",
      "metadata": {
        "id": "zfk1AkbpAlrs"
      },
      "source": [
        "n = 0\n",
        "\n",
        "while n < 10:\n",
        "  print(f\"The loop is running because n: {n} is less than 10\")\n",
        "  n = n + 1\n",
        "\n",
        "print(f\"\\nThe loop has stopped because n: {n} is 10 or greater\")"
      ],
      "execution_count": null,
      "outputs": []
    },
    {
      "cell_type": "markdown",
      "metadata": {
        "id": "T0SL7BhtBESK"
      },
      "source": [
        "Here we can see that while our variable n was less than 10, the two lines of code inside our looped block of code were repeated over and over again. Only once the n got to 10 (and thus, n < 10 became False) did Python move on to the next line of code.\n",
        "\n",
        "In the above loop we incremented a n a fixed number of times to determine how long to loop. However, when we introduce 'for' loops, we'll see that there's an easier way to do that. Let's see something that 'for' loops would struggle with..."
      ]
    },
    {
      "cell_type": "code",
      "metadata": {
        "id": "pXoZ44g0Ccvg"
      },
      "source": [
        "current_number = 0\n",
        "\n",
        "while current_number <= 90:\n",
        "  current_number = randint(0,100)\n",
        "  print(f\"The loop is running and the current number is: {current_number}\")\n",
        "\n",
        "print(f\"\\n{current_number} is greater than 90, so the loop ended.\")"
      ],
      "execution_count": null,
      "outputs": []
    },
    {
      "cell_type": "markdown",
      "metadata": {
        "id": "jFkYvbkVDQOz"
      },
      "source": [
        "Run that code several times. How does the output of the loop change each time?\n",
        "\n",
        "Let's dissect what the loop is doing.\n",
        "* The while statement says to keep looping while the current_number variable is less than or equal to 90\n",
        "* The first looped line assigns a random number between 0 and 100 to current_number\n",
        "* The second looped line prints current_number out.\n",
        "\n",
        "Putting that together, this loop generates random numbers until it finds one that is greater than 90.\n",
        "\n",
        "As before with 'if' statements, 'while' statements do not need to be conditioned on numbers. Let's see an example:"
      ]
    },
    {
      "cell_type": "code",
      "metadata": {
        "id": "F39y5fXYE7gn"
      },
      "source": [
        "list_of_texts = [\"This is a valid entry\", \"This is also a valid entry\", \"Yep, still a valid entry\", \"\", \"We'll never reach this one\"]\n",
        "n = 0\n",
        "\n",
        "while list_of_texts[n]:\n",
        "  print(f\"The loop is running because \\\"{list_of_texts[n]}\\\" is a valid text\")\n",
        "  n = n + 1\n",
        "\n",
        "print(f\"\\nThe loop stopped because \\\"{list_of_texts[n]}\\\" is empty\")"
      ],
      "execution_count": null,
      "outputs": []
    },
    {
      "cell_type": "markdown",
      "metadata": {
        "id": "lhKrAdx1F2CX"
      },
      "source": [
        "Let's dissect what we did here. It's a little more complicated than what we've done previously.\n",
        "\n",
        "Here, like in our first while loop, we have a variable n that increases by 1 every time we go through the loop. However, instead of determining whether to stop based on the number in n, we look at `list_of_texts[n]`.\n",
        "\n",
        "If you remember from our discussion of lists in the previous module, the square brackets following a list variable indicates which element in the list to look at. So because n increments each time the loop repeats, what we're doing is working our way down the list one item at a time, looking at each element and continuing as long as the string evaluates to True.\n",
        "\n",
        "You'll recall that strings evaluate to True when they have anything in them and to False when they have nothing in them (\"\"). So our while loop will continue going until it finds one that is \"\". \n",
        "\n",
        "We'd be in trouble if there were no empty strings because we'd reach the end of the list and the loop would try to keep going! There's a better, more robust way to accomplish this without that problem. But for the time being, fortunately, there's an empty string in there!"
      ]
    },
    {
      "cell_type": "markdown",
      "metadata": {
        "id": "4ha_1l8NJGgf"
      },
      "source": [
        "###3.2.2. For Loops\n",
        "---"
      ]
    },
    {
      "cell_type": "markdown",
      "metadata": {
        "id": "QDZ2HfmIJalV"
      },
      "source": [
        "While loops are a simple way to learn how to use looping structures, and they do have their uses; however, for our purposes, we'll be using 'for' loops much more frequently.\n",
        "\n",
        "Whereas 'while' loops repeat a block of code *while* a certain condition is true, 'for' loops iterate through the loop once *for every* item in some iterable data structure.\n",
        "\n",
        "I know that sounds a little complex; however, the concept is fairly simple once you have seen a few examples. So let's see a few:"
      ]
    },
    {
      "cell_type": "code",
      "metadata": {
        "id": "RXp2ITaMKk3g"
      },
      "source": [
        "# A list is an iterable data structure because you can iterate through each item in the list\n",
        "list_of_texts = [\"This is a valid entry\", \"This is also a valid entry\", \"Yep, still a valid entry\", \"\", \"We'll reach this one this time\"]\n",
        "\n",
        "for list_item in list_of_texts:\n",
        "  print(f\"The loop is running because \\\"{list_item}\\\" is an item in the list\")\n",
        "\n",
        "print(f\"\\nThe loop stopped because there are no more items in the list\")"
      ],
      "execution_count": null,
      "outputs": []
    },
    {
      "cell_type": "markdown",
      "metadata": {
        "id": "hMHTGWAULoZ9"
      },
      "source": [
        "Let's walk through what's happening here:\n",
        "\n",
        "We have a list of five texts (one is empty, but that no longer matters). Because a list is 'iterable' (by going from one item in the list to the next) the for loop will run once for each item in the list (i.e., five times). Further, because we have 'list_item' in the for statement, each time we go through the loop, the list_item variable will contain the value of that iteration's list element.\n",
        "\n",
        "We do not need a counter here like we did in the while loop because for loops determine the number of times to iterate based on the length of the list (5 in this case). Similarly, we don't need to fret about 'running out of items in the list' like we did with the while loops... for loops look out for the end of the list for us automatically.\n",
        "\n",
        "OK. So lists are iterable data structures... that makes sense. What about tuples?"
      ]
    },
    {
      "cell_type": "code",
      "metadata": {
        "id": "47wCS3bVNQl1"
      },
      "source": [
        "# A tuple is also an iterable data structure because you can iterate through each item in the tuple\n",
        "tuple_of_texts = (\"This is a valid entry\", \"This is also a valid entry\", \"Yep, still a valid entry\", \"\", \"We'll reach this one this time\")\n",
        "\n",
        "for tuple_item in tuple_of_texts:\n",
        "  print(f\"The loop is running because \\\"{tuple_item}\\\" is an item in the tuple\")\n",
        "\n",
        "print(f\"\\nThe loop stopped because there are no more items in the tuple\")"
      ],
      "execution_count": null,
      "outputs": []
    },
    {
      "cell_type": "markdown",
      "metadata": {
        "id": "ghUW2eRKNcGx"
      },
      "source": [
        "That makes sense, Tuples are also sequences... but what about strings??? I mean, we said that strings are essentially characters strung together in quotes, right?\n",
        "\n",
        "Let's try it!"
      ]
    },
    {
      "cell_type": "code",
      "metadata": {
        "id": "l5edVRpENqVt"
      },
      "source": [
        "test_string = \"Is this iterable?\"\n",
        "\n",
        "for character in test_string:\n",
        "  print(character)\n",
        "\n",
        "print(f\"\\nThe loop stopped because there are no more characters in the string\")"
      ],
      "execution_count": null,
      "outputs": []
    },
    {
      "cell_type": "markdown",
      "metadata": {
        "id": "B0yVx4zTTEEb"
      },
      "source": [
        "And... dictionaries?"
      ]
    },
    {
      "cell_type": "code",
      "metadata": {
        "id": "1EGpafoITGV8"
      },
      "source": [
        ""
      ],
      "execution_count": null,
      "outputs": []
    },
    {
      "cell_type": "code",
      "metadata": {
        "id": "DOtqBo3l7bt0"
      },
      "source": [
        "about_apple = {\"employees\": 137000,\n",
        "               \"revenue\": 260174000000,\n",
        "               \"ceo_name\": \"Tim Cook\",\n",
        "               \"ticker\": \"AAPL\",\n",
        "               \"last_updated\": \"December 31, 2019\"}\n",
        "\n",
        "for key in about_apple:\n",
        "  print(entry)\n",
        "\n",
        "print(f\"\\nThe loop stopped because there are no more characters in the string\")"
      ],
      "execution_count": null,
      "outputs": []
    },
    {
      "cell_type": "markdown",
      "metadata": {
        "id": "Iew2g5mTTgf9"
      },
      "source": [
        "What about numbers?"
      ]
    },
    {
      "cell_type": "code",
      "metadata": {
        "id": "1dfH98W2Ti51"
      },
      "source": [
        "for number in 10:\n",
        "  print(number)"
      ],
      "execution_count": null,
      "outputs": []
    },
    {
      "cell_type": "markdown",
      "metadata": {
        "id": "smGXIy2UToD5"
      },
      "source": [
        "OK, we *finally* found something that isn't iterable. But it kind of makes sense that a single number isn't iterable. What would it mean to iterate through the number 10?\n",
        "\n",
        "It could be that we want to iterate through the numbers 0-10, but that's different than saying we want to iterate \"through the number 10\". \n",
        "\n",
        "If that's what we want to do, we can use the `range()` function to help us."
      ]
    },
    {
      "cell_type": "code",
      "metadata": {
        "id": "JbF_-1O0UMXx"
      },
      "source": [
        "number_range = range(11)\n",
        "print(f\"The number range is: {number_range}\")\n",
        "\n",
        "for number in range(11):\n",
        "  print(number)\n",
        "\n",
        "print(\"\\nAs we saw with with slices, range objects stop on the element *before* the end item. So in this case, with number 10\")"
      ],
      "execution_count": null,
      "outputs": []
    },
    {
      "cell_type": "markdown",
      "metadata": {
        "id": "kCmkFidOUnkB"
      },
      "source": [
        "Hopefully now you see why I said that for loops \"iterate through the loop once for every item in some iterable data structure\" rather than \"...in some list\". For loops can cycle through so much more than just lists."
      ]
    },
    {
      "cell_type": "markdown",
      "metadata": {
        "id": "NdQsIl9iVwmB"
      },
      "source": [
        "###3.2.3. Interrupting a Loop\n",
        "---\n"
      ]
    },
    {
      "cell_type": "markdown",
      "metadata": {
        "id": "kFDA_XA0V8W_"
      },
      "source": [
        "Sometimes when we're looping, we'll come across a situation where we need to either need to jump back to the top of the loop or exit the loop altogether before code things we should.\n",
        "\n",
        "Consider the problematic loop we looked at when introducing the while loop:\n",
        "```\n",
        "while True:\n",
        "  print(\"The loop is running\")\n",
        "```\n",
        "Again, we said that this is an *infinite loop* - and that's true, as written it would never stop. However, using a `break` statement, we could create a way for Python to break free from the loop.\n",
        "\n",
        "Try the following:"
      ]
    },
    {
      "cell_type": "code",
      "metadata": {
        "id": "2UijV-N7Xl9_"
      },
      "source": [
        "while True:\n",
        "  print(\"The loop is running\")\n",
        "  break\n",
        "  print(\"You'll never see this\")"
      ],
      "execution_count": null,
      "outputs": []
    },
    {
      "cell_type": "markdown",
      "metadata": {
        "id": "DH_NrOg-Xqyk"
      },
      "source": [
        "It doesn't look like it, but in reality, you did enter an infinite loop. It's just that in the first pass Python was told by the break statement to leave the current loop right now, regardless of what has or has not yet been run.\n",
        "\n",
        "Let's try something a little more useful:"
      ]
    },
    {
      "cell_type": "code",
      "metadata": {
        "id": "jDuHoAA1YhU4"
      },
      "source": [
        "while True:\n",
        "  current_number = randint(0,100)\n",
        "  print(f\"The loop is running and the current number is: {current_number}\")\n",
        "  if current_number > 90:\n",
        "    break\n",
        "\n",
        "print(f\"\\n{current_number} is greater than 90, so the loop ended.\")"
      ],
      "execution_count": null,
      "outputs": []
    },
    {
      "cell_type": "markdown",
      "metadata": {
        "id": "8Srt6y0tYtbl"
      },
      "source": [
        "This loop replicates the random number loop we used previously, but instead of conditioning the loop on the current number, it creates an infinite loop and just tells Python to break out of the loop when the number is greater than 90.\n",
        "\n",
        "This seems like it is a more complicated of accomplishing the same thing. And that is almost true. However, there is a key distinction: using `while True:` guarantees that the loop is run at least once. \n",
        "\n",
        "In order to ensure this happened previously we had to manually set current_number to 0. This worked, but isn't the cleanest thing to do when 'current number' is supposed to represent a random number created inside the loop.\n",
        "\n",
        "Finally, let's look at how break can help us with our for loop. When we ran this as a while loop we wanted to stop when we reached an empty text. However, when we ran this as a for loop, it treated the empty string as if it were any other string. Let's see if we can get it to stop when it hits the empty string.\n"
      ]
    },
    {
      "cell_type": "code",
      "metadata": {
        "id": "cRauXIZleqHF"
      },
      "source": [
        "list_of_texts = [\"This is a valid entry\", \"This is also a valid entry\", \"Yep, still a valid entry\", \"\", \"We'll only reach this one if we make the previous one the valid\"]\n",
        "\n",
        "for list_item in list_of_texts:\n",
        "  if not list_item:\n",
        "    print(f\"\\nThe loop stopped because \\\"{list_item}\\\" is empty\")\n",
        "    break\n",
        "  print(f\"The loop is running because \\\"{list_item}\\\" is an item in the list\")"
      ],
      "execution_count": null,
      "outputs": []
    },
    {
      "cell_type": "markdown",
      "metadata": {
        "id": "2w-tscrRf1Wb"
      },
      "source": [
        "Remember we said that the while loop would have a problem if all items in the list were valid? Try that now."
      ]
    },
    {
      "cell_type": "markdown",
      "metadata": {
        "id": "KZmACWGSho2V"
      },
      "source": [
        "\n",
        "Instead of breaking from the list completely, sometimes we might just want for Python to just skip to the next iteration of the loop rather than proceeding through the rest of the looped code for the current value.\n",
        "\n",
        "For instance, if Python can identify that a text is invalid, does it make sense to have Python try to preprocess and analyze it just so that it can get to the next one which might be valid?\n",
        "\n",
        "Probably not... that seems to draw the process out and risks errors. Accordingly, we're going to use the `continue` command to tell Python to jump to the top of the loop and 'continue' with the next iteration of the loop.\n",
        "\n",
        "Let's stick with the same example of texts, but this time, when we encounter the empty string, let's just skip over it instead of breaking out of the loop altogether."
      ]
    },
    {
      "cell_type": "code",
      "metadata": {
        "id": "TUtYG-BGiQh6"
      },
      "source": [
        "list_of_texts = [\"This is a valid entry\", \"This is also a valid entry\", \"Yep, still a valid entry\", \"\", \"We'll reach this one now\"]\n",
        "\n",
        "for list_item in list_of_texts:\n",
        "  if not list_item:\n",
        "    print(f\"Skipping empty string: \\\"{list_item}\\\"\")\n",
        "    continue\n",
        "  print(f\"The loop is running because \\\"{list_item}\\\" is an item in the list\")"
      ],
      "execution_count": null,
      "outputs": []
    },
    {
      "cell_type": "markdown",
      "metadata": {
        "id": "FpqPbT7ail9z"
      },
      "source": [
        "##3.3. List comprehensions\n",
        "---"
      ]
    },
    {
      "cell_type": "markdown",
      "metadata": {
        "id": "f1ETutntitda"
      },
      "source": [
        "Sometimes the reason we're looping is to create a list (or tuple, or dictionary... but we're going to work with lists) from an existing list - often with some changes. This can often be done with a traditional for loop. \n",
        "\n",
        "Let's look at an example where we start with an initial list of words in a text and remove words that don't convey much meaning about what is being discussed in the text (in text analysis, such words are called *stop words*)."
      ]
    },
    {
      "cell_type": "code",
      "metadata": {
        "id": "VeB2j2Wvpu8P"
      },
      "source": [
        "stop_words = ['i', 'me', 'my', 'myself', 'we', 'our', 'ours', 'ourselves', 'you', \"you're\", \"you've\", \"you'll\", \"you'd\", 'your', 'yours', 'yourself', 'yourselves', 'he', 'him', 'his', 'himself', 'she', \"she's\", 'her', 'hers', 'herself', 'it', \"it's\", 'its', 'itself', 'they', 'them', 'their', 'theirs', 'themselves', 'what', 'which', 'who', 'whom', 'this', 'that', \"that'll\", 'these', 'those', 'am', 'is', 'are', 'was', 'were', 'be', 'been', 'being', 'have', 'has', 'had', 'having', 'do', 'does', 'did', 'doing', 'a', 'an', 'the', 'and', 'but', 'if', 'or', 'because', 'as', 'until', 'while', 'of', 'at', 'by', 'for', 'with', 'about', 'against', 'between', 'into', 'through', 'during', 'before', 'after', 'above', 'below', 'to', 'from', 'up', 'down', 'in', 'out', 'on', 'off', 'over', 'under', 'again', 'further', 'then', 'once', 'here', 'there', 'when', 'where', 'why', 'how', 'all', 'any', 'both', 'each', 'few', 'more', 'most', 'other', 'some', 'such', 'no', 'nor', 'not', 'only', 'own', 'same', 'so', 'than', 'too', 'very', 's', 't', 'can', 'will', 'just', 'don', \"don't\", 'should', \"should've\", 'now', 'd', 'll', 'm', 'o', 're', 've', 'y', 'ain', 'aren', \"aren't\", 'couldn', \"couldn't\", 'didn', \"didn't\", 'doesn', \"doesn't\", 'hadn', \"hadn't\", 'hasn', \"hasn't\", 'haven', \"haven't\", 'isn', \"isn't\", 'ma', 'mightn', \"mightn't\", 'mustn', \"mustn't\", 'needn', \"needn't\", 'shan', \"shan't\", 'shouldn', \"shouldn't\", 'wasn', \"wasn't\", 'weren', \"weren't\", 'won', \"won't\", 'wouldn', \"wouldn't\"]\n",
        "msft_shareholder_letter = \"More than ever, organizations are relying on Azure to stay up and running and support critical workloads, from healthcare triage with AI-assisted bots, to digital twins in manufacturing, to e-commerce in retail. Today, leaders in every industry—including 95 percent of the Fortune 500—run on Azure. We are building Azure as the world’s computer to support them, with more datacenter regions than any other provider— now 61. Fifty billion devices will come online by 2030, and Azure is the only cloud that extends to the edge, with consistency across operating models, development models, and infrastructure stack. Azure Arc enables organizations to deploy Azure services anywhere and extend Azure management to any infrastructure. Azure Stack Edge brings rapid machine learning inferencing closer to where data is generated, including the harshest of conditions, like disaster response. Our acquisitions of Affirmed and Metaswitch, along with new Azure Edge Zones, expand our offerings for telecom operators as they move to 5G. And, with Azure Orbital, we’re taking our infrastructure to space, enabling anyone to access satellite data and capabilities from Azure.\"\n",
        "\n",
        "word_list_msft = msft_shareholder_letter.lower().replace(\".\", \"\").replace(\",\", \"\").replace(\"-\",\" \").replace(\"—\",\" \").replace(\"  \", \" \").split(\" \")\n",
        "\n",
        "# The focal loop\n",
        "new_list = []\n",
        "for word in word_list_msft:\n",
        "  if word not in stop_words:\n",
        "    new_list.append(word)\n",
        "\n",
        "print(f\"The list of words without stop words: {new_list}\")"
      ],
      "execution_count": null,
      "outputs": []
    },
    {
      "cell_type": "markdown",
      "metadata": {
        "id": "k4PcuvGVw88V"
      },
      "source": [
        "Let's take a look at what's happening here\n",
        "1. We creating a new (empty) list called new_list\n",
        "2. We loop through the list of all the words in the msft_shareholder_letter variable\n",
        "3. If the word we're looking at isn't in the stop_words list, then we...\n",
        "4. Add it to the new_list (and move on to the next word)\n",
        "\n",
        "List comprehensions can accomplish the same thing for us; however, there's a couple of benefits:\n",
        "\n",
        "1. We can accomplish quite a bit in one line of code so long as our loop isn't *too* complex\n",
        "2. List comprehensions are often slightly faster than their for-loop equivalent\n",
        "\n",
        "Let's take a look:"
      ]
    },
    {
      "cell_type": "code",
      "metadata": {
        "id": "rm2pFOpj4uBL"
      },
      "source": [
        "new_list = [word for word in word_list_msft if word not in stop_words]\n",
        "\n",
        "print(f\"The list of words without stop words: {new_list}\")"
      ],
      "execution_count": null,
      "outputs": []
    },
    {
      "cell_type": "markdown",
      "metadata": {
        "id": "zzH0i_2p473x"
      },
      "source": [
        "The first time I saw a list comprehension, I thought to myself 'what in the world am I looking at?' At that time, they were not as intuitive to me as traditional loops. \n",
        "\n",
        "So if this looks strange to you as well, I completely get it. Let me assure you, you will get there - and once you do, you may come to appreciate the efficiency of comprehensions.\n",
        "\n",
        "But for the time being, let's strip the list comprehension down piece by piece:\n",
        "\n",
        "*   It's offset by square brackets `[]` - This tells us we're looking at a *list* comprehension, if we replaced these with parentheses we'd have an equally valid *tuple* comprehension.\n",
        "*   For the moment, let's skip over the first `word` to the part that already looks like the loop we're expecting `for word in word_list_msft` - that's loop *exactly* like we did it with the traditional for loop. Nothing new here.\n",
        "*   `if word not in stop_words` - this tells us that for each `word` our loop looks at, only keep the ones that are not in the `stop_words` list \n",
        "*   Now let's go back to that first `word`. What this is telling us is that what we want to store in the new list we're creating is just the `word` it found. It's possible to store something else, but here we specify to store the word.\n",
        "\n",
        "That's it! So if we were to translate the word comprehension into English, we'd say:\n",
        "\n",
        "1.   \"Go through all words in word_list_msft\" (`for word in word_list_msft`)\n",
        "2.   \"and for each word that is not also in stop_words\" (`if word not in stop_words`)\n",
        "3.   \"add just that word\" (`word`)\n",
        "4.   \"to a new list\" (`[]`)\n",
        "5.   \"called new_list\" (`new_list = `)\n",
        "\n",
        "**That's it** - you can make more complex comprehensions than that. But really, for what we're doing, if you understand this that will be more than sufficient."
      ]
    },
    {
      "cell_type": "markdown",
      "metadata": {
        "id": "llgFKFYr9E7P"
      },
      "source": [
        "(For fun) I mentioned that by changing around the first entry in the comprehension you could change what gets saved to the list. \n",
        "\n",
        "Let's have some fun - and hopefully gain a better grasp of what exactly is going on with this element of the comprehension as well."
      ]
    },
    {
      "cell_type": "code",
      "metadata": {
        "id": "4qdTtVoR9fjU"
      },
      "source": [
        "# Don't save the word, save \"spam\" instead\n",
        "new_list = [\"spam\" for word in word_list_msft if word not in stop_words]\n",
        "print(f\"Spam: {new_list}\")\n",
        "\n",
        "# Do save the word, but save it backwards\n",
        "new_list = [word[::-1] for word in word_list_msft if word not in stop_words]\n",
        "print(f\"\\nBackwards: {new_list}\")\n",
        "\n",
        "# Maybe just the first letter\n",
        "new_list = [word[0] for word in word_list_msft if word not in stop_words]\n",
        "print(f\"\\nFirst letter: {new_list}\")\n",
        "\n",
        "# a random number from 0-10\n",
        "new_list = [randint(0,10) for word in word_list_msft if word not in stop_words]\n",
        "print(f\"\\nRandom number: {new_list}\")\n",
        "\n",
        "print(\"\\nBasically, if you can put it in a list, you can put it there.\")"
      ],
      "execution_count": null,
      "outputs": []
    },
    {
      "cell_type": "markdown",
      "metadata": {
        "id": "MpeIp553-4yJ"
      },
      "source": [
        "Consequently, do you remember back in module 2 when I said:\n",
        "\n",
        "```\n",
        "# Don't worry about how this line of code works quite yet...\n",
        "word_list_msft = [word for word in word_list_msft if len(word) >= 5]\n",
        "```\n",
        "\n",
        "Hopefully this now makes a lot more sense. This is the same thing we did above with two key differences: \n",
        "1. Instead of saving only the words that were not in a list of stop words, we saved only the words that were five-or-more letters long.\n",
        "2. Instead of creating a new list, we overwrote the original list.\n"
      ]
    },
    {
      "cell_type": "markdown",
      "metadata": {
        "id": "pRYTl7cN_-10"
      },
      "source": [
        "##3.4. User-Defined Functions\n",
        "---"
      ]
    },
    {
      "cell_type": "markdown",
      "metadata": {
        "id": "qy4LhMkqAGG4"
      },
      "source": [
        "There's a mantra in the programming community: DRY - \"Don't Repeat Yourself\". The idea here is that if you're going to do the same thing over and over again, ideally we will find a way to write that code once and then reuse it over and over again. This stands in contrast to what we've been doing thus far: when we need to do something, we write the code to do it (even if we've already written that same line of code already).\n",
        "\n",
        "Take the following example:"
      ]
    },
    {
      "cell_type": "code",
      "metadata": {
        "id": "owSZbHFUAFma"
      },
      "source": [
        "msft_shareholder_letter = \"More than ever, organizations are relying on Azure to stay up and running and support critical workloads, from healthcare triage with AI-assisted bots, to digital twins in manufacturing, to e-commerce in retail. Today, leaders in every industry—including 95 percent of the Fortune 500—run on Azure. We are building Azure as the world’s computer to support them, with more datacenter regions than any other provider— now 61. Fifty billion devices will come online by 2030, and Azure is the only cloud that extends to the edge, with consistency across operating models, development models, and infrastructure stack. Azure Arc enables organizations to deploy Azure services anywhere and extend Azure management to any infrastructure. Azure Stack Edge brings rapid machine learning inferencing closer to where data is generated, including the harshest of conditions, like disaster response. Our acquisitions of Affirmed and Metaswitch, along with new Azure Edge Zones, expand our offerings for telecom operators as they move to 5G. And, with Azure Orbital, we’re taking our infrastructure to space, enabling anyone to access satellite data and capabilities from Azure.\"\n",
        "ibm_shareholder_letter = \"Red Hat was a key driver with normalized revenue growth of 18 percent in 2020 and a backlog topping $5 billion for the first time at year end. Red Hat, together with our modernized Cloud Pak solutions, delivered overall software revenue growth for the year. Global Business Services (GBS) cloud revenue grew at a double-digit rate as we focused on modernizing clients’ applications and reimagining their workflows with AI. Global Technology Services helped clients navigate the unprecedented volatility in their own business volumes, ending the year with strong contract renewals and new client additions. With IBM Systems, as always, performance reflects product cycles. Even with a very successful new product introduction in the second half of 2019, IBM Z revenue grew in 2020, with the z15 now shipping the largest capacity in the platform’s history.\"\n",
        "apple_shareholder_letter = \"Wearables grew by almost 50 percent year-over-year, as Apple Watch and AirPods were wildly popular among holiday shoppers; launches of MacBook Air and Mac mini powered the Mac to year-over-year revenue growth and the launch of the new iPad Pro drove iPad to year-over-year double-digit revenue growth.\"\n",
        "\n",
        "print(msft_shareholder_letter.lower().replace(\".\", \"\").replace(\",\", \"\").replace(\"-\",\" \").replace(\"—\",\" \").replace(\"  \", \" \").split(\" \"))\n",
        "print(ibm_shareholder_letter.lower().replace(\".\", \"\").replace(\",\", \"\").replace(\"-\",\" \").replace(\"—\",\" \").replace(\"  \", \" \").split(\" \"))\n",
        "print(apple_shareholder_letter.lower().replace(\".\", \"\").replace(\",\", \"\").replace(\"-\",\" \").replace(\"—\",\" \").replace(\"  \", \" \").split(\" \"))"
      ],
      "execution_count": null,
      "outputs": []
    },
    {
      "cell_type": "markdown",
      "metadata": {
        "id": "etVbRTXYCXMF"
      },
      "source": [
        "We're repeating ourselves a lot here. That code that turns the text into a list of words is the **same thing** over and over again.\n",
        "\n",
        "Now there's nothing programmatically *wrong* with doing this, but it does do a few potentially negative things:\n",
        "* It increases the length of our code - for what we do, probably not *that* negative, but parsimony is still something to shoot for.\n",
        "* It's cumbersome, we're having to type out the same code over and over again - it's convenient for us here that we need to use the same operation in the same location so we can copy+paste pretty easily, but what if this were in a very different place in the code (or even in a different piece of code)? It'd be nice to not have to search it out to copy and paste it.\n",
        "* What happens when we decide we need to make a change to this code? We now have to change it ***everywhere*** we used it.\n",
        "  * Are you sure that you'll be able to remember/find ***everywhere*** you used this code?\n",
        "  * Are you sure that when you make that many changes you won't accidently mess something up on at least one of those instances?\n",
        "\n",
        "Hopefully you can see the motivation for the DRY mantra.\n",
        "\n",
        "Functions help us live up to this mantra. Functions give a name to a block of code so that we can reuse that block of code instead of writing that block over and over again each time we need it.\n",
        "\n",
        "In fact, we've been doing some of this every time we use the functions and methods we've been learning about in the past three modules (e.g., `len()`, `sort()`, `print()`). Those are just functions and methods written by *other* people... now we'll learn how to create them ourselves.\n",
        "\n",
        "Let's start with the simplest function of all:"
      ]
    },
    {
      "cell_type": "code",
      "metadata": {
        "id": "74XT1CYUFGqs"
      },
      "source": [
        "def my_first_function():\n",
        "  print(\"This is my first function. I'm pretty proud, honestly!\")\n",
        "  return None"
      ],
      "execution_count": null,
      "outputs": []
    },
    {
      "cell_type": "markdown",
      "metadata": {
        "id": "2oprz_10FNte"
      },
      "source": [
        "I'd be willing to bet you have a pretty good idea what this function does already just by looking at it. But let's be systematic and dissect its parts:\n",
        "\n",
        "*   `def` - This tells Python that we're about to define a function\n",
        "*   `my_first_function` - This tells Python that when we want to use this function, we'll call it by the name 'my_first_function'.\n",
        "*   `():` - This tells Python that when we call this function, we won't be including any data... if this function needs data, it has to manage that on its own\n",
        "*   indented code block: This is what gets executed everytime the function is called\n",
        "*   `return None` - This tells Python that this function doesn't need to return anything when it's done. (*technically it's still returning a `None` object, but we're getting pedantic*)\n",
        "\n",
        "A couple things to note about functions before we try this one out:\n",
        "*   Make sure you're not naming your function the same thing as a variable or existing function - you *will* overwrite it (temporarily) and won't be able to access the original.\n",
        "*   Make sure you have defined (`def`) your function somewhere *before* the first time you use it. It can be in the same code Cell, but the definition needs to be executed first.\n",
        "*   Do not expect to see any output when you run the code defining the function. Defining the function stores the procedure in the computer's memory, it doesn't actually run it. You'll only see output (for functions that print something out) when the function is first *called* in your code.\n",
        "\n",
        "Enough talking, let's call the function!\n",
        "\n"
      ]
    },
    {
      "cell_type": "code",
      "metadata": {
        "id": "zJQX-Ab0Ibn4"
      },
      "source": [
        "# Remember, this is a function, not a variable - you need the parentheses\n",
        "my_first_function()"
      ],
      "execution_count": null,
      "outputs": []
    },
    {
      "cell_type": "markdown",
      "metadata": {
        "id": "khCx2IkqIkJf"
      },
      "source": [
        "Cool! \n",
        "\n",
        "Let's make a small tweak. Right now we have no choice but to have the text printed out to the screen. It'd be nice if we had the option of doing something else with it too.\n",
        "\n",
        "Maybe instead of having the function *print* the sentences, we could have the function return the sentences to the code that called it. This way we could decide what we want to do with it when we called it."
      ]
    },
    {
      "cell_type": "code",
      "metadata": {
        "id": "myhAIA0PJosB"
      },
      "source": [
        "def my_first_function():\n",
        "  return \"This is my first function. I'm pretty proud, honestly!\""
      ],
      "execution_count": null,
      "outputs": []
    },
    {
      "cell_type": "code",
      "metadata": {
        "id": "KHOrSsLsJxeh"
      },
      "source": [
        "# Sending the returned string to the print function:\n",
        "print(my_first_function())\n",
        "\n",
        "# Saving the returned string to a variable, then printing that variable\n",
        "statement = my_first_function()\n",
        "print(statement)"
      ],
      "execution_count": null,
      "outputs": []
    },
    {
      "cell_type": "markdown",
      "metadata": {
        "id": "LbqXdU0EKSev"
      },
      "source": [
        "That made it more flexible. However, we also know that most functions will not have all the data they need in order to help us keep to the DRY mantra. \n",
        "\n",
        "For instance, in our previous example with the shareholder letters, if the function is going to standardize text and convert it to a list of words, it needs to know what the text is - it's not a mind-reader.\n",
        "\n",
        "Let's change our first function yet again, this time we'll tell the function to expect two pieces of data: a name and an adjective."
      ]
    },
    {
      "cell_type": "code",
      "metadata": {
        "id": "Bznk1TMXLJpN"
      },
      "source": [
        "def my_first_function(name, adjective):\n",
        "  return f\"This is {name}'s' first function. {name} is pretty {adjective}, honestly!\""
      ],
      "execution_count": null,
      "outputs": []
    },
    {
      "cell_type": "code",
      "metadata": {
        "id": "KIGlgho8LVu9"
      },
      "source": [
        "print(my_first_function(\"Aaron\", \"proud\"))"
      ],
      "execution_count": null,
      "outputs": []
    },
    {
      "cell_type": "markdown",
      "metadata": {
        "id": "00kBwVl1Ld-6"
      },
      "source": [
        "And... we've just made a MadLib function in Python. Neat!\n",
        "\n",
        "Now let's do something a little more text analytic. Let's go back to the code that we were using to break that text apart:\n",
        "\n",
        "`.lower().replace(\".\", \"\").replace(\",\", \"\").replace(\"-\",\" \").replace(\"—\",\" \").replace(\"  \", \" \").split(\" \")`\n",
        "\n",
        "Let's turn that into a function. For the time being we'll minimize the method chaining so that we're being as clear as possible what's going on."
      ]
    },
    {
      "cell_type": "code",
      "metadata": {
        "id": "TvleWIiYMnjR"
      },
      "source": [
        "def text_to_list(text):\n",
        "  lowercase_text = text.lower()\n",
        "  no_punctuation_text = lowercase_text.replace(\".\", \"\").replace(\",\", \"\").replace(\"-\",\" \").replace(\"—\",\" \").replace(\" \", \" \")\n",
        "  word_list = no_punctuation_text.split(\" \")\n",
        "  return word_list"
      ],
      "execution_count": null,
      "outputs": []
    },
    {
      "cell_type": "markdown",
      "metadata": {
        "id": "IwSONOB0NYWN"
      },
      "source": [
        "Dissecting this, we see a lot of what we already understood spliced into the shell of a function:\n",
        "\n",
        "* `def text_to_list(text):` - This line creates the function name 'text_to_list' and tells Python to expect 1 variable of data - a variable this function will call `text` within the function\n",
        "* `lowercase_text = text.lower()` - This line tells Python to take the text that was passed to the function (in `text`) and convert it to lower case.\n",
        "* The next two lines behave just as if they weren't in a function, they remove the punctuation and split the string into a list of words.\n",
        "* `return word_list` - This tells Python to return the variable `word_list` back to the code that called it.\n",
        "\n",
        "Let's try it out!"
      ]
    },
    {
      "cell_type": "code",
      "metadata": {
        "id": "bRYl0zGyOq2t"
      },
      "source": [
        "print(text_to_list(msft_shareholder_letter))\n",
        "print(text_to_list(ibm_shareholder_letter))\n",
        "print(text_to_list(apple_shareholder_letter))"
      ],
      "execution_count": null,
      "outputs": []
    },
    {
      "cell_type": "markdown",
      "metadata": {
        "id": "qcNO1LnqO5iS"
      },
      "source": [
        "That worked! And see how much cleaner that code is? That's one benefit. Let's experience second benefit as well:\n",
        "\n",
        "You've decided that you want to make everything uppercase instead of lowercase. Because you've created a function, you can do that in just one place and the change will flow through to everywhere you use that function.\n",
        "\n",
        "Try it... \n",
        "* Go back to the function definition above and change `lower()` to `upper()` (don't worry about fixing the variable name to say 'upper' instead of 'lower', I'm not judging your conscientiousness...)\n",
        "* Run the function definition code again, \n",
        "* Then run the code here that uses it. \n",
        "You should see that making one change saved having to do it several times."
      ]
    },
    {
      "cell_type": "markdown",
      "metadata": {
        "id": "QmADuZXGQzpi"
      },
      "source": [
        "To wrap it up, let's put the method chaining back in. We don't need to create all those intermediate variables to do what we're trying to do here..."
      ]
    },
    {
      "cell_type": "code",
      "metadata": {
        "id": "HNiZzcSoRAJG"
      },
      "source": [
        "def text_to_list(text):\n",
        "  return text.lower().replace(\".\", \"\").replace(\",\", \"\").replace(\"-\",\" \").replace(\"—\",\" \").replace(\" \", \" \").split(\" \")\n",
        "\n",
        "print(text_to_list(msft_shareholder_letter))\n",
        "print(text_to_list(ibm_shareholder_letter))\n",
        "print(text_to_list(apple_shareholder_letter))"
      ],
      "execution_count": null,
      "outputs": []
    },
    {
      "cell_type": "markdown",
      "metadata": {
        "id": "usF_axIURHja"
      },
      "source": [
        "And there you have it, you have your own custom text preprocessing function!"
      ]
    },
    {
      "cell_type": "markdown",
      "metadata": {
        "id": "BYx9umFkRVOd"
      },
      "source": [
        "##3.5. Practice Exercises\n",
        "---"
      ]
    },
    {
      "cell_type": "markdown",
      "metadata": {
        "id": "Q3VaQSMHlgP8"
      },
      "source": [
        "3.5.1. I have pre-loaded the string variable `press_release` containing the entirety of a 2019 Apple press release in it below. Please have Python determine how many times the letter mentions the word \"Apple\". \n",
        "* If they mention it 50 or more times, print out \"That's a lot of apples\". \n",
        "* If not, print \"Not so many apples\"."
      ]
    },
    {
      "cell_type": "code",
      "metadata": {
        "id": "g6oJMvvbob5-"
      },
      "source": [
        "press_release = \"January 2, 2019 To Apple investors: Today we are revising our guidance for Apple’s fiscal 2019 first quarter, which ended on December 29. We now expect the following: Revenue of approximately $84 billion Gross margin of approximately 38 percent Operating expenses of approximately $8.7 billion Other income/(expense) of approximately $550 million Tax rate of approximately 16.5 percent before discrete items We expect the number of shares used in computing diluted EPS to be approximately 4.77 billion. Based on these estimates, our revenue will be lower than our original guidance for the quarter, with other items remaining broadly in line with our guidance.  While it will be a number of weeks before we complete and report our final results, we wanted to get some preliminary information to you now. Our final results may differ somewhat from these preliminary estimates.  When we discussed our Q1 guidance with you about 60 days ago, we knew the first quarter would be impacted by both macroeconomic and Apple-specific factors. Based on our best estimates of how these would play out, we predicted that we would report slight revenue growth year-over-year for the quarter. As you may recall, we discussed four factors: First, we knew the different timing of our iPhone launches would affect our year-over-year compares. Our top models, iPhone XS and iPhone XS Max, shipped in Q4’18—placing the channel fill and early sales in that quarter, whereas last year iPhone X shipped in Q1’18, placing the channel fill and early sales in the December quarter. We knew this would create a difficult compare for Q1’19, and this played out broadly in line with our expectations. Second, we knew the strong US dollar would create foreign exchange headwinds and forecasted this would reduce our revenue growth by about 200 basis points as compared to the previous year. This also played out broadly in line with our expectations. Third, we knew we had an unprecedented number of new products to ramp during the quarter and predicted that supply constraints would gate our sales of certain products during Q1. Again, this also played out broadly in line with our expectations. Sales of Apple Watch Series 4 and iPad Pro were constrained much or all of the quarter. AirPods and MacBook Air were also constrained. Fourth, we expected economic weakness in some emerging markets. This turned out to have a significantly greater impact than we had projected.  In addition, these and other factors resulted in fewer iPhone upgrades than we had anticipated.  These last two points have led us to reduce our revenue guidance. I’d like to go a bit deeper on both.  Emerging Market Challenges While we anticipated some challenges in key emerging markets, we did not foresee the magnitude of the economic deceleration, particularly in Greater China. In fact, most of our revenue shortfall to our guidance, and over 100 percent of our year-over-year worldwide revenue decline, occurred in Greater China across iPhone, Mac and iPad. China’s economy began to slow in the second half of 2018. The government-reported GDP growth during the September quarter was the second lowest in the last 25 years. We believe the economic environment in China has been further impacted by rising trade tensions with the United States. As the climate of mounting uncertainty weighed on financial markets, the effects appeared to reach consumers as well, with traffic to our retail stores and our channel partners in China declining as the quarter progressed. And market data has shown that the contraction in Greater China’s smartphone market has been particularly sharp. Despite these challenges, we believe that our business in China has a bright future. The iOS developer community in China is among the most innovative, creative and vibrant in the world. Our products enjoy a strong following among customers, with a very high level of engagement and satisfaction. Our results in China include a new record for Services revenue, and our installed base of devices grew over the last year. We are proud to participate in the Chinese marketplace. iPhone Lower than anticipated iPhone revenue, primarily in Greater China, accounts for all of our revenue shortfall to our guidance and for much more than our entire year-over-year revenue decline. In fact, categories outside of iPhone (Services, Mac, iPad, Wearables/Home/Accessories) combined to grow almost 19 percent year-over-year.  While Greater China and other emerging markets accounted for the vast majority of the year-over-year iPhone revenue decline, in some developed markets, iPhone upgrades also were not as strong as we thought they would be. While macroeconomic challenges in some markets were a key contributor to this trend, we believe there are other factors broadly impacting our iPhone performance, including consumers adapting to a world with fewer carrier subsidies, US dollar strength-related price increases, and some customers taking advantage of significantly reduced pricing for iPhone battery replacements.  Many Positive Results in the December Quarter While it’s disappointing to revise our guidance, our performance in many areas showed remarkable strength in spite of these challenges.  Our installed base of active devices hit a new all-time high—growing by more than 100 million units in 12 months. There are more Apple devices being used than ever before, and it’s a testament to the ongoing loyalty, satisfaction and engagement of our customers.  Also, as I mentioned earlier, revenue outside of our iPhone business grew by almost 19 percent year-over-year, including all-time record revenue from Services, Wearables and Mac. Our non-iPhone businesses have less exposure to emerging markets, and the vast majority of Services revenue is related to the size of the installed base, not current period sales.  Services generated over $10.8 billion in revenue during the quarter, growing to a new quarterly record in every geographic segment, and we are on track to achieve our goal of doubling the size of this business from 2016 to 2020. Wearables grew by almost 50 percent year-over-year, as Apple Watch and AirPods were wildly popular among holiday shoppers; launches of MacBook Air and Mac mini powered the Mac to year-over-year revenue growth and the launch of the new iPad Pro drove iPad to year-over-year double-digit revenue growth.  We also expect to set all-time revenue records in several developed countries, including the United States, Canada, Germany, Italy, Spain, the Netherlands and Korea. And, while we saw challenges in some emerging markets, others set records, including Mexico, Poland, Malaysia and Vietnam. Finally, we also expect to report a new all-time record for Apple’s earnings per share. Looking Ahead Our profitability and cash flow generation are strong, and we expect to exit the quarter with approximately $130 billion in net cash. As we have stated before, we plan to become net-cash neutral over time. As we exit a challenging quarter, we are as confident as ever in the fundamental strength of our business. We manage Apple for the long term, and Apple has always used periods of adversity to re-examine our approach, to take advantage of our culture of flexibility, adaptability and creativity, and to emerge better as a result.  Most importantly, we are confident and excited about our pipeline of future products and services. Apple innovates like no other company on earth, and we are not taking our foot off the gas. We can’t change macroeconomic conditions, but we are undertaking and accelerating other initiatives to improve our results. One such initiative is making it simple to trade in a phone in our stores, finance the purchase over time, and get help transferring data from the current to the new phone. This is not only great for the environment, it is great for the customer, as their existing phone acts as a subsidy for their new phone, and it is great for developers, as it can help grow our installed base.  This is one of a number of steps we are taking to respond. We can make these adjustments because Apple’s strength is in our resilience, the talent and creativity of our team, and the deeply held passion for the work we do every day. Expectations are high for Apple because they should be. We are committed to exceeding those expectations every day. That has always been the Apple way, and it always will be. Tim The information presented in this letter is preliminary and our actual results may differ. Apple plans to discuss final results during our first quarter conference call on Tuesday, January 29, 2019 at 2:00 p.m. PST / 5:00 p.m. EST. This letter contains forward-looking statements, within the meaning of the Private Securities Litigation Reform Act of 1995. These forward-looking statements include without limitation those about Apple’s estimated revenue, gross margin, operating expenses, other income/(expense), tax rate, net cash, share count and plans for return of capital. These statements involve risks and uncertainties, and actual results may differ. Risks and uncertainties include without limitation: the effect of global and regional economic conditions on Apple’s business, including effects on purchasing decisions by consumers and businesses; the ability of Apple to compete in markets that are highly competitive and subject to rapid technological change; the ability of Apple to manage frequent introductions and transitions of products and services, including delivering to the marketplace, and stimulating customer demand for, new products, services and technological innovations on a timely basis; the effect that shifts in the mix of products and services and in the geographic, currency or channel mix, component cost increases, price competition, or the introduction of new products, including new products with higher cost structures, could have on Apple’s gross margin; the dependency of Apple on the performance of distributors of Apple’s products, including cellular network carriers and other resellers; the inventory and other asset risks associated with Apple’s need to order, or commit to order, product components in advance of customer orders; the continued availability on acceptable terms, or at all, of certain components, services and new technologies essential to Apple’s business, including components and technologies that may only be available from single or limited sources; the dependency of Apple on manufacturing and logistics services provided by third parties, many of which are located outside of the US and which may affect the quality, quantity or cost of products manufactured or services rendered to Apple; the effect of product and services design and manufacturing defects on Apple’s financial performance and reputation; the dependency of Apple on third-party intellectual property and digital content, which may not be available to Apple on commercially reasonable terms or at all; the dependency of Apple on support from third-party software developers to develop and maintain software applications and services for Apple’s products; the impact of unfavorable legal proceedings, such as a potential finding that Apple has infringed on the intellectual property rights of others; the impact of changes to laws and regulations that affect Apple’s activities, including Apple’s ability to offer products or services to customers in different regions; the ability of Apple to manage risks associated with its international activities, including complying with laws and regulations affecting Apple’s international operations; the ability of Apple to manage risks associated with Apple’s retail stores; the ability of Apple to manage risks associated with Apple’s investments in new business strategies and acquisitions; the impact on Apple’s business and reputation from information technology system failures, network disruptions or losses or unauthorized access to, or release of, confidential information; the ability of Apple to comply with laws and regulations regarding data protection; the continued service and availability of key executives and employees; political events, international trade disputes, war, terrorism, natural disasters, public health issues, and other business interruptions that could disrupt supply or delivery of, or demand for, Apple’s products; financial risks, including risks relating to currency fluctuations, credit risks and fluctuations in the market value of Apple’s investment portfolio; and changes in tax rates and exposure to additional tax liabilities. More information on these risks and other potential factors that could affect Apple’s financial results is included in Apple’s filings with the SEC, including in the “Risk Factors” and “Management’s Discussion and Analysis of Financial Condition and Results of Operations” sections of Apple’s most recently filed periodic reports on Form 10-K and Form 10-Q and subsequent filings. Apple assumes no obligation to update any forward-looking statements or information, which speak as of their respective dates. Apple revolutionized personal technology with the introduction of the Macintosh in 1984. Today, Apple leads the world in innovation with iPhone, iPad, Mac, Apple Watch and Apple TV. Apple’s four software platforms — iOS, macOS, watchOS and tvOS — provide seamless experiences across all Apple devices and empower people with breakthrough services including the App Store, Apple Music, Apple Pay and iCloud. Apple’s more than 100,000 employees are dedicated to making the best products on earth, and to leaving the world better than we found it.\"\n"
      ],
      "execution_count": null,
      "outputs": []
    },
    {
      "cell_type": "markdown",
      "metadata": {
        "id": "yLaWhQF0t7fw"
      },
      "source": [
        "3.5.2. We're still interested in the frequency with which Apple states the name of the firm, but now we want to factor in the length of the text. That is, the implications of saying \"Apple\" over 50 times in a text of 10,000 words is very different than in a text of 100 words.\n",
        "\n",
        "This time let's look at the number of times they say \"Apple\" divided by the total number of words in the text. For the time being, identify words based on the spaces in the string.\n",
        "\n",
        "Based on this normalized frequency:\n",
        "*   If it is 10% or more, print: \"Apple is approaching approaching Hodor level self-reference.\"\n",
        "*   If it is 5% or more, print: \"They mention themselves a good bit.\"\n",
        "*   If it is 1% or more, print: \"They mention their name a few times.\"\n",
        "*   If anything else, print: \"They do remember their name, right?\"\n",
        "\n"
      ]
    },
    {
      "cell_type": "code",
      "metadata": {
        "id": "klwPVGoyt70u"
      },
      "source": [
        "press_release = \"January 2, 2019 To Apple investors: Today we are revising our guidance for Apple’s fiscal 2019 first quarter, which ended on December 29. We now expect the following: Revenue of approximately $84 billion Gross margin of approximately 38 percent Operating expenses of approximately $8.7 billion Other income/(expense) of approximately $550 million Tax rate of approximately 16.5 percent before discrete items We expect the number of shares used in computing diluted EPS to be approximately 4.77 billion. Based on these estimates, our revenue will be lower than our original guidance for the quarter, with other items remaining broadly in line with our guidance.  While it will be a number of weeks before we complete and report our final results, we wanted to get some preliminary information to you now. Our final results may differ somewhat from these preliminary estimates.  When we discussed our Q1 guidance with you about 60 days ago, we knew the first quarter would be impacted by both macroeconomic and Apple-specific factors. Based on our best estimates of how these would play out, we predicted that we would report slight revenue growth year-over-year for the quarter. As you may recall, we discussed four factors: First, we knew the different timing of our iPhone launches would affect our year-over-year compares. Our top models, iPhone XS and iPhone XS Max, shipped in Q4’18—placing the channel fill and early sales in that quarter, whereas last year iPhone X shipped in Q1’18, placing the channel fill and early sales in the December quarter. We knew this would create a difficult compare for Q1’19, and this played out broadly in line with our expectations. Second, we knew the strong US dollar would create foreign exchange headwinds and forecasted this would reduce our revenue growth by about 200 basis points as compared to the previous year. This also played out broadly in line with our expectations. Third, we knew we had an unprecedented number of new products to ramp during the quarter and predicted that supply constraints would gate our sales of certain products during Q1. Again, this also played out broadly in line with our expectations. Sales of Apple Watch Series 4 and iPad Pro were constrained much or all of the quarter. AirPods and MacBook Air were also constrained. Fourth, we expected economic weakness in some emerging markets. This turned out to have a significantly greater impact than we had projected.  In addition, these and other factors resulted in fewer iPhone upgrades than we had anticipated.  These last two points have led us to reduce our revenue guidance. I’d like to go a bit deeper on both.  Emerging Market Challenges While we anticipated some challenges in key emerging markets, we did not foresee the magnitude of the economic deceleration, particularly in Greater China. In fact, most of our revenue shortfall to our guidance, and over 100 percent of our year-over-year worldwide revenue decline, occurred in Greater China across iPhone, Mac and iPad. China’s economy began to slow in the second half of 2018. The government-reported GDP growth during the September quarter was the second lowest in the last 25 years. We believe the economic environment in China has been further impacted by rising trade tensions with the United States. As the climate of mounting uncertainty weighed on financial markets, the effects appeared to reach consumers as well, with traffic to our retail stores and our channel partners in China declining as the quarter progressed. And market data has shown that the contraction in Greater China’s smartphone market has been particularly sharp. Despite these challenges, we believe that our business in China has a bright future. The iOS developer community in China is among the most innovative, creative and vibrant in the world. Our products enjoy a strong following among customers, with a very high level of engagement and satisfaction. Our results in China include a new record for Services revenue, and our installed base of devices grew over the last year. We are proud to participate in the Chinese marketplace. iPhone Lower than anticipated iPhone revenue, primarily in Greater China, accounts for all of our revenue shortfall to our guidance and for much more than our entire year-over-year revenue decline. In fact, categories outside of iPhone (Services, Mac, iPad, Wearables/Home/Accessories) combined to grow almost 19 percent year-over-year.  While Greater China and other emerging markets accounted for the vast majority of the year-over-year iPhone revenue decline, in some developed markets, iPhone upgrades also were not as strong as we thought they would be. While macroeconomic challenges in some markets were a key contributor to this trend, we believe there are other factors broadly impacting our iPhone performance, including consumers adapting to a world with fewer carrier subsidies, US dollar strength-related price increases, and some customers taking advantage of significantly reduced pricing for iPhone battery replacements.  Many Positive Results in the December Quarter While it’s disappointing to revise our guidance, our performance in many areas showed remarkable strength in spite of these challenges.  Our installed base of active devices hit a new all-time high—growing by more than 100 million units in 12 months. There are more Apple devices being used than ever before, and it’s a testament to the ongoing loyalty, satisfaction and engagement of our customers.  Also, as I mentioned earlier, revenue outside of our iPhone business grew by almost 19 percent year-over-year, including all-time record revenue from Services, Wearables and Mac. Our non-iPhone businesses have less exposure to emerging markets, and the vast majority of Services revenue is related to the size of the installed base, not current period sales.  Services generated over $10.8 billion in revenue during the quarter, growing to a new quarterly record in every geographic segment, and we are on track to achieve our goal of doubling the size of this business from 2016 to 2020. Wearables grew by almost 50 percent year-over-year, as Apple Watch and AirPods were wildly popular among holiday shoppers; launches of MacBook Air and Mac mini powered the Mac to year-over-year revenue growth and the launch of the new iPad Pro drove iPad to year-over-year double-digit revenue growth.  We also expect to set all-time revenue records in several developed countries, including the United States, Canada, Germany, Italy, Spain, the Netherlands and Korea. And, while we saw challenges in some emerging markets, others set records, including Mexico, Poland, Malaysia and Vietnam. Finally, we also expect to report a new all-time record for Apple’s earnings per share. Looking Ahead Our profitability and cash flow generation are strong, and we expect to exit the quarter with approximately $130 billion in net cash. As we have stated before, we plan to become net-cash neutral over time. As we exit a challenging quarter, we are as confident as ever in the fundamental strength of our business. We manage Apple for the long term, and Apple has always used periods of adversity to re-examine our approach, to take advantage of our culture of flexibility, adaptability and creativity, and to emerge better as a result.  Most importantly, we are confident and excited about our pipeline of future products and services. Apple innovates like no other company on earth, and we are not taking our foot off the gas. We can’t change macroeconomic conditions, but we are undertaking and accelerating other initiatives to improve our results. One such initiative is making it simple to trade in a phone in our stores, finance the purchase over time, and get help transferring data from the current to the new phone. This is not only great for the environment, it is great for the customer, as their existing phone acts as a subsidy for their new phone, and it is great for developers, as it can help grow our installed base.  This is one of a number of steps we are taking to respond. We can make these adjustments because Apple’s strength is in our resilience, the talent and creativity of our team, and the deeply held passion for the work we do every day. Expectations are high for Apple because they should be. We are committed to exceeding those expectations every day. That has always been the Apple way, and it always will be. Tim The information presented in this letter is preliminary and our actual results may differ. Apple plans to discuss final results during our first quarter conference call on Tuesday, January 29, 2019 at 2:00 p.m. PST / 5:00 p.m. EST. This letter contains forward-looking statements, within the meaning of the Private Securities Litigation Reform Act of 1995. These forward-looking statements include without limitation those about Apple’s estimated revenue, gross margin, operating expenses, other income/(expense), tax rate, net cash, share count and plans for return of capital. These statements involve risks and uncertainties, and actual results may differ. Risks and uncertainties include without limitation: the effect of global and regional economic conditions on Apple’s business, including effects on purchasing decisions by consumers and businesses; the ability of Apple to compete in markets that are highly competitive and subject to rapid technological change; the ability of Apple to manage frequent introductions and transitions of products and services, including delivering to the marketplace, and stimulating customer demand for, new products, services and technological innovations on a timely basis; the effect that shifts in the mix of products and services and in the geographic, currency or channel mix, component cost increases, price competition, or the introduction of new products, including new products with higher cost structures, could have on Apple’s gross margin; the dependency of Apple on the performance of distributors of Apple’s products, including cellular network carriers and other resellers; the inventory and other asset risks associated with Apple’s need to order, or commit to order, product components in advance of customer orders; the continued availability on acceptable terms, or at all, of certain components, services and new technologies essential to Apple’s business, including components and technologies that may only be available from single or limited sources; the dependency of Apple on manufacturing and logistics services provided by third parties, many of which are located outside of the US and which may affect the quality, quantity or cost of products manufactured or services rendered to Apple; the effect of product and services design and manufacturing defects on Apple’s financial performance and reputation; the dependency of Apple on third-party intellectual property and digital content, which may not be available to Apple on commercially reasonable terms or at all; the dependency of Apple on support from third-party software developers to develop and maintain software applications and services for Apple’s products; the impact of unfavorable legal proceedings, such as a potential finding that Apple has infringed on the intellectual property rights of others; the impact of changes to laws and regulations that affect Apple’s activities, including Apple’s ability to offer products or services to customers in different regions; the ability of Apple to manage risks associated with its international activities, including complying with laws and regulations affecting Apple’s international operations; the ability of Apple to manage risks associated with Apple’s retail stores; the ability of Apple to manage risks associated with Apple’s investments in new business strategies and acquisitions; the impact on Apple’s business and reputation from information technology system failures, network disruptions or losses or unauthorized access to, or release of, confidential information; the ability of Apple to comply with laws and regulations regarding data protection; the continued service and availability of key executives and employees; political events, international trade disputes, war, terrorism, natural disasters, public health issues, and other business interruptions that could disrupt supply or delivery of, or demand for, Apple’s products; financial risks, including risks relating to currency fluctuations, credit risks and fluctuations in the market value of Apple’s investment portfolio; and changes in tax rates and exposure to additional tax liabilities. More information on these risks and other potential factors that could affect Apple’s financial results is included in Apple’s filings with the SEC, including in the “Risk Factors” and “Management’s Discussion and Analysis of Financial Condition and Results of Operations” sections of Apple’s most recently filed periodic reports on Form 10-K and Form 10-Q and subsequent filings. Apple assumes no obligation to update any forward-looking statements or information, which speak as of their respective dates. Apple revolutionized personal technology with the introduction of the Macintosh in 1984. Today, Apple leads the world in innovation with iPhone, iPad, Mac, Apple Watch and Apple TV. Apple’s four software platforms — iOS, macOS, watchOS and tvOS — provide seamless experiences across all Apple devices and empower people with breakthrough services including the App Store, Apple Music, Apple Pay and iCloud. Apple’s more than 100,000 employees are dedicated to making the best products on earth, and to leaving the world better than we found it.\"\n"
      ],
      "execution_count": null,
      "outputs": []
    },
    {
      "cell_type": "markdown",
      "metadata": {
        "id": "DPMgZsxTy4HM"
      },
      "source": [
        "3.5.3. You're exploring other characteristics of the Apple press release. This time, rather than looking at the number of references to the company, we want to look at their attention to the iPad vs iPhone product lines.\n",
        "\n",
        "*   If they mention \"iPad\" at all, your code should print:\n",
        "```\n",
        "Apple mentions the iPad # times\n",
        "This may be a valuable insight to research regarding Apple's product strategy\n",
        "```\n",
        "  *   If Apple mentions \"iPhone\" more frequently than \"iPad\", a third line should be inserted between the above two, noting:\n",
        "```\n",
        "However, they mention the iPhone more frequently\n",
        "```\n",
        "*   If they never mention the \"iPad\", your code should print:\n",
        "`Apple never mentions the iPad`\n",
        "\n",
        "\n",
        "Do not use the `elif` statement or the `and` boolean operator anywhere in your code."
      ]
    },
    {
      "cell_type": "code",
      "metadata": {
        "id": "pZ0DWZ6C7aTP"
      },
      "source": [
        "press_release = \"January 2, 2019 To Apple investors: Today we are revising our guidance for Apple’s fiscal 2019 first quarter, which ended on December 29. We now expect the following: Revenue of approximately $84 billion Gross margin of approximately 38 percent Operating expenses of approximately $8.7 billion Other income/(expense) of approximately $550 million Tax rate of approximately 16.5 percent before discrete items We expect the number of shares used in computing diluted EPS to be approximately 4.77 billion. Based on these estimates, our revenue will be lower than our original guidance for the quarter, with other items remaining broadly in line with our guidance.  While it will be a number of weeks before we complete and report our final results, we wanted to get some preliminary information to you now. Our final results may differ somewhat from these preliminary estimates.  When we discussed our Q1 guidance with you about 60 days ago, we knew the first quarter would be impacted by both macroeconomic and Apple-specific factors. Based on our best estimates of how these would play out, we predicted that we would report slight revenue growth year-over-year for the quarter. As you may recall, we discussed four factors: First, we knew the different timing of our iPhone launches would affect our year-over-year compares. Our top models, iPhone XS and iPhone XS Max, shipped in Q4’18—placing the channel fill and early sales in that quarter, whereas last year iPhone X shipped in Q1’18, placing the channel fill and early sales in the December quarter. We knew this would create a difficult compare for Q1’19, and this played out broadly in line with our expectations. Second, we knew the strong US dollar would create foreign exchange headwinds and forecasted this would reduce our revenue growth by about 200 basis points as compared to the previous year. This also played out broadly in line with our expectations. Third, we knew we had an unprecedented number of new products to ramp during the quarter and predicted that supply constraints would gate our sales of certain products during Q1. Again, this also played out broadly in line with our expectations. Sales of Apple Watch Series 4 and iPad Pro were constrained much or all of the quarter. AirPods and MacBook Air were also constrained. Fourth, we expected economic weakness in some emerging markets. This turned out to have a significantly greater impact than we had projected.  In addition, these and other factors resulted in fewer iPhone upgrades than we had anticipated.  These last two points have led us to reduce our revenue guidance. I’d like to go a bit deeper on both.  Emerging Market Challenges While we anticipated some challenges in key emerging markets, we did not foresee the magnitude of the economic deceleration, particularly in Greater China. In fact, most of our revenue shortfall to our guidance, and over 100 percent of our year-over-year worldwide revenue decline, occurred in Greater China across iPhone, Mac and iPad. China’s economy began to slow in the second half of 2018. The government-reported GDP growth during the September quarter was the second lowest in the last 25 years. We believe the economic environment in China has been further impacted by rising trade tensions with the United States. As the climate of mounting uncertainty weighed on financial markets, the effects appeared to reach consumers as well, with traffic to our retail stores and our channel partners in China declining as the quarter progressed. And market data has shown that the contraction in Greater China’s smartphone market has been particularly sharp. Despite these challenges, we believe that our business in China has a bright future. The iOS developer community in China is among the most innovative, creative and vibrant in the world. Our products enjoy a strong following among customers, with a very high level of engagement and satisfaction. Our results in China include a new record for Services revenue, and our installed base of devices grew over the last year. We are proud to participate in the Chinese marketplace. iPhone Lower than anticipated iPhone revenue, primarily in Greater China, accounts for all of our revenue shortfall to our guidance and for much more than our entire year-over-year revenue decline. In fact, categories outside of iPhone (Services, Mac, iPad, Wearables/Home/Accessories) combined to grow almost 19 percent year-over-year.  While Greater China and other emerging markets accounted for the vast majority of the year-over-year iPhone revenue decline, in some developed markets, iPhone upgrades also were not as strong as we thought they would be. While macroeconomic challenges in some markets were a key contributor to this trend, we believe there are other factors broadly impacting our iPhone performance, including consumers adapting to a world with fewer carrier subsidies, US dollar strength-related price increases, and some customers taking advantage of significantly reduced pricing for iPhone battery replacements.  Many Positive Results in the December Quarter While it’s disappointing to revise our guidance, our performance in many areas showed remarkable strength in spite of these challenges.  Our installed base of active devices hit a new all-time high—growing by more than 100 million units in 12 months. There are more Apple devices being used than ever before, and it’s a testament to the ongoing loyalty, satisfaction and engagement of our customers.  Also, as I mentioned earlier, revenue outside of our iPhone business grew by almost 19 percent year-over-year, including all-time record revenue from Services, Wearables and Mac. Our non-iPhone businesses have less exposure to emerging markets, and the vast majority of Services revenue is related to the size of the installed base, not current period sales.  Services generated over $10.8 billion in revenue during the quarter, growing to a new quarterly record in every geographic segment, and we are on track to achieve our goal of doubling the size of this business from 2016 to 2020. Wearables grew by almost 50 percent year-over-year, as Apple Watch and AirPods were wildly popular among holiday shoppers; launches of MacBook Air and Mac mini powered the Mac to year-over-year revenue growth and the launch of the new iPad Pro drove iPad to year-over-year double-digit revenue growth.  We also expect to set all-time revenue records in several developed countries, including the United States, Canada, Germany, Italy, Spain, the Netherlands and Korea. And, while we saw challenges in some emerging markets, others set records, including Mexico, Poland, Malaysia and Vietnam. Finally, we also expect to report a new all-time record for Apple’s earnings per share. Looking Ahead Our profitability and cash flow generation are strong, and we expect to exit the quarter with approximately $130 billion in net cash. As we have stated before, we plan to become net-cash neutral over time. As we exit a challenging quarter, we are as confident as ever in the fundamental strength of our business. We manage Apple for the long term, and Apple has always used periods of adversity to re-examine our approach, to take advantage of our culture of flexibility, adaptability and creativity, and to emerge better as a result.  Most importantly, we are confident and excited about our pipeline of future products and services. Apple innovates like no other company on earth, and we are not taking our foot off the gas. We can’t change macroeconomic conditions, but we are undertaking and accelerating other initiatives to improve our results. One such initiative is making it simple to trade in a phone in our stores, finance the purchase over time, and get help transferring data from the current to the new phone. This is not only great for the environment, it is great for the customer, as their existing phone acts as a subsidy for their new phone, and it is great for developers, as it can help grow our installed base.  This is one of a number of steps we are taking to respond. We can make these adjustments because Apple’s strength is in our resilience, the talent and creativity of our team, and the deeply held passion for the work we do every day. Expectations are high for Apple because they should be. We are committed to exceeding those expectations every day. That has always been the Apple way, and it always will be. Tim The information presented in this letter is preliminary and our actual results may differ. Apple plans to discuss final results during our first quarter conference call on Tuesday, January 29, 2019 at 2:00 p.m. PST / 5:00 p.m. EST. This letter contains forward-looking statements, within the meaning of the Private Securities Litigation Reform Act of 1995. These forward-looking statements include without limitation those about Apple’s estimated revenue, gross margin, operating expenses, other income/(expense), tax rate, net cash, share count and plans for return of capital. These statements involve risks and uncertainties, and actual results may differ. Risks and uncertainties include without limitation: the effect of global and regional economic conditions on Apple’s business, including effects on purchasing decisions by consumers and businesses; the ability of Apple to compete in markets that are highly competitive and subject to rapid technological change; the ability of Apple to manage frequent introductions and transitions of products and services, including delivering to the marketplace, and stimulating customer demand for, new products, services and technological innovations on a timely basis; the effect that shifts in the mix of products and services and in the geographic, currency or channel mix, component cost increases, price competition, or the introduction of new products, including new products with higher cost structures, could have on Apple’s gross margin; the dependency of Apple on the performance of distributors of Apple’s products, including cellular network carriers and other resellers; the inventory and other asset risks associated with Apple’s need to order, or commit to order, product components in advance of customer orders; the continued availability on acceptable terms, or at all, of certain components, services and new technologies essential to Apple’s business, including components and technologies that may only be available from single or limited sources; the dependency of Apple on manufacturing and logistics services provided by third parties, many of which are located outside of the US and which may affect the quality, quantity or cost of products manufactured or services rendered to Apple; the effect of product and services design and manufacturing defects on Apple’s financial performance and reputation; the dependency of Apple on third-party intellectual property and digital content, which may not be available to Apple on commercially reasonable terms or at all; the dependency of Apple on support from third-party software developers to develop and maintain software applications and services for Apple’s products; the impact of unfavorable legal proceedings, such as a potential finding that Apple has infringed on the intellectual property rights of others; the impact of changes to laws and regulations that affect Apple’s activities, including Apple’s ability to offer products or services to customers in different regions; the ability of Apple to manage risks associated with its international activities, including complying with laws and regulations affecting Apple’s international operations; the ability of Apple to manage risks associated with Apple’s retail stores; the ability of Apple to manage risks associated with Apple’s investments in new business strategies and acquisitions; the impact on Apple’s business and reputation from information technology system failures, network disruptions or losses or unauthorized access to, or release of, confidential information; the ability of Apple to comply with laws and regulations regarding data protection; the continued service and availability of key executives and employees; political events, international trade disputes, war, terrorism, natural disasters, public health issues, and other business interruptions that could disrupt supply or delivery of, or demand for, Apple’s products; financial risks, including risks relating to currency fluctuations, credit risks and fluctuations in the market value of Apple’s investment portfolio; and changes in tax rates and exposure to additional tax liabilities. More information on these risks and other potential factors that could affect Apple’s financial results is included in Apple’s filings with the SEC, including in the “Risk Factors” and “Management’s Discussion and Analysis of Financial Condition and Results of Operations” sections of Apple’s most recently filed periodic reports on Form 10-K and Form 10-Q and subsequent filings. Apple assumes no obligation to update any forward-looking statements or information, which speak as of their respective dates. Apple revolutionized personal technology with the introduction of the Macintosh in 1984. Today, Apple leads the world in innovation with iPhone, iPad, Mac, Apple Watch and Apple TV. Apple’s four software platforms — iOS, macOS, watchOS and tvOS — provide seamless experiences across all Apple devices and empower people with breakthrough services including the App Store, Apple Music, Apple Pay and iCloud. Apple’s more than 100,000 employees are dedicated to making the best products on earth, and to leaving the world better than we found it.\"\n"
      ],
      "execution_count": null,
      "outputs": []
    },
    {
      "cell_type": "markdown",
      "metadata": {
        "id": "E93EDX7l70pR"
      },
      "source": [
        "3.5.4. Use a 'while' loop with a count variable `n` to recreate the text from **The Shining** where Jack Torrance has written \"All work and no play makes Jack a dull boy.\" over and over again many times. To preserve our sanity, let's just do it 20 times in our program.\n",
        "\n",
        "Do not use string multiplication.\n",
        "\n",
        "Extra credit - one version of this in the movie has all of the sentences in one paragraph rather than one sentence per line... try to do that."
      ]
    },
    {
      "cell_type": "code",
      "metadata": {
        "id": "NpQzs4QnACxC"
      },
      "source": [
        ""
      ],
      "execution_count": null,
      "outputs": []
    },
    {
      "cell_type": "markdown",
      "metadata": {
        "id": "av9z0uQTb4Xv"
      },
      "source": [
        "3.5.5. I have preloaded several sentences from the Apple press release into the list variable `apple_pr_sent_list`. Loop through each of these sentences and for each one print out:\n",
        "* The sentence itself\n",
        "* The number of words in the sentence (again, as you did with 3.5.2., use spaces to identify words)\n",
        "* The frequency with which each word is used in that sentence"
      ]
    },
    {
      "cell_type": "code",
      "metadata": {
        "id": "LPRCtVvrjzHH"
      },
      "source": [
        "apple_pr_sent_list = ['first we knew the different timing of our iphone launches would affect our year over year compares','our top models iphone xs and iphone xs max, shipped in q4 18 placing the channel fill and early sales in that quarter whereas last year iphone x shipped in q1 18, placing the channel fill and early sales in the december quarter','we knew this would create a difficult compare for q1 19, and this played out broadly in line with our expectations','second we knew the strong us dollar would create foreign exchange headwinds and forecasted this would reduce our revenue growth by about 200 basis points as compared to the previous year','this also played out broadly in line with our expectations']\n"
      ],
      "execution_count": null,
      "outputs": []
    },
    {
      "cell_type": "markdown",
      "metadata": {
        "id": "icjXDyLOk3o4"
      },
      "source": [
        "3.5.6. Let's say that we're only interested in what Apple has to say about the first quarter. Accordingly we're going to use a rather crude approach of only looking at sentences that mention 'q1' in them. \n",
        "\n",
        "Using only one line of code (beyond what I provide below already), have Python print the list sentences in `apply_pr_sent_list` that contain the word 'q1' in them."
      ]
    },
    {
      "cell_type": "code",
      "metadata": {
        "id": "OFiQDtVrmKyu"
      },
      "source": [
        "apple_pr_sent_list = ['first we knew the different timing of our iphone launches would affect our year over year compares','our top models iphone xs and iphone xs max, shipped in q4 18 placing the channel fill and early sales in that quarter whereas last year iphone x shipped in q1 18, placing the channel fill and early sales in the december quarter','we knew this would create a difficult compare for q1 19, and this played out broadly in line with our expectations','second we knew the strong us dollar would create foreign exchange headwinds and forecasted this would reduce our revenue growth by about 200 basis points as compared to the previous year','this also played out broadly in line with our expectations']\n",
        "\n"
      ],
      "execution_count": null,
      "outputs": []
    },
    {
      "cell_type": "markdown",
      "metadata": {
        "id": "aWjh-m_xq-wL"
      },
      "source": [
        "3.5.7. Create a function called `fun_print()` that accepts a string and an integer as inputs and:\n",
        "\n",
        "*   if the integer is bigger than 10, prints out every other letter in the string\n",
        "*   if the integer is between 6-10, prints out the string that many times (without using string multiplication)\n",
        "*   if the integer is 5 or less, prints out \"Come on, give me a number greater than that\"\n",
        "*   returns nothing back to the code that called it once all the printing is done\n",
        "\n",
        "Test your function with the following:\n",
        "```\n",
        "fun_print(\"HHii  TThheerree!!\", 11)\n",
        "fun_print(\"Spam and eggs\", 7)\n",
        "fun_print(\"Test\", 5)\n",
        "```"
      ]
    },
    {
      "cell_type": "code",
      "metadata": {
        "id": "Y0h-cPDCq_lw"
      },
      "source": [
        ""
      ],
      "execution_count": null,
      "outputs": []
    },
    {
      "cell_type": "markdown",
      "metadata": {
        "id": "fDeK4r7UtKYw"
      },
      "source": [
        "3.5.8. *Text analysis challenger problem*\n",
        "\n",
        "Dictionary-based word count analyses are a simple, yet valuable way of quickly understanding the contents of a text. In dictionary-based word count analyses we have a list of words that we are interested in (i.e., our dictionary) and we count the number of times each of those words appear in the text. However, rather than looking at the frequency of those individual words, if the words are thought to be related to eachother (e.g., they all are indicative of positive sentiment), we may add them together to create a composite score for that overarching construct.\n",
        "\n",
        "Use the techniques discussed in the past three modules to create a function that: \n",
        "\n",
        "* accepts an unprocessed text and a word list as input,\n",
        "* finds the summed score for the passed word list in the passed text, and\n",
        "* returns that summed score to the code that called it.\n",
        "\n",
        "I have provided you below with an unprocessed text and a short list of words that might be associated with 'optimism' in a news article. Use the techniques discussed in the last three modules to find the summed 'optimism' score for this text."
      ]
    },
    {
      "cell_type": "code",
      "metadata": {
        "id": "OahKgxBVwiD-"
      },
      "source": [
        "unprocessed_text = \"DAX Rises On Economic Optimism. German stocks advanced on Friday as strong U.S. economic data and progress on vaccination rollouts helped support hopes of economic recovery. Overnight data showed that the number of Americans filing new claims for unemployment benefits dropped to a one-year low last week and U.S. economy grew at a faster pace than previously estimated in the fourth quarter of 2020. In his first formal news conference, U.S. President Joe Biden promised to deliver 200 million doses of Covid-19 vaccine within his first 100 days in office. Closer home, the headline German IFO Business Climate Index continued to improve and came in at 96.6 in March, up from 92.4 last month. The Current Economic Assessment rose to 93.0 points from 90.6 while the IFO Expectations Index - indicating firms' projections for the next six months, climbed to 100.4 from 94.2. The benchmark DAX climbed 110 points, or 0.8 percent, to 14,731 after closing up 0.1 percent on Thursday.\"\n",
        "optimism_dictionary = ['optimism', 'optimistic', 'optimists', 'optimist', 'hope', 'hopes', 'improve', 'improved', 'improving']\n"
      ],
      "execution_count": null,
      "outputs": []
    },
    {
      "cell_type": "markdown",
      "metadata": {
        "id": "hQvdCLrXRZlR"
      },
      "source": [
        "##3.6. Hints for Practice Exercises\n",
        "---\n"
      ]
    },
    {
      "cell_type": "markdown",
      "metadata": {
        "id": "2pqKD1cCslYS"
      },
      "source": [
        "3.5.1. I have pre-loaded the string variable `press_release` containing the entirety of a 2019 Apple press release in it below. Please have Python determine how many times the letter mentions the word \"Apple\". \n",
        "* If they mention it 50 or more times, print out \"That's a lot of apples\". \n",
        "* If not, print \"Not so many apples\".\n",
        "\n",
        "Hints:\n",
        "\n",
        "*   The string `count()` method counts the number of times a substring appears within a string\n",
        "*   The `if` statement sets up an conditional code block\n",
        "*   The `else` statement sets up a code block that is executed when the `if` statement (and any subsequent `elif` statements) were not triggered\n",
        "\n"
      ]
    },
    {
      "cell_type": "markdown",
      "metadata": {
        "id": "bAcYzrdIx00z"
      },
      "source": [
        "3.5.2. Let's continue using Apple's `press_release`. This time let's look at the number of times they say \"Apple\" divided by the total number of words in the text. For the time being, identify words based on the spaces in the string.\n",
        "\n",
        "Based on this normalized frequency:\n",
        "*   If it is 10% or more, print: \"Apple is approaching approaching Hodor level self-reference.\"\n",
        "*   If it is 5% or more, print: \"They mention themselves a good bit.\"\n",
        "*   If it is 1% or more, print: \"They mention their name a few times.\"\n",
        "*   If anything else, print: \"They do remember their name, right?\"\n",
        "\n",
        "Hints:\n",
        "\n",
        "* Either `split()` or `count()` produce valuable information for identifying the number of words if all we care about are spaces.\n",
        "* Whenever you would say 'otherwise, if this other thing is true then\" in English, you're looking at an `elif` statement\n",
        "* You can probably copy your solution from 3.5.1 to use as a starting point"
      ]
    },
    {
      "cell_type": "markdown",
      "metadata": {
        "id": "cxLUElf15QjY"
      },
      "source": [
        "3.5.3. You're exploring other characteristics of the Apple press release. This time, rather than looking at the number of references to the company, we want to look at their attention to the iPad vs iPhone product lines.\n",
        "\n",
        "*   If they mention \"iPad\" at all, your code should print:\n",
        "```\n",
        "Apple mentions the iPad # times\n",
        "This may be a valuable insight to research regarding Apple's product strategy\n",
        "```\n",
        "  *   If Apple mentions \"iPhone\" more frequently than \"iPad\", a third line should be inserted between the above two, noting:\n",
        "```\n",
        "However, they mention the iPhone more frequently\n",
        "```\n",
        "*   If they never mention the \"iPad\", your code should print:\n",
        "`Apple never mentions the iPad`\n",
        "\n",
        "\n",
        "Do not use the `elif` statement or the `and` boolean operator anywhere in your code.\n",
        "\n",
        "Hints:\n",
        "* The `in` boolean operator will tell you if a string is contained within another string.\n",
        "* Nested if statements will only be evaluated when the first if statement is true\n"
      ]
    },
    {
      "cell_type": "markdown",
      "metadata": {
        "id": "-iSlPY7e9OiE"
      },
      "source": [
        "3.5.4. Use a 'while' loop with a count variable `n` to recreate the text from **The Shining** where Jack Torrance has written \"All work and no play makes Jack a dull boy.\" over and over again many times. To preserve our sanity, let's just do it 20 times in our program.\n",
        "\n",
        "Do not use string multiplication.\n",
        "\n",
        "Extra credit - one version of this in the movie has all of the sentences in one paragraph rather than one sentence per line... try to do that.\n",
        "\n",
        "Hints:\n",
        "\n",
        "* There are two ways to accomplish this with a while loop:\n",
        "  * An infinite while loop that is interrupted by `break` when `n` reaches a certain level\n",
        "  * A while loop conditioned on `n` being below a certain level\n",
        "* With `while` loops you have to update the count variable manually, otherwise it will never change and thus never reach the threshold.\n",
        "\n",
        "Extra credit hints: \n",
        "* Option 1: What if instead of printing it multiple times, you just continued to build one longer and longer string that is printed at the end?\n",
        "* Option 2: The print statement (optionally) takes a second piece of data: `end=\"?\"` that tells print what to do after printing. By default this is `end=\"\\n\"` so that after printing it moves to a new line. If you want to make this more like a paragraph (**The Shining** has it both ways), you can change it to:\n",
        "```\n",
        "print(\"All work and no play makes Jack a dull boy.\", end=\" \")\n",
        "```"
      ]
    },
    {
      "cell_type": "markdown",
      "metadata": {
        "id": "DsuoWY7wfb2P"
      },
      "source": [
        "3.5.5. I have preloaded several sentences from the Apple press release into the list variable `apple_pr_sent_list`. Loop through each of these sentences and for each one print out:\n",
        "* The sentence itself\n",
        "* The number of words in the sentence (again, as you did with 3.5.2., use spaces to identify words)\n",
        "* The frequency with which each word is used in that sentence\n",
        "\n",
        "Hints:\n",
        "* `For` loops are valuable when you want to loop once for each element in an iterable (including lists)\n",
        "* The list items right now are strings, but they can be made lists using the `split()` method of strings\n",
        "* Recall that collections.Counter objects can be fed lists of strings and will then contain the count of how many times each word occurred in that list"
      ]
    },
    {
      "cell_type": "markdown",
      "metadata": {
        "id": "0RYo2YtkmJUW"
      },
      "source": [
        "3.5.6. Let's say that we're only interested in what Apple has to say about the first quarter. Accordingly we're going to use a rather crude approach of only looking at sentences that mention 'q1' in them. \n",
        "\n",
        "Using only one line of code (beyond what I provide below already), have Python print the list sentences in `apply_pr_sent_list` that contain the word 'q1' in them.\n",
        "\n",
        "Hints:\n",
        "* List comprehensions are valuable for creating lists from larger lists based on certain conditions\n",
        "* the looping part of list comprehensions should follow the same pattern as you would use if you did this with a `for` loops\n",
        "* the conditional part of list comprehensions should follow the same pattern as you would use if you put an `if` statement inside the `for` loop\n",
        "* the first part of list comprehensions identify what is to be saved in this new list you are creating."
      ]
    },
    {
      "cell_type": "markdown",
      "metadata": {
        "id": "3eUrTo7-noVc"
      },
      "source": [
        "3.5.7. Create a function called `fun_print()` that accepts a string and an integer as inputs and:\n",
        "\n",
        "*   if the integer is bigger than 10, prints out every other letter in the string\n",
        "*   if the integer is between 6-10, prints out the string that many times (without using string multiplication)\n",
        "*   if the integer is 5 or less, prints out \"Come on, give me a number greater than that\"\n",
        "*   returns nothing back to the code that called it once all the printing is done\n",
        "\n",
        "Test your function with the following:\n",
        "```\n",
        "fun_print(\"HHii  TThheerree!!\", 11)\n",
        "fun_print(\"Spam and eggs\", 7)\n",
        "fun_print(\"Test\", 5)\n",
        "```\n",
        "\n",
        "Hints:\n",
        "\n",
        "* Remember that functions' definitions need to occur before they are first called.\n",
        "* The `def` statement tells Python you are defining a function and the parentheses after the function names contain the variable names you want to use for the data that should be provided to the function when called.\n",
        "* You are going to need to use if/elif/else within the function to handle the different scenarios\n",
        "* You'll need to use a loop if the integer is between 6-10 to print out the string that many times\n",
        "  * If you use a for loop, recall that integers are not iterable, but that you can use the `range()` functions with an integer to create something that is.\n",
        "  * If you use a while loop, remember to use a count variable to keep track of how many times you have looped\n",
        "* The `return` statement tells Python what should be sent back to the code that called the function. If nothing should be returned, you can `return None`\n"
      ]
    },
    {
      "cell_type": "markdown",
      "metadata": {
        "id": "r6rYxBb7wjtG"
      },
      "source": [
        "3.5.8. *Text analysis challenger problem*\n",
        "\n",
        "Dictionary-based word count analyses are a simple, yet valuable way of quickly understanding the contents of a text. In dictionary-based word count analyses we have a list of words that we are interested in (i.e., our dictionary) and we count the number of times each of those words appear in the text. However, rather than looking at the frequency of those individual words, if the words are thought to be related to eachother (e.g., they all are indicative of positive sentiment), we may add them together to create a composite score for that overarching construct.\n",
        "\n",
        "Use the techniques discussed in the past three modules to create a function that: \n",
        "\n",
        "* accepts an unprocessed text and a word list as input,\n",
        "* finds the summed score for the passed word list in the passed text, and\n",
        "* returns that summed score to the code that called it.\n",
        "\n",
        "I have provided you below with an unprocessed text and a short list of words that might be associated with 'optimism' in a news article. Use the techniques discussed in the last three modules to find the summed 'optimism' score for this text.\n",
        "\n",
        "Hints:\n",
        "\n",
        "* Build this one step at a time, take one step, test and and make sure it works as you expect it to. Then take the next step. If you try to do it all in one pass, if there's an error it will be more difficult to find.\n",
        "* Remember that Counters are basically special cases of dictionaries where the value is a count, you can access their contents the same way as you can with dictionaries\n",
        "* The basic steps you should take are:\n",
        "  * Create the function definition\n",
        "    * Standardize the unprocessed text (remove punctuation, lowercase, etc)\n",
        "    * Break the standardized text into a list of words\n",
        "    * Create a Counter for the list of words\n",
        "    * Create a variable that will have the running total sum in it, but set it to zero as an initial value\n",
        "    * Loop through the dictionary words and in each loop iteration:\n",
        "      * Find how many times each dictionary word was used in the text\n",
        "      * Add that number to the running total sum\n",
        "    * When the loop ends, return the running total sum\n",
        "  * Call the function with the provided text and word list."
      ]
    },
    {
      "cell_type": "markdown",
      "metadata": {
        "id": "HMiLGENERf2T"
      },
      "source": [
        "##3.7. Solutions to Practice Exercises\n",
        "---"
      ]
    },
    {
      "cell_type": "code",
      "metadata": {
        "id": "yilsIItGtJZo"
      },
      "source": [
        "#3.5.1. Printing based on the count of apples in Apple's shareholder letter\n",
        "press_release = \"January 2, 2019 To Apple investors: Today we are revising our guidance for Apple’s fiscal 2019 first quarter, which ended on December 29. We now expect the following: Revenue of approximately $84 billion Gross margin of approximately 38 percent Operating expenses of approximately $8.7 billion Other income/(expense) of approximately $550 million Tax rate of approximately 16.5 percent before discrete items We expect the number of shares used in computing diluted EPS to be approximately 4.77 billion. Based on these estimates, our revenue will be lower than our original guidance for the quarter, with other items remaining broadly in line with our guidance.  While it will be a number of weeks before we complete and report our final results, we wanted to get some preliminary information to you now. Our final results may differ somewhat from these preliminary estimates.  When we discussed our Q1 guidance with you about 60 days ago, we knew the first quarter would be impacted by both macroeconomic and Apple-specific factors. Based on our best estimates of how these would play out, we predicted that we would report slight revenue growth year-over-year for the quarter. As you may recall, we discussed four factors: First, we knew the different timing of our iPhone launches would affect our year-over-year compares. Our top models, iPhone XS and iPhone XS Max, shipped in Q4’18—placing the channel fill and early sales in that quarter, whereas last year iPhone X shipped in Q1’18, placing the channel fill and early sales in the December quarter. We knew this would create a difficult compare for Q1’19, and this played out broadly in line with our expectations. Second, we knew the strong US dollar would create foreign exchange headwinds and forecasted this would reduce our revenue growth by about 200 basis points as compared to the previous year. This also played out broadly in line with our expectations. Third, we knew we had an unprecedented number of new products to ramp during the quarter and predicted that supply constraints would gate our sales of certain products during Q1. Again, this also played out broadly in line with our expectations. Sales of Apple Watch Series 4 and iPad Pro were constrained much or all of the quarter. AirPods and MacBook Air were also constrained. Fourth, we expected economic weakness in some emerging markets. This turned out to have a significantly greater impact than we had projected.  In addition, these and other factors resulted in fewer iPhone upgrades than we had anticipated.  These last two points have led us to reduce our revenue guidance. I’d like to go a bit deeper on both.  Emerging Market Challenges While we anticipated some challenges in key emerging markets, we did not foresee the magnitude of the economic deceleration, particularly in Greater China. In fact, most of our revenue shortfall to our guidance, and over 100 percent of our year-over-year worldwide revenue decline, occurred in Greater China across iPhone, Mac and iPad. China’s economy began to slow in the second half of 2018. The government-reported GDP growth during the September quarter was the second lowest in the last 25 years. We believe the economic environment in China has been further impacted by rising trade tensions with the United States. As the climate of mounting uncertainty weighed on financial markets, the effects appeared to reach consumers as well, with traffic to our retail stores and our channel partners in China declining as the quarter progressed. And market data has shown that the contraction in Greater China’s smartphone market has been particularly sharp. Despite these challenges, we believe that our business in China has a bright future. The iOS developer community in China is among the most innovative, creative and vibrant in the world. Our products enjoy a strong following among customers, with a very high level of engagement and satisfaction. Our results in China include a new record for Services revenue, and our installed base of devices grew over the last year. We are proud to participate in the Chinese marketplace. iPhone Lower than anticipated iPhone revenue, primarily in Greater China, accounts for all of our revenue shortfall to our guidance and for much more than our entire year-over-year revenue decline. In fact, categories outside of iPhone (Services, Mac, iPad, Wearables/Home/Accessories) combined to grow almost 19 percent year-over-year.  While Greater China and other emerging markets accounted for the vast majority of the year-over-year iPhone revenue decline, in some developed markets, iPhone upgrades also were not as strong as we thought they would be. While macroeconomic challenges in some markets were a key contributor to this trend, we believe there are other factors broadly impacting our iPhone performance, including consumers adapting to a world with fewer carrier subsidies, US dollar strength-related price increases, and some customers taking advantage of significantly reduced pricing for iPhone battery replacements.  Many Positive Results in the December Quarter While it’s disappointing to revise our guidance, our performance in many areas showed remarkable strength in spite of these challenges.  Our installed base of active devices hit a new all-time high—growing by more than 100 million units in 12 months. There are more Apple devices being used than ever before, and it’s a testament to the ongoing loyalty, satisfaction and engagement of our customers.  Also, as I mentioned earlier, revenue outside of our iPhone business grew by almost 19 percent year-over-year, including all-time record revenue from Services, Wearables and Mac. Our non-iPhone businesses have less exposure to emerging markets, and the vast majority of Services revenue is related to the size of the installed base, not current period sales.  Services generated over $10.8 billion in revenue during the quarter, growing to a new quarterly record in every geographic segment, and we are on track to achieve our goal of doubling the size of this business from 2016 to 2020. Wearables grew by almost 50 percent year-over-year, as Apple Watch and AirPods were wildly popular among holiday shoppers; launches of MacBook Air and Mac mini powered the Mac to year-over-year revenue growth and the launch of the new iPad Pro drove iPad to year-over-year double-digit revenue growth.  We also expect to set all-time revenue records in several developed countries, including the United States, Canada, Germany, Italy, Spain, the Netherlands and Korea. And, while we saw challenges in some emerging markets, others set records, including Mexico, Poland, Malaysia and Vietnam. Finally, we also expect to report a new all-time record for Apple’s earnings per share. Looking Ahead Our profitability and cash flow generation are strong, and we expect to exit the quarter with approximately $130 billion in net cash. As we have stated before, we plan to become net-cash neutral over time. As we exit a challenging quarter, we are as confident as ever in the fundamental strength of our business. We manage Apple for the long term, and Apple has always used periods of adversity to re-examine our approach, to take advantage of our culture of flexibility, adaptability and creativity, and to emerge better as a result.  Most importantly, we are confident and excited about our pipeline of future products and services. Apple innovates like no other company on earth, and we are not taking our foot off the gas. We can’t change macroeconomic conditions, but we are undertaking and accelerating other initiatives to improve our results. One such initiative is making it simple to trade in a phone in our stores, finance the purchase over time, and get help transferring data from the current to the new phone. This is not only great for the environment, it is great for the customer, as their existing phone acts as a subsidy for their new phone, and it is great for developers, as it can help grow our installed base.  This is one of a number of steps we are taking to respond. We can make these adjustments because Apple’s strength is in our resilience, the talent and creativity of our team, and the deeply held passion for the work we do every day. Expectations are high for Apple because they should be. We are committed to exceeding those expectations every day. That has always been the Apple way, and it always will be. Tim The information presented in this letter is preliminary and our actual results may differ. Apple plans to discuss final results during our first quarter conference call on Tuesday, January 29, 2019 at 2:00 p.m. PST / 5:00 p.m. EST. This letter contains forward-looking statements, within the meaning of the Private Securities Litigation Reform Act of 1995. These forward-looking statements include without limitation those about Apple’s estimated revenue, gross margin, operating expenses, other income/(expense), tax rate, net cash, share count and plans for return of capital. These statements involve risks and uncertainties, and actual results may differ. Risks and uncertainties include without limitation: the effect of global and regional economic conditions on Apple’s business, including effects on purchasing decisions by consumers and businesses; the ability of Apple to compete in markets that are highly competitive and subject to rapid technological change; the ability of Apple to manage frequent introductions and transitions of products and services, including delivering to the marketplace, and stimulating customer demand for, new products, services and technological innovations on a timely basis; the effect that shifts in the mix of products and services and in the geographic, currency or channel mix, component cost increases, price competition, or the introduction of new products, including new products with higher cost structures, could have on Apple’s gross margin; the dependency of Apple on the performance of distributors of Apple’s products, including cellular network carriers and other resellers; the inventory and other asset risks associated with Apple’s need to order, or commit to order, product components in advance of customer orders; the continued availability on acceptable terms, or at all, of certain components, services and new technologies essential to Apple’s business, including components and technologies that may only be available from single or limited sources; the dependency of Apple on manufacturing and logistics services provided by third parties, many of which are located outside of the US and which may affect the quality, quantity or cost of products manufactured or services rendered to Apple; the effect of product and services design and manufacturing defects on Apple’s financial performance and reputation; the dependency of Apple on third-party intellectual property and digital content, which may not be available to Apple on commercially reasonable terms or at all; the dependency of Apple on support from third-party software developers to develop and maintain software applications and services for Apple’s products; the impact of unfavorable legal proceedings, such as a potential finding that Apple has infringed on the intellectual property rights of others; the impact of changes to laws and regulations that affect Apple’s activities, including Apple’s ability to offer products or services to customers in different regions; the ability of Apple to manage risks associated with its international activities, including complying with laws and regulations affecting Apple’s international operations; the ability of Apple to manage risks associated with Apple’s retail stores; the ability of Apple to manage risks associated with Apple’s investments in new business strategies and acquisitions; the impact on Apple’s business and reputation from information technology system failures, network disruptions or losses or unauthorized access to, or release of, confidential information; the ability of Apple to comply with laws and regulations regarding data protection; the continued service and availability of key executives and employees; political events, international trade disputes, war, terrorism, natural disasters, public health issues, and other business interruptions that could disrupt supply or delivery of, or demand for, Apple’s products; financial risks, including risks relating to currency fluctuations, credit risks and fluctuations in the market value of Apple’s investment portfolio; and changes in tax rates and exposure to additional tax liabilities. More information on these risks and other potential factors that could affect Apple’s financial results is included in Apple’s filings with the SEC, including in the “Risk Factors” and “Management’s Discussion and Analysis of Financial Condition and Results of Operations” sections of Apple’s most recently filed periodic reports on Form 10-K and Form 10-Q and subsequent filings. Apple assumes no obligation to update any forward-looking statements or information, which speak as of their respective dates. Apple revolutionized personal technology with the introduction of the Macintosh in 1984. Today, Apple leads the world in innovation with iPhone, iPad, Mac, Apple Watch and Apple TV. Apple’s four software platforms — iOS, macOS, watchOS and tvOS — provide seamless experiences across all Apple devices and empower people with breakthrough services including the App Store, Apple Music, Apple Pay and iCloud. Apple’s more than 100,000 employees are dedicated to making the best products on earth, and to leaving the world better than we found it.\"\n",
        "\n",
        "num_of_apples = press_release.count(\"Apple\")\n",
        "if num_of_apples >= 50:\n",
        "  print(\"That's a lot of apples\")\n",
        "else:\n",
        "  print(\"Less than fifty... that's not so many apples\")"
      ],
      "execution_count": null,
      "outputs": []
    },
    {
      "cell_type": "code",
      "metadata": {
        "id": "rDXSMJe4vbOH"
      },
      "source": [
        "#3.5.1. Printing based on the normalized count of apples in Apple's shareholder letter\n",
        "press_release = \"January 2, 2019 To Apple investors: Today we are revising our guidance for Apple’s fiscal 2019 first quarter, which ended on December 29. We now expect the following: Revenue of approximately $84 billion Gross margin of approximately 38 percent Operating expenses of approximately $8.7 billion Other income/(expense) of approximately $550 million Tax rate of approximately 16.5 percent before discrete items We expect the number of shares used in computing diluted EPS to be approximately 4.77 billion. Based on these estimates, our revenue will be lower than our original guidance for the quarter, with other items remaining broadly in line with our guidance.  While it will be a number of weeks before we complete and report our final results, we wanted to get some preliminary information to you now. Our final results may differ somewhat from these preliminary estimates.  When we discussed our Q1 guidance with you about 60 days ago, we knew the first quarter would be impacted by both macroeconomic and Apple-specific factors. Based on our best estimates of how these would play out, we predicted that we would report slight revenue growth year-over-year for the quarter. As you may recall, we discussed four factors: First, we knew the different timing of our iPhone launches would affect our year-over-year compares. Our top models, iPhone XS and iPhone XS Max, shipped in Q4’18—placing the channel fill and early sales in that quarter, whereas last year iPhone X shipped in Q1’18, placing the channel fill and early sales in the December quarter. We knew this would create a difficult compare for Q1’19, and this played out broadly in line with our expectations. Second, we knew the strong US dollar would create foreign exchange headwinds and forecasted this would reduce our revenue growth by about 200 basis points as compared to the previous year. This also played out broadly in line with our expectations. Third, we knew we had an unprecedented number of new products to ramp during the quarter and predicted that supply constraints would gate our sales of certain products during Q1. Again, this also played out broadly in line with our expectations. Sales of Apple Watch Series 4 and iPad Pro were constrained much or all of the quarter. AirPods and MacBook Air were also constrained. Fourth, we expected economic weakness in some emerging markets. This turned out to have a significantly greater impact than we had projected.  In addition, these and other factors resulted in fewer iPhone upgrades than we had anticipated.  These last two points have led us to reduce our revenue guidance. I’d like to go a bit deeper on both.  Emerging Market Challenges While we anticipated some challenges in key emerging markets, we did not foresee the magnitude of the economic deceleration, particularly in Greater China. In fact, most of our revenue shortfall to our guidance, and over 100 percent of our year-over-year worldwide revenue decline, occurred in Greater China across iPhone, Mac and iPad. China’s economy began to slow in the second half of 2018. The government-reported GDP growth during the September quarter was the second lowest in the last 25 years. We believe the economic environment in China has been further impacted by rising trade tensions with the United States. As the climate of mounting uncertainty weighed on financial markets, the effects appeared to reach consumers as well, with traffic to our retail stores and our channel partners in China declining as the quarter progressed. And market data has shown that the contraction in Greater China’s smartphone market has been particularly sharp. Despite these challenges, we believe that our business in China has a bright future. The iOS developer community in China is among the most innovative, creative and vibrant in the world. Our products enjoy a strong following among customers, with a very high level of engagement and satisfaction. Our results in China include a new record for Services revenue, and our installed base of devices grew over the last year. We are proud to participate in the Chinese marketplace. iPhone Lower than anticipated iPhone revenue, primarily in Greater China, accounts for all of our revenue shortfall to our guidance and for much more than our entire year-over-year revenue decline. In fact, categories outside of iPhone (Services, Mac, iPad, Wearables/Home/Accessories) combined to grow almost 19 percent year-over-year.  While Greater China and other emerging markets accounted for the vast majority of the year-over-year iPhone revenue decline, in some developed markets, iPhone upgrades also were not as strong as we thought they would be. While macroeconomic challenges in some markets were a key contributor to this trend, we believe there are other factors broadly impacting our iPhone performance, including consumers adapting to a world with fewer carrier subsidies, US dollar strength-related price increases, and some customers taking advantage of significantly reduced pricing for iPhone battery replacements.  Many Positive Results in the December Quarter While it’s disappointing to revise our guidance, our performance in many areas showed remarkable strength in spite of these challenges.  Our installed base of active devices hit a new all-time high—growing by more than 100 million units in 12 months. There are more Apple devices being used than ever before, and it’s a testament to the ongoing loyalty, satisfaction and engagement of our customers.  Also, as I mentioned earlier, revenue outside of our iPhone business grew by almost 19 percent year-over-year, including all-time record revenue from Services, Wearables and Mac. Our non-iPhone businesses have less exposure to emerging markets, and the vast majority of Services revenue is related to the size of the installed base, not current period sales.  Services generated over $10.8 billion in revenue during the quarter, growing to a new quarterly record in every geographic segment, and we are on track to achieve our goal of doubling the size of this business from 2016 to 2020. Wearables grew by almost 50 percent year-over-year, as Apple Watch and AirPods were wildly popular among holiday shoppers; launches of MacBook Air and Mac mini powered the Mac to year-over-year revenue growth and the launch of the new iPad Pro drove iPad to year-over-year double-digit revenue growth.  We also expect to set all-time revenue records in several developed countries, including the United States, Canada, Germany, Italy, Spain, the Netherlands and Korea. And, while we saw challenges in some emerging markets, others set records, including Mexico, Poland, Malaysia and Vietnam. Finally, we also expect to report a new all-time record for Apple’s earnings per share. Looking Ahead Our profitability and cash flow generation are strong, and we expect to exit the quarter with approximately $130 billion in net cash. As we have stated before, we plan to become net-cash neutral over time. As we exit a challenging quarter, we are as confident as ever in the fundamental strength of our business. We manage Apple for the long term, and Apple has always used periods of adversity to re-examine our approach, to take advantage of our culture of flexibility, adaptability and creativity, and to emerge better as a result.  Most importantly, we are confident and excited about our pipeline of future products and services. Apple innovates like no other company on earth, and we are not taking our foot off the gas. We can’t change macroeconomic conditions, but we are undertaking and accelerating other initiatives to improve our results. One such initiative is making it simple to trade in a phone in our stores, finance the purchase over time, and get help transferring data from the current to the new phone. This is not only great for the environment, it is great for the customer, as their existing phone acts as a subsidy for their new phone, and it is great for developers, as it can help grow our installed base.  This is one of a number of steps we are taking to respond. We can make these adjustments because Apple’s strength is in our resilience, the talent and creativity of our team, and the deeply held passion for the work we do every day. Expectations are high for Apple because they should be. We are committed to exceeding those expectations every day. That has always been the Apple way, and it always will be. Tim The information presented in this letter is preliminary and our actual results may differ. Apple plans to discuss final results during our first quarter conference call on Tuesday, January 29, 2019 at 2:00 p.m. PST / 5:00 p.m. EST. This letter contains forward-looking statements, within the meaning of the Private Securities Litigation Reform Act of 1995. These forward-looking statements include without limitation those about Apple’s estimated revenue, gross margin, operating expenses, other income/(expense), tax rate, net cash, share count and plans for return of capital. These statements involve risks and uncertainties, and actual results may differ. Risks and uncertainties include without limitation: the effect of global and regional economic conditions on Apple’s business, including effects on purchasing decisions by consumers and businesses; the ability of Apple to compete in markets that are highly competitive and subject to rapid technological change; the ability of Apple to manage frequent introductions and transitions of products and services, including delivering to the marketplace, and stimulating customer demand for, new products, services and technological innovations on a timely basis; the effect that shifts in the mix of products and services and in the geographic, currency or channel mix, component cost increases, price competition, or the introduction of new products, including new products with higher cost structures, could have on Apple’s gross margin; the dependency of Apple on the performance of distributors of Apple’s products, including cellular network carriers and other resellers; the inventory and other asset risks associated with Apple’s need to order, or commit to order, product components in advance of customer orders; the continued availability on acceptable terms, or at all, of certain components, services and new technologies essential to Apple’s business, including components and technologies that may only be available from single or limited sources; the dependency of Apple on manufacturing and logistics services provided by third parties, many of which are located outside of the US and which may affect the quality, quantity or cost of products manufactured or services rendered to Apple; the effect of product and services design and manufacturing defects on Apple’s financial performance and reputation; the dependency of Apple on third-party intellectual property and digital content, which may not be available to Apple on commercially reasonable terms or at all; the dependency of Apple on support from third-party software developers to develop and maintain software applications and services for Apple’s products; the impact of unfavorable legal proceedings, such as a potential finding that Apple has infringed on the intellectual property rights of others; the impact of changes to laws and regulations that affect Apple’s activities, including Apple’s ability to offer products or services to customers in different regions; the ability of Apple to manage risks associated with its international activities, including complying with laws and regulations affecting Apple’s international operations; the ability of Apple to manage risks associated with Apple’s retail stores; the ability of Apple to manage risks associated with Apple’s investments in new business strategies and acquisitions; the impact on Apple’s business and reputation from information technology system failures, network disruptions or losses or unauthorized access to, or release of, confidential information; the ability of Apple to comply with laws and regulations regarding data protection; the continued service and availability of key executives and employees; political events, international trade disputes, war, terrorism, natural disasters, public health issues, and other business interruptions that could disrupt supply or delivery of, or demand for, Apple’s products; financial risks, including risks relating to currency fluctuations, credit risks and fluctuations in the market value of Apple’s investment portfolio; and changes in tax rates and exposure to additional tax liabilities. More information on these risks and other potential factors that could affect Apple’s financial results is included in Apple’s filings with the SEC, including in the “Risk Factors” and “Management’s Discussion and Analysis of Financial Condition and Results of Operations” sections of Apple’s most recently filed periodic reports on Form 10-K and Form 10-Q and subsequent filings. Apple assumes no obligation to update any forward-looking statements or information, which speak as of their respective dates. Apple revolutionized personal technology with the introduction of the Macintosh in 1984. Today, Apple leads the world in innovation with iPhone, iPad, Mac, Apple Watch and Apple TV. Apple’s four software platforms — iOS, macOS, watchOS and tvOS — provide seamless experiences across all Apple devices and empower people with breakthrough services including the App Store, Apple Music, Apple Pay and iCloud. Apple’s more than 100,000 employees are dedicated to making the best products on earth, and to leaving the world better than we found it.\"\n",
        "\n",
        "num_of_apples = press_release.count(\"Apple\")\n",
        "\n",
        "# Option 1\n",
        "num_of_words = press_release.count(\" \")+1\n",
        "# Option 2\n",
        "list_of_words = press_release.split(\" \")\n",
        "num_of_words = len(list_of_words)\n",
        "\n",
        "normalized_apple_count = num_of_apples/num_of_words\n",
        "\n",
        "if normalized_apple_count > .1:\n",
        "  print(\"Apple is approaching approaching Hodor level self-reference.\")\n",
        "elif normalized_apple_count > .05:\n",
        "  print(\"They mention themselves a good bit.\")\n",
        "elif normalized_apple_count > .01:\n",
        "  print(\"They mention their name a few times.\")\n",
        "else:\n",
        "  print(\"They do remember their name, right?\")"
      ],
      "execution_count": null,
      "outputs": []
    },
    {
      "cell_type": "code",
      "metadata": {
        "id": "TWXXeO422al9"
      },
      "source": [
        "#3.5.3. Comparing iPad and iPhone references\n",
        "press_release = \"January 2, 2019 To Apple investors: Today we are revising our guidance for Apple’s fiscal 2019 first quarter, which ended on December 29. We now expect the following: Revenue of approximately $84 billion Gross margin of approximately 38 percent Operating expenses of approximately $8.7 billion Other income/(expense) of approximately $550 million Tax rate of approximately 16.5 percent before discrete items We expect the number of shares used in computing diluted EPS to be approximately 4.77 billion. Based on these estimates, our revenue will be lower than our original guidance for the quarter, with other items remaining broadly in line with our guidance.  While it will be a number of weeks before we complete and report our final results, we wanted to get some preliminary information to you now. Our final results may differ somewhat from these preliminary estimates.  When we discussed our Q1 guidance with you about 60 days ago, we knew the first quarter would be impacted by both macroeconomic and Apple-specific factors. Based on our best estimates of how these would play out, we predicted that we would report slight revenue growth year-over-year for the quarter. As you may recall, we discussed four factors: First, we knew the different timing of our iPhone launches would affect our year-over-year compares. Our top models, iPhone XS and iPhone XS Max, shipped in Q4’18—placing the channel fill and early sales in that quarter, whereas last year iPhone X shipped in Q1’18, placing the channel fill and early sales in the December quarter. We knew this would create a difficult compare for Q1’19, and this played out broadly in line with our expectations. Second, we knew the strong US dollar would create foreign exchange headwinds and forecasted this would reduce our revenue growth by about 200 basis points as compared to the previous year. This also played out broadly in line with our expectations. Third, we knew we had an unprecedented number of new products to ramp during the quarter and predicted that supply constraints would gate our sales of certain products during Q1. Again, this also played out broadly in line with our expectations. Sales of Apple Watch Series 4 and iPad Pro were constrained much or all of the quarter. AirPods and MacBook Air were also constrained. Fourth, we expected economic weakness in some emerging markets. This turned out to have a significantly greater impact than we had projected.  In addition, these and other factors resulted in fewer iPhone upgrades than we had anticipated.  These last two points have led us to reduce our revenue guidance. I’d like to go a bit deeper on both.  Emerging Market Challenges While we anticipated some challenges in key emerging markets, we did not foresee the magnitude of the economic deceleration, particularly in Greater China. In fact, most of our revenue shortfall to our guidance, and over 100 percent of our year-over-year worldwide revenue decline, occurred in Greater China across iPhone, Mac and iPad. China’s economy began to slow in the second half of 2018. The government-reported GDP growth during the September quarter was the second lowest in the last 25 years. We believe the economic environment in China has been further impacted by rising trade tensions with the United States. As the climate of mounting uncertainty weighed on financial markets, the effects appeared to reach consumers as well, with traffic to our retail stores and our channel partners in China declining as the quarter progressed. And market data has shown that the contraction in Greater China’s smartphone market has been particularly sharp. Despite these challenges, we believe that our business in China has a bright future. The iOS developer community in China is among the most innovative, creative and vibrant in the world. Our products enjoy a strong following among customers, with a very high level of engagement and satisfaction. Our results in China include a new record for Services revenue, and our installed base of devices grew over the last year. We are proud to participate in the Chinese marketplace. iPhone Lower than anticipated iPhone revenue, primarily in Greater China, accounts for all of our revenue shortfall to our guidance and for much more than our entire year-over-year revenue decline. In fact, categories outside of iPhone (Services, Mac, iPad, Wearables/Home/Accessories) combined to grow almost 19 percent year-over-year.  While Greater China and other emerging markets accounted for the vast majority of the year-over-year iPhone revenue decline, in some developed markets, iPhone upgrades also were not as strong as we thought they would be. While macroeconomic challenges in some markets were a key contributor to this trend, we believe there are other factors broadly impacting our iPhone performance, including consumers adapting to a world with fewer carrier subsidies, US dollar strength-related price increases, and some customers taking advantage of significantly reduced pricing for iPhone battery replacements.  Many Positive Results in the December Quarter While it’s disappointing to revise our guidance, our performance in many areas showed remarkable strength in spite of these challenges.  Our installed base of active devices hit a new all-time high—growing by more than 100 million units in 12 months. There are more Apple devices being used than ever before, and it’s a testament to the ongoing loyalty, satisfaction and engagement of our customers.  Also, as I mentioned earlier, revenue outside of our iPhone business grew by almost 19 percent year-over-year, including all-time record revenue from Services, Wearables and Mac. Our non-iPhone businesses have less exposure to emerging markets, and the vast majority of Services revenue is related to the size of the installed base, not current period sales.  Services generated over $10.8 billion in revenue during the quarter, growing to a new quarterly record in every geographic segment, and we are on track to achieve our goal of doubling the size of this business from 2016 to 2020. Wearables grew by almost 50 percent year-over-year, as Apple Watch and AirPods were wildly popular among holiday shoppers; launches of MacBook Air and Mac mini powered the Mac to year-over-year revenue growth and the launch of the new iPad Pro drove iPad to year-over-year double-digit revenue growth.  We also expect to set all-time revenue records in several developed countries, including the United States, Canada, Germany, Italy, Spain, the Netherlands and Korea. And, while we saw challenges in some emerging markets, others set records, including Mexico, Poland, Malaysia and Vietnam. Finally, we also expect to report a new all-time record for Apple’s earnings per share. Looking Ahead Our profitability and cash flow generation are strong, and we expect to exit the quarter with approximately $130 billion in net cash. As we have stated before, we plan to become net-cash neutral over time. As we exit a challenging quarter, we are as confident as ever in the fundamental strength of our business. We manage Apple for the long term, and Apple has always used periods of adversity to re-examine our approach, to take advantage of our culture of flexibility, adaptability and creativity, and to emerge better as a result.  Most importantly, we are confident and excited about our pipeline of future products and services. Apple innovates like no other company on earth, and we are not taking our foot off the gas. We can’t change macroeconomic conditions, but we are undertaking and accelerating other initiatives to improve our results. One such initiative is making it simple to trade in a phone in our stores, finance the purchase over time, and get help transferring data from the current to the new phone. This is not only great for the environment, it is great for the customer, as their existing phone acts as a subsidy for their new phone, and it is great for developers, as it can help grow our installed base.  This is one of a number of steps we are taking to respond. We can make these adjustments because Apple’s strength is in our resilience, the talent and creativity of our team, and the deeply held passion for the work we do every day. Expectations are high for Apple because they should be. We are committed to exceeding those expectations every day. That has always been the Apple way, and it always will be. Tim The information presented in this letter is preliminary and our actual results may differ. Apple plans to discuss final results during our first quarter conference call on Tuesday, January 29, 2019 at 2:00 p.m. PST / 5:00 p.m. EST. This letter contains forward-looking statements, within the meaning of the Private Securities Litigation Reform Act of 1995. These forward-looking statements include without limitation those about Apple’s estimated revenue, gross margin, operating expenses, other income/(expense), tax rate, net cash, share count and plans for return of capital. These statements involve risks and uncertainties, and actual results may differ. Risks and uncertainties include without limitation: the effect of global and regional economic conditions on Apple’s business, including effects on purchasing decisions by consumers and businesses; the ability of Apple to compete in markets that are highly competitive and subject to rapid technological change; the ability of Apple to manage frequent introductions and transitions of products and services, including delivering to the marketplace, and stimulating customer demand for, new products, services and technological innovations on a timely basis; the effect that shifts in the mix of products and services and in the geographic, currency or channel mix, component cost increases, price competition, or the introduction of new products, including new products with higher cost structures, could have on Apple’s gross margin; the dependency of Apple on the performance of distributors of Apple’s products, including cellular network carriers and other resellers; the inventory and other asset risks associated with Apple’s need to order, or commit to order, product components in advance of customer orders; the continued availability on acceptable terms, or at all, of certain components, services and new technologies essential to Apple’s business, including components and technologies that may only be available from single or limited sources; the dependency of Apple on manufacturing and logistics services provided by third parties, many of which are located outside of the US and which may affect the quality, quantity or cost of products manufactured or services rendered to Apple; the effect of product and services design and manufacturing defects on Apple’s financial performance and reputation; the dependency of Apple on third-party intellectual property and digital content, which may not be available to Apple on commercially reasonable terms or at all; the dependency of Apple on support from third-party software developers to develop and maintain software applications and services for Apple’s products; the impact of unfavorable legal proceedings, such as a potential finding that Apple has infringed on the intellectual property rights of others; the impact of changes to laws and regulations that affect Apple’s activities, including Apple’s ability to offer products or services to customers in different regions; the ability of Apple to manage risks associated with its international activities, including complying with laws and regulations affecting Apple’s international operations; the ability of Apple to manage risks associated with Apple’s retail stores; the ability of Apple to manage risks associated with Apple’s investments in new business strategies and acquisitions; the impact on Apple’s business and reputation from information technology system failures, network disruptions or losses or unauthorized access to, or release of, confidential information; the ability of Apple to comply with laws and regulations regarding data protection; the continued service and availability of key executives and employees; political events, international trade disputes, war, terrorism, natural disasters, public health issues, and other business interruptions that could disrupt supply or delivery of, or demand for, Apple’s products; financial risks, including risks relating to currency fluctuations, credit risks and fluctuations in the market value of Apple’s investment portfolio; and changes in tax rates and exposure to additional tax liabilities. More information on these risks and other potential factors that could affect Apple’s financial results is included in Apple’s filings with the SEC, including in the “Risk Factors” and “Management’s Discussion and Analysis of Financial Condition and Results of Operations” sections of Apple’s most recently filed periodic reports on Form 10-K and Form 10-Q and subsequent filings. Apple assumes no obligation to update any forward-looking statements or information, which speak as of their respective dates. Apple revolutionized personal technology with the introduction of the Macintosh in 1984. Today, Apple leads the world in innovation with iPhone, iPad, Mac, Apple Watch and Apple TV. Apple’s four software platforms — iOS, macOS, watchOS and tvOS — provide seamless experiences across all Apple devices and empower people with breakthrough services including the App Store, Apple Music, Apple Pay and iCloud. Apple’s more than 100,000 employees are dedicated to making the best products on earth, and to leaving the world better than we found it.\"\n",
        "\n",
        "iPad_mentions = press_release.count(\"iPad\")\n",
        "if iPad_mentions:\n",
        "  print(f\"Apple mentions the iPad {iPad_mentions} times\")\n",
        "  if press_release.count(\"iPhone\") > iPad_mentions:\n",
        "    print(\"However, they mention the iPhone more frequently\")\n",
        "  print(\"This may be a valuable insight to research regarding Apple's product strategy\")\n",
        "else:\n",
        "  print(\"Apple never mentions the iPad\")"
      ],
      "execution_count": null,
      "outputs": []
    },
    {
      "cell_type": "code",
      "metadata": {
        "id": "p9erH4Dj-50r"
      },
      "source": [
        "#3.5.4. The Shining text\n",
        "\n",
        "# Option 1\n",
        "n = 0\n",
        "while True:\n",
        "  print(\"All work and no play makes Jack a dull boy.\")\n",
        "  n = n + 1\n",
        "  if n == 20:\n",
        "    break\n",
        "\n",
        "# Option 2\n",
        "n = 0\n",
        "while n < 20:\n",
        "  print(\"All work and no play makes Jack a dull boy.\")\n",
        "  n = n + 1\n",
        "\n",
        "# Extra Credit Option 1\n",
        "n = 0\n",
        "jacks_text = \"\"\n",
        "while n < 20:\n",
        "  jacks_text = jacks_text + \"All work and no play makes Jack a dull boy. \"\n",
        "  n = n + 1\n",
        "print(jacks_text)\n",
        "\n",
        "# Extra Credit Option 2\n",
        "n = 0\n",
        "while n < 20:\n",
        "  print(\"All work and no play makes Jack a dull boy.\", end=\" \")\n",
        "  n = n + 1\n"
      ],
      "execution_count": null,
      "outputs": []
    },
    {
      "cell_type": "code",
      "metadata": {
        "id": "eQJvEC_WhZln"
      },
      "source": [
        "#3.5.5. Analyzing a list of sentences\n",
        "from collections import Counter\n",
        "\n",
        "apple_pr_sent_list = ['first we knew the different timing of our iphone launches would affect our year over year compares','our top models iphone xs and iphone xs max, shipped in q4 18 placing the channel fill and early sales in that quarter whereas last year iphone x shipped in q1 18, placing the channel fill and early sales in the december quarter','we knew this would create a difficult compare for q1 19, and this played out broadly in line with our expectations','second we knew the strong us dollar would create foreign exchange headwinds and forecasted this would reduce our revenue growth by about 200 basis points as compared to the previous year','this also played out broadly in line with our expectations']\n",
        "\n",
        "for sentence in apple_pr_sent_list:\n",
        "  print(f\"The sentence is: {sentence}\")\n",
        "  word_list = sentence.split(\" \")\n",
        "  print(f\"The number of words in the sentence is {len(word_list)}\")\n",
        "  word_counter = Counter(word_list)\n",
        "  print(f\"The word counts for the sentence are: {word_counter}\\n\\n\")\n",
        "\n"
      ],
      "execution_count": null,
      "outputs": []
    },
    {
      "cell_type": "code",
      "metadata": {
        "id": "_J9lZ_3MnQrW"
      },
      "source": [
        "#3.5.6. Narrowing a list of sentences using a list comprehension\n",
        "apple_pr_sent_list = ['first we knew the different timing of our iphone launches would affect our year over year compares','our top models iphone xs and iphone xs max, shipped in q4 18 placing the channel fill and early sales in that quarter whereas last year iphone x shipped in q1 18, placing the channel fill and early sales in the december quarter','we knew this would create a difficult compare for q1 19, and this played out broadly in line with our expectations','second we knew the strong us dollar would create foreign exchange headwinds and forecasted this would reduce our revenue growth by about 200 basis points as compared to the previous year','this also played out broadly in line with our expectations']\n",
        "\n",
        "print([sentence for sentence in apple_pr_sent_list if 'q1' in sentence])"
      ],
      "execution_count": null,
      "outputs": []
    },
    {
      "cell_type": "code",
      "metadata": {
        "id": "zt6hHVNjrOOM"
      },
      "source": [
        "# 3.5.7. Defining the fun_print function.\n",
        "\n",
        "def fun_print(word, selection):\n",
        "  if selection > 10:\n",
        "    print(word[::2])\n",
        "  elif selection > 5:\n",
        "    for iteration in range(selection):\n",
        "      print(word)\n",
        "  else:\n",
        "    print(\"Come on, give me a number greater than that\")\n",
        "  return None\n",
        "\n",
        "fun_print(\"HHii  TThheerree!!\", 11)\n",
        "fun_print(\"Spam and eggs\", 7)\n",
        "fun_print(\"Test\", 5)"
      ],
      "execution_count": null,
      "outputs": []
    },
    {
      "cell_type": "code",
      "metadata": {
        "id": "b5ZNreio2Hjk"
      },
      "source": [
        "#3.5.8. Text Analysis Challenger Problem - Dictionary-based word count analysis\n",
        "\n",
        "from collections import Counter\n",
        "\n",
        "unprocessed_text = \"DAX Rises On Economic Optimism. German stocks advanced on Friday as strong U.S. economic data and progress on vaccination rollouts helped support hopes of economic recovery. Overnight data showed that the number of Americans filing new claims for unemployment benefits dropped to a one-year low last week and U.S. economy grew at a faster pace than previously estimated in the fourth quarter of 2020. In his first formal news conference, U.S. President Joe Biden promised to deliver 200 million doses of Covid-19 vaccine within his first 100 days in office. Closer home, the headline German IFO Business Climate Index continued to improve and came in at 96.6 in March, up from 92.4 last month. The Current Economic Assessment rose to 93.0 points from 90.6 while the IFO Expectations Index - indicating firms' projections for the next six months, climbed to 100.4 from 94.2. The benchmark DAX climbed 110 points, or 0.8 percent, to 14,731 after closing up 0.1 percent on Thursday.\"\n",
        "optimism_dictionary = ['optimism', 'optimistic', 'optimists', 'optimist', 'hope', 'hopes', 'improve', 'improved', 'improving']\n",
        "\n",
        "def dictionary_analysis(text, concept_word_list):\n",
        "  text = text.lower() # Change the text to lowercase\n",
        "  text = text.replace(\".\", \"\").replace(\",\", \"\").replace(\"'\", \"\").replace(\"-\", \" \") # Remove punctuation\n",
        "  text_word_list = text.split(\" \") # Break a string into a list of words\n",
        "  word_counter = Counter(text_word_list) # Use a counter object to count the instances of each word in the list\n",
        "  cumul_concept = 0 # Create a concept wordcount accumulator\n",
        "  for word in concept_word_list: #Loop through all dictionary words\n",
        "    cumul_concept = cumul_concept + word_counter.get(word, 0) # Sum up the instances of each dictionary word\n",
        "  return cumul_concept # return the summed count\n",
        "\n",
        "optimism_score = dictionary_analysis(unprocessed_text, optimism_dictionary)\n",
        "print(f\"The text's optimism score is {optimism_score}\")"
      ],
      "execution_count": null,
      "outputs": []
    }
  ]
}